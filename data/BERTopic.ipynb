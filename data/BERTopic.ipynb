{
  "nbformat": 4,
  "nbformat_minor": 0,
  "metadata": {
    "colab": {
      "provenance": [],
      "include_colab_link": true
    },
    "kernelspec": {
      "name": "python3",
      "display_name": "Python 3"
    },
    "accelerator": "GPU",
    "gpuClass": "premium",
    "widgets": {
      "application/vnd.jupyter.widget-state+json": {
        "4c719176ec9b4bd192925b04e9893ba2": {
          "model_module": "@jupyter-widgets/controls",
          "model_name": "HBoxModel",
          "model_module_version": "1.5.0",
          "state": {
            "_dom_classes": [],
            "_model_module": "@jupyter-widgets/controls",
            "_model_module_version": "1.5.0",
            "_model_name": "HBoxModel",
            "_view_count": null,
            "_view_module": "@jupyter-widgets/controls",
            "_view_module_version": "1.5.0",
            "_view_name": "HBoxView",
            "box_style": "",
            "children": [
              "IPY_MODEL_7c24d5428b4843979fb09902c8398fa9",
              "IPY_MODEL_ad8a69cc34fc4011844254401a221bd5",
              "IPY_MODEL_9b3e7c31ef2d474cb52ceab72633d301"
            ],
            "layout": "IPY_MODEL_4ad9b5f00d7941bfa19d7a6579f09bc6"
          }
        },
        "7c24d5428b4843979fb09902c8398fa9": {
          "model_module": "@jupyter-widgets/controls",
          "model_name": "HTMLModel",
          "model_module_version": "1.5.0",
          "state": {
            "_dom_classes": [],
            "_model_module": "@jupyter-widgets/controls",
            "_model_module_version": "1.5.0",
            "_model_name": "HTMLModel",
            "_view_count": null,
            "_view_module": "@jupyter-widgets/controls",
            "_view_module_version": "1.5.0",
            "_view_name": "HTMLView",
            "description": "",
            "description_tooltip": null,
            "layout": "IPY_MODEL_1a0afa2d77c846e6be0bc9f17cd801c7",
            "placeholder": "​",
            "style": "IPY_MODEL_a04681111f01443988947ea2e5e9b656",
            "value": "Batches: 100%"
          }
        },
        "ad8a69cc34fc4011844254401a221bd5": {
          "model_module": "@jupyter-widgets/controls",
          "model_name": "FloatProgressModel",
          "model_module_version": "1.5.0",
          "state": {
            "_dom_classes": [],
            "_model_module": "@jupyter-widgets/controls",
            "_model_module_version": "1.5.0",
            "_model_name": "FloatProgressModel",
            "_view_count": null,
            "_view_module": "@jupyter-widgets/controls",
            "_view_module_version": "1.5.0",
            "_view_name": "ProgressView",
            "bar_style": "success",
            "description": "",
            "description_tooltip": null,
            "layout": "IPY_MODEL_7b12410bc2f2470388022bb978f49e2e",
            "max": 15,
            "min": 0,
            "orientation": "horizontal",
            "style": "IPY_MODEL_9c986bde86eb4a11865f68bddee99f3b",
            "value": 15
          }
        },
        "9b3e7c31ef2d474cb52ceab72633d301": {
          "model_module": "@jupyter-widgets/controls",
          "model_name": "HTMLModel",
          "model_module_version": "1.5.0",
          "state": {
            "_dom_classes": [],
            "_model_module": "@jupyter-widgets/controls",
            "_model_module_version": "1.5.0",
            "_model_name": "HTMLModel",
            "_view_count": null,
            "_view_module": "@jupyter-widgets/controls",
            "_view_module_version": "1.5.0",
            "_view_name": "HTMLView",
            "description": "",
            "description_tooltip": null,
            "layout": "IPY_MODEL_3e82f2df3a924da0913c7276094251cd",
            "placeholder": "​",
            "style": "IPY_MODEL_1dc65f7e105b4d49ae12b7deab5cff63",
            "value": " 15/15 [00:00&lt;00:00, 28.12it/s]"
          }
        },
        "4ad9b5f00d7941bfa19d7a6579f09bc6": {
          "model_module": "@jupyter-widgets/base",
          "model_name": "LayoutModel",
          "model_module_version": "1.2.0",
          "state": {
            "_model_module": "@jupyter-widgets/base",
            "_model_module_version": "1.2.0",
            "_model_name": "LayoutModel",
            "_view_count": null,
            "_view_module": "@jupyter-widgets/base",
            "_view_module_version": "1.2.0",
            "_view_name": "LayoutView",
            "align_content": null,
            "align_items": null,
            "align_self": null,
            "border": null,
            "bottom": null,
            "display": null,
            "flex": null,
            "flex_flow": null,
            "grid_area": null,
            "grid_auto_columns": null,
            "grid_auto_flow": null,
            "grid_auto_rows": null,
            "grid_column": null,
            "grid_gap": null,
            "grid_row": null,
            "grid_template_areas": null,
            "grid_template_columns": null,
            "grid_template_rows": null,
            "height": null,
            "justify_content": null,
            "justify_items": null,
            "left": null,
            "margin": null,
            "max_height": null,
            "max_width": null,
            "min_height": null,
            "min_width": null,
            "object_fit": null,
            "object_position": null,
            "order": null,
            "overflow": null,
            "overflow_x": null,
            "overflow_y": null,
            "padding": null,
            "right": null,
            "top": null,
            "visibility": null,
            "width": null
          }
        },
        "1a0afa2d77c846e6be0bc9f17cd801c7": {
          "model_module": "@jupyter-widgets/base",
          "model_name": "LayoutModel",
          "model_module_version": "1.2.0",
          "state": {
            "_model_module": "@jupyter-widgets/base",
            "_model_module_version": "1.2.0",
            "_model_name": "LayoutModel",
            "_view_count": null,
            "_view_module": "@jupyter-widgets/base",
            "_view_module_version": "1.2.0",
            "_view_name": "LayoutView",
            "align_content": null,
            "align_items": null,
            "align_self": null,
            "border": null,
            "bottom": null,
            "display": null,
            "flex": null,
            "flex_flow": null,
            "grid_area": null,
            "grid_auto_columns": null,
            "grid_auto_flow": null,
            "grid_auto_rows": null,
            "grid_column": null,
            "grid_gap": null,
            "grid_row": null,
            "grid_template_areas": null,
            "grid_template_columns": null,
            "grid_template_rows": null,
            "height": null,
            "justify_content": null,
            "justify_items": null,
            "left": null,
            "margin": null,
            "max_height": null,
            "max_width": null,
            "min_height": null,
            "min_width": null,
            "object_fit": null,
            "object_position": null,
            "order": null,
            "overflow": null,
            "overflow_x": null,
            "overflow_y": null,
            "padding": null,
            "right": null,
            "top": null,
            "visibility": null,
            "width": null
          }
        },
        "a04681111f01443988947ea2e5e9b656": {
          "model_module": "@jupyter-widgets/controls",
          "model_name": "DescriptionStyleModel",
          "model_module_version": "1.5.0",
          "state": {
            "_model_module": "@jupyter-widgets/controls",
            "_model_module_version": "1.5.0",
            "_model_name": "DescriptionStyleModel",
            "_view_count": null,
            "_view_module": "@jupyter-widgets/base",
            "_view_module_version": "1.2.0",
            "_view_name": "StyleView",
            "description_width": ""
          }
        },
        "7b12410bc2f2470388022bb978f49e2e": {
          "model_module": "@jupyter-widgets/base",
          "model_name": "LayoutModel",
          "model_module_version": "1.2.0",
          "state": {
            "_model_module": "@jupyter-widgets/base",
            "_model_module_version": "1.2.0",
            "_model_name": "LayoutModel",
            "_view_count": null,
            "_view_module": "@jupyter-widgets/base",
            "_view_module_version": "1.2.0",
            "_view_name": "LayoutView",
            "align_content": null,
            "align_items": null,
            "align_self": null,
            "border": null,
            "bottom": null,
            "display": null,
            "flex": null,
            "flex_flow": null,
            "grid_area": null,
            "grid_auto_columns": null,
            "grid_auto_flow": null,
            "grid_auto_rows": null,
            "grid_column": null,
            "grid_gap": null,
            "grid_row": null,
            "grid_template_areas": null,
            "grid_template_columns": null,
            "grid_template_rows": null,
            "height": null,
            "justify_content": null,
            "justify_items": null,
            "left": null,
            "margin": null,
            "max_height": null,
            "max_width": null,
            "min_height": null,
            "min_width": null,
            "object_fit": null,
            "object_position": null,
            "order": null,
            "overflow": null,
            "overflow_x": null,
            "overflow_y": null,
            "padding": null,
            "right": null,
            "top": null,
            "visibility": null,
            "width": null
          }
        },
        "9c986bde86eb4a11865f68bddee99f3b": {
          "model_module": "@jupyter-widgets/controls",
          "model_name": "ProgressStyleModel",
          "model_module_version": "1.5.0",
          "state": {
            "_model_module": "@jupyter-widgets/controls",
            "_model_module_version": "1.5.0",
            "_model_name": "ProgressStyleModel",
            "_view_count": null,
            "_view_module": "@jupyter-widgets/base",
            "_view_module_version": "1.2.0",
            "_view_name": "StyleView",
            "bar_color": null,
            "description_width": ""
          }
        },
        "3e82f2df3a924da0913c7276094251cd": {
          "model_module": "@jupyter-widgets/base",
          "model_name": "LayoutModel",
          "model_module_version": "1.2.0",
          "state": {
            "_model_module": "@jupyter-widgets/base",
            "_model_module_version": "1.2.0",
            "_model_name": "LayoutModel",
            "_view_count": null,
            "_view_module": "@jupyter-widgets/base",
            "_view_module_version": "1.2.0",
            "_view_name": "LayoutView",
            "align_content": null,
            "align_items": null,
            "align_self": null,
            "border": null,
            "bottom": null,
            "display": null,
            "flex": null,
            "flex_flow": null,
            "grid_area": null,
            "grid_auto_columns": null,
            "grid_auto_flow": null,
            "grid_auto_rows": null,
            "grid_column": null,
            "grid_gap": null,
            "grid_row": null,
            "grid_template_areas": null,
            "grid_template_columns": null,
            "grid_template_rows": null,
            "height": null,
            "justify_content": null,
            "justify_items": null,
            "left": null,
            "margin": null,
            "max_height": null,
            "max_width": null,
            "min_height": null,
            "min_width": null,
            "object_fit": null,
            "object_position": null,
            "order": null,
            "overflow": null,
            "overflow_x": null,
            "overflow_y": null,
            "padding": null,
            "right": null,
            "top": null,
            "visibility": null,
            "width": null
          }
        },
        "1dc65f7e105b4d49ae12b7deab5cff63": {
          "model_module": "@jupyter-widgets/controls",
          "model_name": "DescriptionStyleModel",
          "model_module_version": "1.5.0",
          "state": {
            "_model_module": "@jupyter-widgets/controls",
            "_model_module_version": "1.5.0",
            "_model_name": "DescriptionStyleModel",
            "_view_count": null,
            "_view_module": "@jupyter-widgets/base",
            "_view_module_version": "1.2.0",
            "_view_name": "StyleView",
            "description_width": ""
          }
        }
      }
    }
  },
  "cells": [
    {
      "cell_type": "markdown",
      "metadata": {
        "id": "view-in-github",
        "colab_type": "text"
      },
      "source": [
        "<a href=\"https://colab.research.google.com/github/daniel-hain/bibliometrics_EIST_2021/blob/master/data/BERTopic.ipynb\" target=\"_parent\"><img src=\"https://colab.research.google.com/assets/colab-badge.svg\" alt=\"Open In Colab\"/></a>"
      ]
    },
    {
      "cell_type": "markdown",
      "metadata": {
        "id": "AXHLDxJdRzBi"
      },
      "source": [
        "# **Tutorial** - Topic Modeling with BERTopic\n",
        "(last updated 01-09-2022)\n",
        "\n",
        "In this tutorial we will be exploring how to use BERTopic to create topics from the well-known 20Newsgroups dataset. The most frequent use-cases and methods are discussed together with important parameters to keep a look out for. \n",
        "\n",
        "\n",
        "## BERTopic\n",
        "BERTopic is a topic modeling technique that leverages 🤗 transformers and a custom class-based TF-IDF to create dense clusters allowing for easily interpretable topics whilst keeping important words in the topic descriptions. \n",
        "\n",
        "<br>\n",
        "\n",
        "<img src=\"https://raw.githubusercontent.com/MaartenGr/BERTopic/master/images/logo.png\" width=\"40%\">"
      ]
    },
    {
      "cell_type": "markdown",
      "metadata": {
        "id": "130PIKarkY1_"
      },
      "source": [
        "# Enabling the GPU\n",
        "\n",
        "First, you'll need to enable GPUs for the notebook:\n",
        "\n",
        "- Navigate to Edit→Notebook Settings\n",
        "- select GPU from the Hardware Accelerator drop-down\n",
        "\n",
        "[Reference](https://colab.research.google.com/notebooks/gpu.ipynb)"
      ]
    },
    {
      "cell_type": "markdown",
      "metadata": {
        "id": "lj2MUI9Mkdxu"
      },
      "source": [
        "# **Installing BERTopic**\n",
        "\n",
        "We start by installing BERTopic from PyPi:"
      ]
    },
    {
      "cell_type": "code",
      "metadata": {
        "id": "SNa-KtKDRnus"
      },
      "source": [
        "%%capture\n",
        "!pip install bertopic"
      ],
      "execution_count": 1,
      "outputs": []
    },
    {
      "cell_type": "code",
      "source": [],
      "metadata": {
        "id": "6PtVM0Kst7eP"
      },
      "execution_count": null,
      "outputs": []
    },
    {
      "cell_type": "markdown",
      "metadata": {
        "id": "0ehO3emgk96g"
      },
      "source": [
        "## Restart the Notebook\n",
        "After installing BERTopic, some packages that were already loaded were updated and in order to correctly use them, we should now restart the notebook.\n",
        "\n",
        "From the Menu:\n",
        "\n",
        "Runtime → Restart Runtime"
      ]
    },
    {
      "cell_type": "code",
      "source": [
        "import pandas as pd"
      ],
      "metadata": {
        "id": "_eDUO1B1ZC_f"
      },
      "execution_count": 1,
      "outputs": []
    },
    {
      "cell_type": "markdown",
      "metadata": {
        "id": "Y3VGFZ1USMTu"
      },
      "source": [
        "# Data\n",
        "For this example, we use the popular 20 Newsgroups dataset which contains roughly 18000 newsgroups posts"
      ]
    },
    {
      "cell_type": "code",
      "metadata": {
        "id": "JJij3WP6SEQD"
      },
      "source": [
        "docs = pd.read_csv(\"https://raw.githubusercontent.com/daniel-hain/bibliometrics_EIST_2021/master/data/data_text.csv\")"
      ],
      "execution_count": 3,
      "outputs": []
    },
    {
      "cell_type": "markdown",
      "metadata": {
        "id": "SBcNmZJzSTY8"
      },
      "source": [
        "# **Topic Modeling**\n",
        "\n",
        "In this example, we will go through the main components of BERTopic and the steps necessary to create a strong topic model. \n",
        "\n",
        "\n"
      ]
    },
    {
      "cell_type": "markdown",
      "metadata": {
        "id": "QI6vwelqnTL-"
      },
      "source": [
        "## Training\n",
        "\n",
        "We start by instantiating BERTopic. We set language to `english` since our documents are in the English language. If you would like to use a multi-lingual model, please use `language=\"multilingual\"` instead. \n",
        "\n",
        "We will also calculate the topic probabilities. However, this can slow down BERTopic significantly at large amounts of data (>100_000 documents). It is advised to turn this off if you want to speed up the model. \n"
      ]
    },
    {
      "cell_type": "code",
      "metadata": {
        "id": "TfhfzqkoSJ1I"
      },
      "source": [
        "from bertopic import BERTopic"
      ],
      "execution_count": 5,
      "outputs": []
    },
    {
      "cell_type": "code",
      "source": [
        "topic_model = BERTopic(language=\"english\", calculate_probabilities=True, verbose=True)\n",
        "topics, probs = topic_model.fit_transform(docs.loc[:,'text'])"
      ],
      "metadata": {
        "id": "CgEYGFPlZW6G",
        "outputId": "0b831de1-4907-4958-ecbd-665537952279",
        "colab": {
          "base_uri": "https://localhost:8080/",
          "height": 102,
          "referenced_widgets": [
            "4c719176ec9b4bd192925b04e9893ba2",
            "7c24d5428b4843979fb09902c8398fa9",
            "ad8a69cc34fc4011844254401a221bd5",
            "9b3e7c31ef2d474cb52ceab72633d301",
            "4ad9b5f00d7941bfa19d7a6579f09bc6",
            "1a0afa2d77c846e6be0bc9f17cd801c7",
            "a04681111f01443988947ea2e5e9b656",
            "7b12410bc2f2470388022bb978f49e2e",
            "9c986bde86eb4a11865f68bddee99f3b",
            "3e82f2df3a924da0913c7276094251cd",
            "1dc65f7e105b4d49ae12b7deab5cff63"
          ]
        }
      },
      "execution_count": 12,
      "outputs": [
        {
          "output_type": "display_data",
          "data": {
            "text/plain": [
              "Batches:   0%|          | 0/15 [00:00<?, ?it/s]"
            ],
            "application/vnd.jupyter.widget-view+json": {
              "version_major": 2,
              "version_minor": 0,
              "model_id": "4c719176ec9b4bd192925b04e9893ba2"
            }
          },
          "metadata": {}
        },
        {
          "output_type": "stream",
          "name": "stderr",
          "text": [
            "2023-01-25 14:51:00,062 - BERTopic - Transformed documents to Embeddings\n",
            "2023-01-25 14:51:03,339 - BERTopic - Reduced dimensionality\n",
            "2023-01-25 14:51:03,952 - BERTopic - Clustered reduced embeddings\n"
          ]
        }
      ]
    },
    {
      "cell_type": "markdown",
      "metadata": {
        "id": "tJs94tXDo4f6"
      },
      "source": [
        "**NOTE**: Use `language=\"multilingual\"` to select a model that support 50+ languages."
      ]
    },
    {
      "cell_type": "markdown",
      "metadata": {
        "id": "A5O3KpHTnVpz"
      },
      "source": [
        "## Extracting Topics\n",
        "After fitting our model, we can start by looking at the results. Typically, we look at the most frequent topics first as they best represent the collection of documents. "
      ]
    },
    {
      "cell_type": "code",
      "metadata": {
        "colab": {
          "base_uri": "https://localhost:8080/",
          "height": 206
        },
        "id": "ScBUgXn06IK6",
        "outputId": "18146928-20d0-4670-eeef-b8b954a235dd"
      },
      "source": [
        "freq = topic_model.get_topic_info(); freq.head(5)"
      ],
      "execution_count": 13,
      "outputs": [
        {
          "output_type": "execute_result",
          "data": {
            "text/plain": [
              "   Topic  Count                         Name\n",
              "0     -1    168             -1_the_and_of_to\n",
              "1      0     67              0_the_of_and_to\n",
              "2      1     46  1_the_and_sustainability_of\n",
              "3      2     42          2_the_energy_and_of\n",
              "4      3     40              3_the_of_in_and"
            ],
            "text/html": [
              "\n",
              "  <div id=\"df-7a045992-14a6-4585-be58-832d31ca7a55\">\n",
              "    <div class=\"colab-df-container\">\n",
              "      <div>\n",
              "<style scoped>\n",
              "    .dataframe tbody tr th:only-of-type {\n",
              "        vertical-align: middle;\n",
              "    }\n",
              "\n",
              "    .dataframe tbody tr th {\n",
              "        vertical-align: top;\n",
              "    }\n",
              "\n",
              "    .dataframe thead th {\n",
              "        text-align: right;\n",
              "    }\n",
              "</style>\n",
              "<table border=\"1\" class=\"dataframe\">\n",
              "  <thead>\n",
              "    <tr style=\"text-align: right;\">\n",
              "      <th></th>\n",
              "      <th>Topic</th>\n",
              "      <th>Count</th>\n",
              "      <th>Name</th>\n",
              "    </tr>\n",
              "  </thead>\n",
              "  <tbody>\n",
              "    <tr>\n",
              "      <th>0</th>\n",
              "      <td>-1</td>\n",
              "      <td>168</td>\n",
              "      <td>-1_the_and_of_to</td>\n",
              "    </tr>\n",
              "    <tr>\n",
              "      <th>1</th>\n",
              "      <td>0</td>\n",
              "      <td>67</td>\n",
              "      <td>0_the_of_and_to</td>\n",
              "    </tr>\n",
              "    <tr>\n",
              "      <th>2</th>\n",
              "      <td>1</td>\n",
              "      <td>46</td>\n",
              "      <td>1_the_and_sustainability_of</td>\n",
              "    </tr>\n",
              "    <tr>\n",
              "      <th>3</th>\n",
              "      <td>2</td>\n",
              "      <td>42</td>\n",
              "      <td>2_the_energy_and_of</td>\n",
              "    </tr>\n",
              "    <tr>\n",
              "      <th>4</th>\n",
              "      <td>3</td>\n",
              "      <td>40</td>\n",
              "      <td>3_the_of_in_and</td>\n",
              "    </tr>\n",
              "  </tbody>\n",
              "</table>\n",
              "</div>\n",
              "      <button class=\"colab-df-convert\" onclick=\"convertToInteractive('df-7a045992-14a6-4585-be58-832d31ca7a55')\"\n",
              "              title=\"Convert this dataframe to an interactive table.\"\n",
              "              style=\"display:none;\">\n",
              "        \n",
              "  <svg xmlns=\"http://www.w3.org/2000/svg\" height=\"24px\"viewBox=\"0 0 24 24\"\n",
              "       width=\"24px\">\n",
              "    <path d=\"M0 0h24v24H0V0z\" fill=\"none\"/>\n",
              "    <path d=\"M18.56 5.44l.94 2.06.94-2.06 2.06-.94-2.06-.94-.94-2.06-.94 2.06-2.06.94zm-11 1L8.5 8.5l.94-2.06 2.06-.94-2.06-.94L8.5 2.5l-.94 2.06-2.06.94zm10 10l.94 2.06.94-2.06 2.06-.94-2.06-.94-.94-2.06-.94 2.06-2.06.94z\"/><path d=\"M17.41 7.96l-1.37-1.37c-.4-.4-.92-.59-1.43-.59-.52 0-1.04.2-1.43.59L10.3 9.45l-7.72 7.72c-.78.78-.78 2.05 0 2.83L4 21.41c.39.39.9.59 1.41.59.51 0 1.02-.2 1.41-.59l7.78-7.78 2.81-2.81c.8-.78.8-2.07 0-2.86zM5.41 20L4 18.59l7.72-7.72 1.47 1.35L5.41 20z\"/>\n",
              "  </svg>\n",
              "      </button>\n",
              "      \n",
              "  <style>\n",
              "    .colab-df-container {\n",
              "      display:flex;\n",
              "      flex-wrap:wrap;\n",
              "      gap: 12px;\n",
              "    }\n",
              "\n",
              "    .colab-df-convert {\n",
              "      background-color: #E8F0FE;\n",
              "      border: none;\n",
              "      border-radius: 50%;\n",
              "      cursor: pointer;\n",
              "      display: none;\n",
              "      fill: #1967D2;\n",
              "      height: 32px;\n",
              "      padding: 0 0 0 0;\n",
              "      width: 32px;\n",
              "    }\n",
              "\n",
              "    .colab-df-convert:hover {\n",
              "      background-color: #E2EBFA;\n",
              "      box-shadow: 0px 1px 2px rgba(60, 64, 67, 0.3), 0px 1px 3px 1px rgba(60, 64, 67, 0.15);\n",
              "      fill: #174EA6;\n",
              "    }\n",
              "\n",
              "    [theme=dark] .colab-df-convert {\n",
              "      background-color: #3B4455;\n",
              "      fill: #D2E3FC;\n",
              "    }\n",
              "\n",
              "    [theme=dark] .colab-df-convert:hover {\n",
              "      background-color: #434B5C;\n",
              "      box-shadow: 0px 1px 3px 1px rgba(0, 0, 0, 0.15);\n",
              "      filter: drop-shadow(0px 1px 2px rgba(0, 0, 0, 0.3));\n",
              "      fill: #FFFFFF;\n",
              "    }\n",
              "  </style>\n",
              "\n",
              "      <script>\n",
              "        const buttonEl =\n",
              "          document.querySelector('#df-7a045992-14a6-4585-be58-832d31ca7a55 button.colab-df-convert');\n",
              "        buttonEl.style.display =\n",
              "          google.colab.kernel.accessAllowed ? 'block' : 'none';\n",
              "\n",
              "        async function convertToInteractive(key) {\n",
              "          const element = document.querySelector('#df-7a045992-14a6-4585-be58-832d31ca7a55');\n",
              "          const dataTable =\n",
              "            await google.colab.kernel.invokeFunction('convertToInteractive',\n",
              "                                                     [key], {});\n",
              "          if (!dataTable) return;\n",
              "\n",
              "          const docLinkHtml = 'Like what you see? Visit the ' +\n",
              "            '<a target=\"_blank\" href=https://colab.research.google.com/notebooks/data_table.ipynb>data table notebook</a>'\n",
              "            + ' to learn more about interactive tables.';\n",
              "          element.innerHTML = '';\n",
              "          dataTable['output_type'] = 'display_data';\n",
              "          await google.colab.output.renderOutput(dataTable, element);\n",
              "          const docLink = document.createElement('div');\n",
              "          docLink.innerHTML = docLinkHtml;\n",
              "          element.appendChild(docLink);\n",
              "        }\n",
              "      </script>\n",
              "    </div>\n",
              "  </div>\n",
              "  "
            ]
          },
          "metadata": {},
          "execution_count": 13
        }
      ]
    },
    {
      "cell_type": "markdown",
      "metadata": {
        "id": "-BtOgifV7Q-H"
      },
      "source": [
        "-1 refers to all outliers and should typically be ignored. Next, let's take a look at a frequent topic that were generated:"
      ]
    },
    {
      "cell_type": "code",
      "metadata": {
        "colab": {
          "base_uri": "https://localhost:8080/"
        },
        "id": "IVpvT4bA6KiN",
        "outputId": "5cc63e0b-b74e-41cc-b1d5-a4c18ee618a0"
      },
      "source": [
        "topic_model.get_topic(0)  # Select the most frequent topic"
      ],
      "execution_count": 14,
      "outputs": [
        {
          "output_type": "execute_result",
          "data": {
            "text/plain": [
              "[('the', 0.04816012202409878),\n",
              " ('of', 0.043975136685373416),\n",
              " ('and', 0.04128465599762049),\n",
              " ('to', 0.03931447272481977),\n",
              " ('in', 0.032798677942728754),\n",
              " ('that', 0.02709315547874713),\n",
              " ('sharing', 0.02653621341170918),\n",
              " ('is', 0.024146796282296268),\n",
              " ('we', 0.023152455249453918),\n",
              " ('electric', 0.022051101320927056)]"
            ]
          },
          "metadata": {},
          "execution_count": 14
        }
      ]
    },
    {
      "cell_type": "markdown",
      "metadata": {
        "id": "ixc-X2JzodrZ"
      },
      "source": [
        "**NOTE**: BERTopic is stocastich which mmeans that the topics might differ across runs. This is mostly due to the stocastisch nature of UMAP."
      ]
    },
    {
      "cell_type": "code",
      "source": [
        "### Attributes"
      ],
      "metadata": {
        "id": "FX_Ngb3PpRFG"
      },
      "execution_count": null,
      "outputs": []
    },
    {
      "cell_type": "markdown",
      "source": [
        "## Attributes\n",
        "\n",
        "There are a number of attributes that you can access after having trained your BERTopic model:\n",
        "\n",
        "\n",
        "| Attribute | Description |\n",
        "|------------------------|---------------------------------------------------------------------------------------------|\n",
        "| topics_               | The topics that are generated for each document after training or updating the topic model. |\n",
        "| probabilities_ | The probabilities that are generated for each document if HDBSCAN is used. |\n",
        "| topic_sizes_           | The size of each topic                                                                      |\n",
        "| topic_mapper_          | A class for tracking topics and their mappings anytime they are merged/reduced.             |\n",
        "| topic_representations_ | The top *n* terms per topic and their respective c-TF-IDF values.                             |\n",
        "| c_tf_idf_              | The topic-term matrix as calculated through c-TF-IDF.                                       |\n",
        "| topic_labels_          | The default labels for each topic.                                                          |\n",
        "| custom_labels_         | Custom labels for each topic as generated through `.set_topic_labels`.                                                               |\n",
        "| topic_embeddings_      | The embeddings for each topic if `embedding_model` was used.                                                              |\n",
        "| representative_docs_   | The representative documents for each topic if HDBSCAN is used.                                                |\n",
        "\n",
        "For example, to access the predicted topics for the first 10 documents, we simply run the following:"
      ],
      "metadata": {
        "id": "j91cP3xBpWDM"
      }
    },
    {
      "cell_type": "code",
      "source": [
        "topic_model.topics_[:10]"
      ],
      "metadata": {
        "id": "uCMHaWVMpbo3",
        "outputId": "c3092d31-30a5-44bf-bc63-2306982ea991",
        "colab": {
          "base_uri": "https://localhost:8080/"
        }
      },
      "execution_count": 15,
      "outputs": [
        {
          "output_type": "execute_result",
          "data": {
            "text/plain": [
              "[1, 0, 1, -1, 1, -1, -1, 0, 10, -1]"
            ]
          },
          "metadata": {},
          "execution_count": 15
        }
      ]
    },
    {
      "cell_type": "markdown",
      "metadata": {
        "id": "UbT2Bd9gqaJ3"
      },
      "source": [
        "# **Visualization**\n",
        "There are several visualization options available in BERTopic, namely the visualization of topics, probabilities and topics over time. Topic modeling is, to a certain extent, quite subjective. Visualizations help understand the topics that were created. "
      ]
    },
    {
      "cell_type": "markdown",
      "metadata": {
        "id": "M8c8LenB8Zyl"
      },
      "source": [
        "## Visualize Topics\n",
        "After having trained our `BERTopic` model, we can iteratively go through perhaps a hundred topic to get a good \n",
        "understanding of the topics that were extract. However, that takes quite some time and lacks a global representation. \n",
        "Instead, we can visualize the topics that were generated in a way very similar to \n",
        "[LDAvis](https://github.com/cpsievert/LDAvis):"
      ]
    },
    {
      "cell_type": "code",
      "metadata": {
        "colab": {
          "base_uri": "https://localhost:8080/",
          "height": 667
        },
        "id": "S9qDqEHddgKq",
        "outputId": "67971291-fb5e-4d6b-e374-1dc6433b25e8"
      },
      "source": [
        "topic_model.visualize_topics()"
      ],
      "execution_count": 16,
      "outputs": [
        {
          "output_type": "display_data",
          "data": {
            "text/html": [
              "<html>\n",
              "<head><meta charset=\"utf-8\" /></head>\n",
              "<body>\n",
              "    <div>            <script src=\"https://cdnjs.cloudflare.com/ajax/libs/mathjax/2.7.5/MathJax.js?config=TeX-AMS-MML_SVG\"></script><script type=\"text/javascript\">if (window.MathJax) {MathJax.Hub.Config({SVG: {font: \"STIX-Web\"}});}</script>                <script type=\"text/javascript\">window.PlotlyConfig = {MathJaxConfig: 'local'};</script>\n",
              "        <script src=\"https://cdn.plot.ly/plotly-2.8.3.min.js\"></script>                <div id=\"cf45b67f-79c1-4311-a049-94dc226bf95d\" class=\"plotly-graph-div\" style=\"height:650px; width:650px;\"></div>            <script type=\"text/javascript\">                                    window.PLOTLYENV=window.PLOTLYENV || {};                                    if (document.getElementById(\"cf45b67f-79c1-4311-a049-94dc226bf95d\")) {                    Plotly.newPlot(                        \"cf45b67f-79c1-4311-a049-94dc226bf95d\",                        [{\"customdata\":[[0,\"the | of | and | to | in\",67],[1,\"the | and | sustainability | of | transitions\",46],[2,\"the | energy | and | of | in\",42],[3,\"the | of | in | and | innovation\",40],[4,\"and | the | of | urban | in\",26],[5,\"to | and | of | the | carbon\",24],[6,\"the | of | in | food | and\",18],[7,\"market | lead | environmental | the | of\",14],[8,\"transitions | transition | and | of | the\",12],[9,\"water | the | in | of | to\",11],[10,\"of | the | niche | and | systems\",11]],\"hovertemplate\":\"<b>Topic %{customdata[0]}</b><br>Words: %{customdata[1]}<br>Size: %{customdata[2]}\",\"legendgroup\":\"\",\"marker\":{\"color\":\"#B0BEC5\",\"size\":[67,46,42,40,26,24,18,14,12,11,11],\"sizemode\":\"area\",\"sizeref\":0.041875,\"symbol\":\"circle\",\"line\":{\"color\":\"DarkSlateGrey\",\"width\":2}},\"mode\":\"markers\",\"name\":\"\",\"orientation\":\"v\",\"showlegend\":false,\"x\":[6.361997604370117,1.5669646263122559,6.429837226867676,7.2570719718933105,2.033966302871704,7.547369480133057,8.271937370300293,6.918622970581055,2.2496109008789062,8.689488410949707,1.3097448348999023],\"xaxis\":\"x\",\"y\":[0.3255157172679901,5.176168441772461,-0.05785605311393738,-0.31169670820236206,5.193912506103516,-0.7894859313964844,-1.30375337600708,-0.8974158763885498,6.112701892852783,-1.6241891384124756,5.413294315338135],\"yaxis\":\"y\",\"type\":\"scatter\"}],                        {\"template\":{\"data\":{\"barpolar\":[{\"marker\":{\"line\":{\"color\":\"white\",\"width\":0.5},\"pattern\":{\"fillmode\":\"overlay\",\"size\":10,\"solidity\":0.2}},\"type\":\"barpolar\"}],\"bar\":[{\"error_x\":{\"color\":\"rgb(36,36,36)\"},\"error_y\":{\"color\":\"rgb(36,36,36)\"},\"marker\":{\"line\":{\"color\":\"white\",\"width\":0.5},\"pattern\":{\"fillmode\":\"overlay\",\"size\":10,\"solidity\":0.2}},\"type\":\"bar\"}],\"carpet\":[{\"aaxis\":{\"endlinecolor\":\"rgb(36,36,36)\",\"gridcolor\":\"white\",\"linecolor\":\"white\",\"minorgridcolor\":\"white\",\"startlinecolor\":\"rgb(36,36,36)\"},\"baxis\":{\"endlinecolor\":\"rgb(36,36,36)\",\"gridcolor\":\"white\",\"linecolor\":\"white\",\"minorgridcolor\":\"white\",\"startlinecolor\":\"rgb(36,36,36)\"},\"type\":\"carpet\"}],\"choropleth\":[{\"colorbar\":{\"outlinewidth\":1,\"tickcolor\":\"rgb(36,36,36)\",\"ticks\":\"outside\"},\"type\":\"choropleth\"}],\"contourcarpet\":[{\"colorbar\":{\"outlinewidth\":1,\"tickcolor\":\"rgb(36,36,36)\",\"ticks\":\"outside\"},\"type\":\"contourcarpet\"}],\"contour\":[{\"colorbar\":{\"outlinewidth\":1,\"tickcolor\":\"rgb(36,36,36)\",\"ticks\":\"outside\"},\"colorscale\":[[0.0,\"#440154\"],[0.1111111111111111,\"#482878\"],[0.2222222222222222,\"#3e4989\"],[0.3333333333333333,\"#31688e\"],[0.4444444444444444,\"#26828e\"],[0.5555555555555556,\"#1f9e89\"],[0.6666666666666666,\"#35b779\"],[0.7777777777777778,\"#6ece58\"],[0.8888888888888888,\"#b5de2b\"],[1.0,\"#fde725\"]],\"type\":\"contour\"}],\"heatmapgl\":[{\"colorbar\":{\"outlinewidth\":1,\"tickcolor\":\"rgb(36,36,36)\",\"ticks\":\"outside\"},\"colorscale\":[[0.0,\"#440154\"],[0.1111111111111111,\"#482878\"],[0.2222222222222222,\"#3e4989\"],[0.3333333333333333,\"#31688e\"],[0.4444444444444444,\"#26828e\"],[0.5555555555555556,\"#1f9e89\"],[0.6666666666666666,\"#35b779\"],[0.7777777777777778,\"#6ece58\"],[0.8888888888888888,\"#b5de2b\"],[1.0,\"#fde725\"]],\"type\":\"heatmapgl\"}],\"heatmap\":[{\"colorbar\":{\"outlinewidth\":1,\"tickcolor\":\"rgb(36,36,36)\",\"ticks\":\"outside\"},\"colorscale\":[[0.0,\"#440154\"],[0.1111111111111111,\"#482878\"],[0.2222222222222222,\"#3e4989\"],[0.3333333333333333,\"#31688e\"],[0.4444444444444444,\"#26828e\"],[0.5555555555555556,\"#1f9e89\"],[0.6666666666666666,\"#35b779\"],[0.7777777777777778,\"#6ece58\"],[0.8888888888888888,\"#b5de2b\"],[1.0,\"#fde725\"]],\"type\":\"heatmap\"}],\"histogram2dcontour\":[{\"colorbar\":{\"outlinewidth\":1,\"tickcolor\":\"rgb(36,36,36)\",\"ticks\":\"outside\"},\"colorscale\":[[0.0,\"#440154\"],[0.1111111111111111,\"#482878\"],[0.2222222222222222,\"#3e4989\"],[0.3333333333333333,\"#31688e\"],[0.4444444444444444,\"#26828e\"],[0.5555555555555556,\"#1f9e89\"],[0.6666666666666666,\"#35b779\"],[0.7777777777777778,\"#6ece58\"],[0.8888888888888888,\"#b5de2b\"],[1.0,\"#fde725\"]],\"type\":\"histogram2dcontour\"}],\"histogram2d\":[{\"colorbar\":{\"outlinewidth\":1,\"tickcolor\":\"rgb(36,36,36)\",\"ticks\":\"outside\"},\"colorscale\":[[0.0,\"#440154\"],[0.1111111111111111,\"#482878\"],[0.2222222222222222,\"#3e4989\"],[0.3333333333333333,\"#31688e\"],[0.4444444444444444,\"#26828e\"],[0.5555555555555556,\"#1f9e89\"],[0.6666666666666666,\"#35b779\"],[0.7777777777777778,\"#6ece58\"],[0.8888888888888888,\"#b5de2b\"],[1.0,\"#fde725\"]],\"type\":\"histogram2d\"}],\"histogram\":[{\"marker\":{\"line\":{\"color\":\"white\",\"width\":0.6}},\"type\":\"histogram\"}],\"mesh3d\":[{\"colorbar\":{\"outlinewidth\":1,\"tickcolor\":\"rgb(36,36,36)\",\"ticks\":\"outside\"},\"type\":\"mesh3d\"}],\"parcoords\":[{\"line\":{\"colorbar\":{\"outlinewidth\":1,\"tickcolor\":\"rgb(36,36,36)\",\"ticks\":\"outside\"}},\"type\":\"parcoords\"}],\"pie\":[{\"automargin\":true,\"type\":\"pie\"}],\"scatter3d\":[{\"line\":{\"colorbar\":{\"outlinewidth\":1,\"tickcolor\":\"rgb(36,36,36)\",\"ticks\":\"outside\"}},\"marker\":{\"colorbar\":{\"outlinewidth\":1,\"tickcolor\":\"rgb(36,36,36)\",\"ticks\":\"outside\"}},\"type\":\"scatter3d\"}],\"scattercarpet\":[{\"marker\":{\"colorbar\":{\"outlinewidth\":1,\"tickcolor\":\"rgb(36,36,36)\",\"ticks\":\"outside\"}},\"type\":\"scattercarpet\"}],\"scattergeo\":[{\"marker\":{\"colorbar\":{\"outlinewidth\":1,\"tickcolor\":\"rgb(36,36,36)\",\"ticks\":\"outside\"}},\"type\":\"scattergeo\"}],\"scattergl\":[{\"marker\":{\"colorbar\":{\"outlinewidth\":1,\"tickcolor\":\"rgb(36,36,36)\",\"ticks\":\"outside\"}},\"type\":\"scattergl\"}],\"scattermapbox\":[{\"marker\":{\"colorbar\":{\"outlinewidth\":1,\"tickcolor\":\"rgb(36,36,36)\",\"ticks\":\"outside\"}},\"type\":\"scattermapbox\"}],\"scatterpolargl\":[{\"marker\":{\"colorbar\":{\"outlinewidth\":1,\"tickcolor\":\"rgb(36,36,36)\",\"ticks\":\"outside\"}},\"type\":\"scatterpolargl\"}],\"scatterpolar\":[{\"marker\":{\"colorbar\":{\"outlinewidth\":1,\"tickcolor\":\"rgb(36,36,36)\",\"ticks\":\"outside\"}},\"type\":\"scatterpolar\"}],\"scatter\":[{\"marker\":{\"colorbar\":{\"outlinewidth\":1,\"tickcolor\":\"rgb(36,36,36)\",\"ticks\":\"outside\"}},\"type\":\"scatter\"}],\"scatterternary\":[{\"marker\":{\"colorbar\":{\"outlinewidth\":1,\"tickcolor\":\"rgb(36,36,36)\",\"ticks\":\"outside\"}},\"type\":\"scatterternary\"}],\"surface\":[{\"colorbar\":{\"outlinewidth\":1,\"tickcolor\":\"rgb(36,36,36)\",\"ticks\":\"outside\"},\"colorscale\":[[0.0,\"#440154\"],[0.1111111111111111,\"#482878\"],[0.2222222222222222,\"#3e4989\"],[0.3333333333333333,\"#31688e\"],[0.4444444444444444,\"#26828e\"],[0.5555555555555556,\"#1f9e89\"],[0.6666666666666666,\"#35b779\"],[0.7777777777777778,\"#6ece58\"],[0.8888888888888888,\"#b5de2b\"],[1.0,\"#fde725\"]],\"type\":\"surface\"}],\"table\":[{\"cells\":{\"fill\":{\"color\":\"rgb(237,237,237)\"},\"line\":{\"color\":\"white\"}},\"header\":{\"fill\":{\"color\":\"rgb(217,217,217)\"},\"line\":{\"color\":\"white\"}},\"type\":\"table\"}]},\"layout\":{\"annotationdefaults\":{\"arrowhead\":0,\"arrowwidth\":1},\"autotypenumbers\":\"strict\",\"coloraxis\":{\"colorbar\":{\"outlinewidth\":1,\"tickcolor\":\"rgb(36,36,36)\",\"ticks\":\"outside\"}},\"colorscale\":{\"diverging\":[[0.0,\"rgb(103,0,31)\"],[0.1,\"rgb(178,24,43)\"],[0.2,\"rgb(214,96,77)\"],[0.3,\"rgb(244,165,130)\"],[0.4,\"rgb(253,219,199)\"],[0.5,\"rgb(247,247,247)\"],[0.6,\"rgb(209,229,240)\"],[0.7,\"rgb(146,197,222)\"],[0.8,\"rgb(67,147,195)\"],[0.9,\"rgb(33,102,172)\"],[1.0,\"rgb(5,48,97)\"]],\"sequential\":[[0.0,\"#440154\"],[0.1111111111111111,\"#482878\"],[0.2222222222222222,\"#3e4989\"],[0.3333333333333333,\"#31688e\"],[0.4444444444444444,\"#26828e\"],[0.5555555555555556,\"#1f9e89\"],[0.6666666666666666,\"#35b779\"],[0.7777777777777778,\"#6ece58\"],[0.8888888888888888,\"#b5de2b\"],[1.0,\"#fde725\"]],\"sequentialminus\":[[0.0,\"#440154\"],[0.1111111111111111,\"#482878\"],[0.2222222222222222,\"#3e4989\"],[0.3333333333333333,\"#31688e\"],[0.4444444444444444,\"#26828e\"],[0.5555555555555556,\"#1f9e89\"],[0.6666666666666666,\"#35b779\"],[0.7777777777777778,\"#6ece58\"],[0.8888888888888888,\"#b5de2b\"],[1.0,\"#fde725\"]]},\"colorway\":[\"#1F77B4\",\"#FF7F0E\",\"#2CA02C\",\"#D62728\",\"#9467BD\",\"#8C564B\",\"#E377C2\",\"#7F7F7F\",\"#BCBD22\",\"#17BECF\"],\"font\":{\"color\":\"rgb(36,36,36)\"},\"geo\":{\"bgcolor\":\"white\",\"lakecolor\":\"white\",\"landcolor\":\"white\",\"showlakes\":true,\"showland\":true,\"subunitcolor\":\"white\"},\"hoverlabel\":{\"align\":\"left\"},\"hovermode\":\"closest\",\"mapbox\":{\"style\":\"light\"},\"paper_bgcolor\":\"white\",\"plot_bgcolor\":\"white\",\"polar\":{\"angularaxis\":{\"gridcolor\":\"rgb(232,232,232)\",\"linecolor\":\"rgb(36,36,36)\",\"showgrid\":false,\"showline\":true,\"ticks\":\"outside\"},\"bgcolor\":\"white\",\"radialaxis\":{\"gridcolor\":\"rgb(232,232,232)\",\"linecolor\":\"rgb(36,36,36)\",\"showgrid\":false,\"showline\":true,\"ticks\":\"outside\"}},\"scene\":{\"xaxis\":{\"backgroundcolor\":\"white\",\"gridcolor\":\"rgb(232,232,232)\",\"gridwidth\":2,\"linecolor\":\"rgb(36,36,36)\",\"showbackground\":true,\"showgrid\":false,\"showline\":true,\"ticks\":\"outside\",\"zeroline\":false,\"zerolinecolor\":\"rgb(36,36,36)\"},\"yaxis\":{\"backgroundcolor\":\"white\",\"gridcolor\":\"rgb(232,232,232)\",\"gridwidth\":2,\"linecolor\":\"rgb(36,36,36)\",\"showbackground\":true,\"showgrid\":false,\"showline\":true,\"ticks\":\"outside\",\"zeroline\":false,\"zerolinecolor\":\"rgb(36,36,36)\"},\"zaxis\":{\"backgroundcolor\":\"white\",\"gridcolor\":\"rgb(232,232,232)\",\"gridwidth\":2,\"linecolor\":\"rgb(36,36,36)\",\"showbackground\":true,\"showgrid\":false,\"showline\":true,\"ticks\":\"outside\",\"zeroline\":false,\"zerolinecolor\":\"rgb(36,36,36)\"}},\"shapedefaults\":{\"fillcolor\":\"black\",\"line\":{\"width\":0},\"opacity\":0.3},\"ternary\":{\"aaxis\":{\"gridcolor\":\"rgb(232,232,232)\",\"linecolor\":\"rgb(36,36,36)\",\"showgrid\":false,\"showline\":true,\"ticks\":\"outside\"},\"baxis\":{\"gridcolor\":\"rgb(232,232,232)\",\"linecolor\":\"rgb(36,36,36)\",\"showgrid\":false,\"showline\":true,\"ticks\":\"outside\"},\"bgcolor\":\"white\",\"caxis\":{\"gridcolor\":\"rgb(232,232,232)\",\"linecolor\":\"rgb(36,36,36)\",\"showgrid\":false,\"showline\":true,\"ticks\":\"outside\"}},\"title\":{\"x\":0.05},\"xaxis\":{\"automargin\":true,\"gridcolor\":\"rgb(232,232,232)\",\"linecolor\":\"rgb(36,36,36)\",\"showgrid\":false,\"showline\":true,\"ticks\":\"outside\",\"title\":{\"standoff\":15},\"zeroline\":false,\"zerolinecolor\":\"rgb(36,36,36)\"},\"yaxis\":{\"automargin\":true,\"gridcolor\":\"rgb(232,232,232)\",\"linecolor\":\"rgb(36,36,36)\",\"showgrid\":false,\"showline\":true,\"ticks\":\"outside\",\"title\":{\"standoff\":15},\"zeroline\":false,\"zerolinecolor\":\"rgb(36,36,36)\"}}},\"xaxis\":{\"anchor\":\"y\",\"domain\":[0.0,1.0],\"title\":{\"text\":\"\"},\"visible\":false,\"range\":[1.113283109664917,9.992911672592163]},\"yaxis\":{\"anchor\":\"x\",\"domain\":[0.0,1.0],\"title\":{\"text\":\"\"},\"visible\":false,\"range\":[-1.867817509174347,7.029607176780701]},\"legend\":{\"tracegroupgap\":0,\"itemsizing\":\"constant\"},\"margin\":{\"t\":60},\"title\":{\"font\":{\"size\":22,\"color\":\"Black\"},\"text\":\"<b>Intertopic Distance Map\",\"y\":0.95,\"x\":0.5,\"xanchor\":\"center\",\"yanchor\":\"top\"},\"hoverlabel\":{\"font\":{\"size\":16,\"family\":\"Rockwell\"},\"bgcolor\":\"white\"},\"width\":650,\"height\":650,\"sliders\":[{\"active\":0,\"pad\":{\"t\":50},\"steps\":[{\"args\":[{\"marker.color\":[[\"red\",\"#B0BEC5\",\"#B0BEC5\",\"#B0BEC5\",\"#B0BEC5\",\"#B0BEC5\",\"#B0BEC5\",\"#B0BEC5\",\"#B0BEC5\",\"#B0BEC5\",\"#B0BEC5\"]]}],\"label\":\"Topic 0\",\"method\":\"update\"},{\"args\":[{\"marker.color\":[[\"#B0BEC5\",\"red\",\"#B0BEC5\",\"#B0BEC5\",\"#B0BEC5\",\"#B0BEC5\",\"#B0BEC5\",\"#B0BEC5\",\"#B0BEC5\",\"#B0BEC5\",\"#B0BEC5\"]]}],\"label\":\"Topic 1\",\"method\":\"update\"},{\"args\":[{\"marker.color\":[[\"#B0BEC5\",\"#B0BEC5\",\"red\",\"#B0BEC5\",\"#B0BEC5\",\"#B0BEC5\",\"#B0BEC5\",\"#B0BEC5\",\"#B0BEC5\",\"#B0BEC5\",\"#B0BEC5\"]]}],\"label\":\"Topic 2\",\"method\":\"update\"},{\"args\":[{\"marker.color\":[[\"#B0BEC5\",\"#B0BEC5\",\"#B0BEC5\",\"red\",\"#B0BEC5\",\"#B0BEC5\",\"#B0BEC5\",\"#B0BEC5\",\"#B0BEC5\",\"#B0BEC5\",\"#B0BEC5\"]]}],\"label\":\"Topic 3\",\"method\":\"update\"},{\"args\":[{\"marker.color\":[[\"#B0BEC5\",\"#B0BEC5\",\"#B0BEC5\",\"#B0BEC5\",\"red\",\"#B0BEC5\",\"#B0BEC5\",\"#B0BEC5\",\"#B0BEC5\",\"#B0BEC5\",\"#B0BEC5\"]]}],\"label\":\"Topic 4\",\"method\":\"update\"},{\"args\":[{\"marker.color\":[[\"#B0BEC5\",\"#B0BEC5\",\"#B0BEC5\",\"#B0BEC5\",\"#B0BEC5\",\"red\",\"#B0BEC5\",\"#B0BEC5\",\"#B0BEC5\",\"#B0BEC5\",\"#B0BEC5\"]]}],\"label\":\"Topic 5\",\"method\":\"update\"},{\"args\":[{\"marker.color\":[[\"#B0BEC5\",\"#B0BEC5\",\"#B0BEC5\",\"#B0BEC5\",\"#B0BEC5\",\"#B0BEC5\",\"red\",\"#B0BEC5\",\"#B0BEC5\",\"#B0BEC5\",\"#B0BEC5\"]]}],\"label\":\"Topic 6\",\"method\":\"update\"},{\"args\":[{\"marker.color\":[[\"#B0BEC5\",\"#B0BEC5\",\"#B0BEC5\",\"#B0BEC5\",\"#B0BEC5\",\"#B0BEC5\",\"#B0BEC5\",\"red\",\"#B0BEC5\",\"#B0BEC5\",\"#B0BEC5\"]]}],\"label\":\"Topic 7\",\"method\":\"update\"},{\"args\":[{\"marker.color\":[[\"#B0BEC5\",\"#B0BEC5\",\"#B0BEC5\",\"#B0BEC5\",\"#B0BEC5\",\"#B0BEC5\",\"#B0BEC5\",\"#B0BEC5\",\"red\",\"#B0BEC5\",\"#B0BEC5\"]]}],\"label\":\"Topic 8\",\"method\":\"update\"},{\"args\":[{\"marker.color\":[[\"#B0BEC5\",\"#B0BEC5\",\"#B0BEC5\",\"#B0BEC5\",\"#B0BEC5\",\"#B0BEC5\",\"#B0BEC5\",\"#B0BEC5\",\"#B0BEC5\",\"red\",\"#B0BEC5\"]]}],\"label\":\"Topic 9\",\"method\":\"update\"},{\"args\":[{\"marker.color\":[[\"#B0BEC5\",\"#B0BEC5\",\"#B0BEC5\",\"#B0BEC5\",\"#B0BEC5\",\"#B0BEC5\",\"#B0BEC5\",\"#B0BEC5\",\"#B0BEC5\",\"#B0BEC5\",\"red\"]]}],\"label\":\"Topic 10\",\"method\":\"update\"}]}],\"shapes\":[{\"line\":{\"color\":\"#CFD8DC\",\"width\":2},\"type\":\"line\",\"x0\":5.5530973911285395,\"x1\":5.5530973911285395,\"y0\":-1.867817509174347,\"y1\":7.029607176780701},{\"line\":{\"color\":\"#9E9E9E\",\"width\":2},\"type\":\"line\",\"x0\":1.113283109664917,\"x1\":9.992911672592163,\"y0\":2.580894833803177,\"y1\":2.580894833803177}],\"annotations\":[{\"showarrow\":false,\"text\":\"D1\",\"x\":1.113283109664917,\"y\":2.580894833803177,\"yshift\":10},{\"showarrow\":false,\"text\":\"D2\",\"x\":5.5530973911285395,\"xshift\":10,\"y\":7.029607176780701}]},                        {\"responsive\": true}                    ).then(function(){\n",
              "                            \n",
              "var gd = document.getElementById('cf45b67f-79c1-4311-a049-94dc226bf95d');\n",
              "var x = new MutationObserver(function (mutations, observer) {{\n",
              "        var display = window.getComputedStyle(gd).display;\n",
              "        if (!display || display === 'none') {{\n",
              "            console.log([gd, 'removed!']);\n",
              "            Plotly.purge(gd);\n",
              "            observer.disconnect();\n",
              "        }}\n",
              "}});\n",
              "\n",
              "// Listen for the removal of the full notebook cells\n",
              "var notebookContainer = gd.closest('#notebook-container');\n",
              "if (notebookContainer) {{\n",
              "    x.observe(notebookContainer, {childList: true});\n",
              "}}\n",
              "\n",
              "// Listen for the clearing of the current output cell\n",
              "var outputEl = gd.closest('.output');\n",
              "if (outputEl) {{\n",
              "    x.observe(outputEl, {childList: true});\n",
              "}}\n",
              "\n",
              "                        })                };                            </script>        </div>\n",
              "</body>\n",
              "</html>"
            ]
          },
          "metadata": {}
        }
      ]
    },
    {
      "cell_type": "markdown",
      "metadata": {
        "id": "ITB7bf6q8nWQ"
      },
      "source": [
        "## Visualize Topic Probabilities\n",
        "\n",
        "The variable `probabilities` that is returned from `transform()` or `fit_transform()` can \n",
        "be used to understand how confident BERTopic is that certain topics can be found in a document. \n",
        "\n",
        "To visualize the distributions, we simply call:"
      ]
    },
    {
      "cell_type": "code",
      "metadata": {
        "colab": {
          "base_uri": "https://localhost:8080/",
          "height": 637
        },
        "id": "ypfI1-KHdmcX",
        "outputId": "95c7deef-9ebe-411f-fe74-c01b88a54811"
      },
      "source": [
        "topic_model.visualize_distribution(probs[200], min_probability=0.015)"
      ],
      "execution_count": 17,
      "outputs": [
        {
          "output_type": "display_data",
          "data": {
            "text/html": [
              "<html>\n",
              "<head><meta charset=\"utf-8\" /></head>\n",
              "<body>\n",
              "    <div>            <script src=\"https://cdnjs.cloudflare.com/ajax/libs/mathjax/2.7.5/MathJax.js?config=TeX-AMS-MML_SVG\"></script><script type=\"text/javascript\">if (window.MathJax) {MathJax.Hub.Config({SVG: {font: \"STIX-Web\"}});}</script>                <script type=\"text/javascript\">window.PlotlyConfig = {MathJaxConfig: 'local'};</script>\n",
              "        <script src=\"https://cdn.plot.ly/plotly-2.8.3.min.js\"></script>                <div id=\"c7ede65c-100a-49ac-b135-2e0a15fd4e16\" class=\"plotly-graph-div\" style=\"height:600px; width:800px;\"></div>            <script type=\"text/javascript\">                                    window.PLOTLYENV=window.PLOTLYENV || {};                                    if (document.getElementById(\"c7ede65c-100a-49ac-b135-2e0a15fd4e16\")) {                    Plotly.newPlot(                        \"c7ede65c-100a-49ac-b135-2e0a15fd4e16\",                        [{\"marker\":{\"color\":\"#C8D2D7\",\"line\":{\"color\":\"#6E8484\",\"width\":1}},\"orientation\":\"h\",\"x\":[0.05650421005023736,0.024603304689899005,0.04583808518714894,0.039698905101205405,0.024777772484376428,0.043096061471737404,0.03254519303932042,0.046441301448416406,0.022938860217893445,0.028513499096651344,0.04081305798091782],\"y\":[\"<b>Topic 0</b>: the_of_and_to_in\",\"<b>Topic 1</b>: the_and_sustainability_o...\",\"<b>Topic 2</b>: the_energy_and_of_in\",\"<b>Topic 3</b>: the_of_in_and_innovation\",\"<b>Topic 4</b>: and_the_of_urban_in\",\"<b>Topic 5</b>: to_and_of_the_carbon\",\"<b>Topic 6</b>: the_of_in_food_and\",\"<b>Topic 7</b>: market_lead_environmenta...\",\"<b>Topic 8</b>: transitions_transition_a...\",\"<b>Topic 9</b>: water_the_in_of_to\",\"<b>Topic 10</b>: of_the_niche_and_system...\"],\"type\":\"bar\"}],                        {\"template\":{\"data\":{\"barpolar\":[{\"marker\":{\"line\":{\"color\":\"white\",\"width\":0.5},\"pattern\":{\"fillmode\":\"overlay\",\"size\":10,\"solidity\":0.2}},\"type\":\"barpolar\"}],\"bar\":[{\"error_x\":{\"color\":\"rgb(36,36,36)\"},\"error_y\":{\"color\":\"rgb(36,36,36)\"},\"marker\":{\"line\":{\"color\":\"white\",\"width\":0.5},\"pattern\":{\"fillmode\":\"overlay\",\"size\":10,\"solidity\":0.2}},\"type\":\"bar\"}],\"carpet\":[{\"aaxis\":{\"endlinecolor\":\"rgb(36,36,36)\",\"gridcolor\":\"white\",\"linecolor\":\"white\",\"minorgridcolor\":\"white\",\"startlinecolor\":\"rgb(36,36,36)\"},\"baxis\":{\"endlinecolor\":\"rgb(36,36,36)\",\"gridcolor\":\"white\",\"linecolor\":\"white\",\"minorgridcolor\":\"white\",\"startlinecolor\":\"rgb(36,36,36)\"},\"type\":\"carpet\"}],\"choropleth\":[{\"colorbar\":{\"outlinewidth\":1,\"tickcolor\":\"rgb(36,36,36)\",\"ticks\":\"outside\"},\"type\":\"choropleth\"}],\"contourcarpet\":[{\"colorbar\":{\"outlinewidth\":1,\"tickcolor\":\"rgb(36,36,36)\",\"ticks\":\"outside\"},\"type\":\"contourcarpet\"}],\"contour\":[{\"colorbar\":{\"outlinewidth\":1,\"tickcolor\":\"rgb(36,36,36)\",\"ticks\":\"outside\"},\"colorscale\":[[0.0,\"#440154\"],[0.1111111111111111,\"#482878\"],[0.2222222222222222,\"#3e4989\"],[0.3333333333333333,\"#31688e\"],[0.4444444444444444,\"#26828e\"],[0.5555555555555556,\"#1f9e89\"],[0.6666666666666666,\"#35b779\"],[0.7777777777777778,\"#6ece58\"],[0.8888888888888888,\"#b5de2b\"],[1.0,\"#fde725\"]],\"type\":\"contour\"}],\"heatmapgl\":[{\"colorbar\":{\"outlinewidth\":1,\"tickcolor\":\"rgb(36,36,36)\",\"ticks\":\"outside\"},\"colorscale\":[[0.0,\"#440154\"],[0.1111111111111111,\"#482878\"],[0.2222222222222222,\"#3e4989\"],[0.3333333333333333,\"#31688e\"],[0.4444444444444444,\"#26828e\"],[0.5555555555555556,\"#1f9e89\"],[0.6666666666666666,\"#35b779\"],[0.7777777777777778,\"#6ece58\"],[0.8888888888888888,\"#b5de2b\"],[1.0,\"#fde725\"]],\"type\":\"heatmapgl\"}],\"heatmap\":[{\"colorbar\":{\"outlinewidth\":1,\"tickcolor\":\"rgb(36,36,36)\",\"ticks\":\"outside\"},\"colorscale\":[[0.0,\"#440154\"],[0.1111111111111111,\"#482878\"],[0.2222222222222222,\"#3e4989\"],[0.3333333333333333,\"#31688e\"],[0.4444444444444444,\"#26828e\"],[0.5555555555555556,\"#1f9e89\"],[0.6666666666666666,\"#35b779\"],[0.7777777777777778,\"#6ece58\"],[0.8888888888888888,\"#b5de2b\"],[1.0,\"#fde725\"]],\"type\":\"heatmap\"}],\"histogram2dcontour\":[{\"colorbar\":{\"outlinewidth\":1,\"tickcolor\":\"rgb(36,36,36)\",\"ticks\":\"outside\"},\"colorscale\":[[0.0,\"#440154\"],[0.1111111111111111,\"#482878\"],[0.2222222222222222,\"#3e4989\"],[0.3333333333333333,\"#31688e\"],[0.4444444444444444,\"#26828e\"],[0.5555555555555556,\"#1f9e89\"],[0.6666666666666666,\"#35b779\"],[0.7777777777777778,\"#6ece58\"],[0.8888888888888888,\"#b5de2b\"],[1.0,\"#fde725\"]],\"type\":\"histogram2dcontour\"}],\"histogram2d\":[{\"colorbar\":{\"outlinewidth\":1,\"tickcolor\":\"rgb(36,36,36)\",\"ticks\":\"outside\"},\"colorscale\":[[0.0,\"#440154\"],[0.1111111111111111,\"#482878\"],[0.2222222222222222,\"#3e4989\"],[0.3333333333333333,\"#31688e\"],[0.4444444444444444,\"#26828e\"],[0.5555555555555556,\"#1f9e89\"],[0.6666666666666666,\"#35b779\"],[0.7777777777777778,\"#6ece58\"],[0.8888888888888888,\"#b5de2b\"],[1.0,\"#fde725\"]],\"type\":\"histogram2d\"}],\"histogram\":[{\"marker\":{\"line\":{\"color\":\"white\",\"width\":0.6}},\"type\":\"histogram\"}],\"mesh3d\":[{\"colorbar\":{\"outlinewidth\":1,\"tickcolor\":\"rgb(36,36,36)\",\"ticks\":\"outside\"},\"type\":\"mesh3d\"}],\"parcoords\":[{\"line\":{\"colorbar\":{\"outlinewidth\":1,\"tickcolor\":\"rgb(36,36,36)\",\"ticks\":\"outside\"}},\"type\":\"parcoords\"}],\"pie\":[{\"automargin\":true,\"type\":\"pie\"}],\"scatter3d\":[{\"line\":{\"colorbar\":{\"outlinewidth\":1,\"tickcolor\":\"rgb(36,36,36)\",\"ticks\":\"outside\"}},\"marker\":{\"colorbar\":{\"outlinewidth\":1,\"tickcolor\":\"rgb(36,36,36)\",\"ticks\":\"outside\"}},\"type\":\"scatter3d\"}],\"scattercarpet\":[{\"marker\":{\"colorbar\":{\"outlinewidth\":1,\"tickcolor\":\"rgb(36,36,36)\",\"ticks\":\"outside\"}},\"type\":\"scattercarpet\"}],\"scattergeo\":[{\"marker\":{\"colorbar\":{\"outlinewidth\":1,\"tickcolor\":\"rgb(36,36,36)\",\"ticks\":\"outside\"}},\"type\":\"scattergeo\"}],\"scattergl\":[{\"marker\":{\"colorbar\":{\"outlinewidth\":1,\"tickcolor\":\"rgb(36,36,36)\",\"ticks\":\"outside\"}},\"type\":\"scattergl\"}],\"scattermapbox\":[{\"marker\":{\"colorbar\":{\"outlinewidth\":1,\"tickcolor\":\"rgb(36,36,36)\",\"ticks\":\"outside\"}},\"type\":\"scattermapbox\"}],\"scatterpolargl\":[{\"marker\":{\"colorbar\":{\"outlinewidth\":1,\"tickcolor\":\"rgb(36,36,36)\",\"ticks\":\"outside\"}},\"type\":\"scatterpolargl\"}],\"scatterpolar\":[{\"marker\":{\"colorbar\":{\"outlinewidth\":1,\"tickcolor\":\"rgb(36,36,36)\",\"ticks\":\"outside\"}},\"type\":\"scatterpolar\"}],\"scatter\":[{\"marker\":{\"colorbar\":{\"outlinewidth\":1,\"tickcolor\":\"rgb(36,36,36)\",\"ticks\":\"outside\"}},\"type\":\"scatter\"}],\"scatterternary\":[{\"marker\":{\"colorbar\":{\"outlinewidth\":1,\"tickcolor\":\"rgb(36,36,36)\",\"ticks\":\"outside\"}},\"type\":\"scatterternary\"}],\"surface\":[{\"colorbar\":{\"outlinewidth\":1,\"tickcolor\":\"rgb(36,36,36)\",\"ticks\":\"outside\"},\"colorscale\":[[0.0,\"#440154\"],[0.1111111111111111,\"#482878\"],[0.2222222222222222,\"#3e4989\"],[0.3333333333333333,\"#31688e\"],[0.4444444444444444,\"#26828e\"],[0.5555555555555556,\"#1f9e89\"],[0.6666666666666666,\"#35b779\"],[0.7777777777777778,\"#6ece58\"],[0.8888888888888888,\"#b5de2b\"],[1.0,\"#fde725\"]],\"type\":\"surface\"}],\"table\":[{\"cells\":{\"fill\":{\"color\":\"rgb(237,237,237)\"},\"line\":{\"color\":\"white\"}},\"header\":{\"fill\":{\"color\":\"rgb(217,217,217)\"},\"line\":{\"color\":\"white\"}},\"type\":\"table\"}]},\"layout\":{\"annotationdefaults\":{\"arrowhead\":0,\"arrowwidth\":1},\"autotypenumbers\":\"strict\",\"coloraxis\":{\"colorbar\":{\"outlinewidth\":1,\"tickcolor\":\"rgb(36,36,36)\",\"ticks\":\"outside\"}},\"colorscale\":{\"diverging\":[[0.0,\"rgb(103,0,31)\"],[0.1,\"rgb(178,24,43)\"],[0.2,\"rgb(214,96,77)\"],[0.3,\"rgb(244,165,130)\"],[0.4,\"rgb(253,219,199)\"],[0.5,\"rgb(247,247,247)\"],[0.6,\"rgb(209,229,240)\"],[0.7,\"rgb(146,197,222)\"],[0.8,\"rgb(67,147,195)\"],[0.9,\"rgb(33,102,172)\"],[1.0,\"rgb(5,48,97)\"]],\"sequential\":[[0.0,\"#440154\"],[0.1111111111111111,\"#482878\"],[0.2222222222222222,\"#3e4989\"],[0.3333333333333333,\"#31688e\"],[0.4444444444444444,\"#26828e\"],[0.5555555555555556,\"#1f9e89\"],[0.6666666666666666,\"#35b779\"],[0.7777777777777778,\"#6ece58\"],[0.8888888888888888,\"#b5de2b\"],[1.0,\"#fde725\"]],\"sequentialminus\":[[0.0,\"#440154\"],[0.1111111111111111,\"#482878\"],[0.2222222222222222,\"#3e4989\"],[0.3333333333333333,\"#31688e\"],[0.4444444444444444,\"#26828e\"],[0.5555555555555556,\"#1f9e89\"],[0.6666666666666666,\"#35b779\"],[0.7777777777777778,\"#6ece58\"],[0.8888888888888888,\"#b5de2b\"],[1.0,\"#fde725\"]]},\"colorway\":[\"#1F77B4\",\"#FF7F0E\",\"#2CA02C\",\"#D62728\",\"#9467BD\",\"#8C564B\",\"#E377C2\",\"#7F7F7F\",\"#BCBD22\",\"#17BECF\"],\"font\":{\"color\":\"rgb(36,36,36)\"},\"geo\":{\"bgcolor\":\"white\",\"lakecolor\":\"white\",\"landcolor\":\"white\",\"showlakes\":true,\"showland\":true,\"subunitcolor\":\"white\"},\"hoverlabel\":{\"align\":\"left\"},\"hovermode\":\"closest\",\"mapbox\":{\"style\":\"light\"},\"paper_bgcolor\":\"white\",\"plot_bgcolor\":\"white\",\"polar\":{\"angularaxis\":{\"gridcolor\":\"rgb(232,232,232)\",\"linecolor\":\"rgb(36,36,36)\",\"showgrid\":false,\"showline\":true,\"ticks\":\"outside\"},\"bgcolor\":\"white\",\"radialaxis\":{\"gridcolor\":\"rgb(232,232,232)\",\"linecolor\":\"rgb(36,36,36)\",\"showgrid\":false,\"showline\":true,\"ticks\":\"outside\"}},\"scene\":{\"xaxis\":{\"backgroundcolor\":\"white\",\"gridcolor\":\"rgb(232,232,232)\",\"gridwidth\":2,\"linecolor\":\"rgb(36,36,36)\",\"showbackground\":true,\"showgrid\":false,\"showline\":true,\"ticks\":\"outside\",\"zeroline\":false,\"zerolinecolor\":\"rgb(36,36,36)\"},\"yaxis\":{\"backgroundcolor\":\"white\",\"gridcolor\":\"rgb(232,232,232)\",\"gridwidth\":2,\"linecolor\":\"rgb(36,36,36)\",\"showbackground\":true,\"showgrid\":false,\"showline\":true,\"ticks\":\"outside\",\"zeroline\":false,\"zerolinecolor\":\"rgb(36,36,36)\"},\"zaxis\":{\"backgroundcolor\":\"white\",\"gridcolor\":\"rgb(232,232,232)\",\"gridwidth\":2,\"linecolor\":\"rgb(36,36,36)\",\"showbackground\":true,\"showgrid\":false,\"showline\":true,\"ticks\":\"outside\",\"zeroline\":false,\"zerolinecolor\":\"rgb(36,36,36)\"}},\"shapedefaults\":{\"fillcolor\":\"black\",\"line\":{\"width\":0},\"opacity\":0.3},\"ternary\":{\"aaxis\":{\"gridcolor\":\"rgb(232,232,232)\",\"linecolor\":\"rgb(36,36,36)\",\"showgrid\":false,\"showline\":true,\"ticks\":\"outside\"},\"baxis\":{\"gridcolor\":\"rgb(232,232,232)\",\"linecolor\":\"rgb(36,36,36)\",\"showgrid\":false,\"showline\":true,\"ticks\":\"outside\"},\"bgcolor\":\"white\",\"caxis\":{\"gridcolor\":\"rgb(232,232,232)\",\"linecolor\":\"rgb(36,36,36)\",\"showgrid\":false,\"showline\":true,\"ticks\":\"outside\"}},\"title\":{\"x\":0.05},\"xaxis\":{\"automargin\":true,\"gridcolor\":\"rgb(232,232,232)\",\"linecolor\":\"rgb(36,36,36)\",\"showgrid\":false,\"showline\":true,\"ticks\":\"outside\",\"title\":{\"standoff\":15},\"zeroline\":false,\"zerolinecolor\":\"rgb(36,36,36)\"},\"yaxis\":{\"automargin\":true,\"gridcolor\":\"rgb(232,232,232)\",\"linecolor\":\"rgb(36,36,36)\",\"showgrid\":false,\"showline\":true,\"ticks\":\"outside\",\"title\":{\"standoff\":15},\"zeroline\":false,\"zerolinecolor\":\"rgb(36,36,36)\"}}},\"title\":{\"font\":{\"size\":22,\"color\":\"Black\"},\"text\":\"<b>Topic Probability Distribution\",\"y\":0.95,\"x\":0.5,\"xanchor\":\"center\",\"yanchor\":\"top\"},\"hoverlabel\":{\"font\":{\"size\":16,\"family\":\"Rockwell\"},\"bgcolor\":\"white\"},\"xaxis\":{\"title\":{\"text\":\"Probability\"}},\"width\":800,\"height\":600},                        {\"responsive\": true}                    ).then(function(){\n",
              "                            \n",
              "var gd = document.getElementById('c7ede65c-100a-49ac-b135-2e0a15fd4e16');\n",
              "var x = new MutationObserver(function (mutations, observer) {{\n",
              "        var display = window.getComputedStyle(gd).display;\n",
              "        if (!display || display === 'none') {{\n",
              "            console.log([gd, 'removed!']);\n",
              "            Plotly.purge(gd);\n",
              "            observer.disconnect();\n",
              "        }}\n",
              "}});\n",
              "\n",
              "// Listen for the removal of the full notebook cells\n",
              "var notebookContainer = gd.closest('#notebook-container');\n",
              "if (notebookContainer) {{\n",
              "    x.observe(notebookContainer, {childList: true});\n",
              "}}\n",
              "\n",
              "// Listen for the clearing of the current output cell\n",
              "var outputEl = gd.closest('.output');\n",
              "if (outputEl) {{\n",
              "    x.observe(outputEl, {childList: true});\n",
              "}}\n",
              "\n",
              "                        })                };                            </script>        </div>\n",
              "</body>\n",
              "</html>"
            ]
          },
          "metadata": {}
        }
      ]
    },
    {
      "cell_type": "markdown",
      "metadata": {
        "id": "QHRTeSpl5JYB"
      },
      "source": [
        "## Visualize Topic Hierarchy\n",
        "\n",
        "The topics that were created can be hierarchically reduced. In order to understand the potential hierarchical structure of the topics, we can use scipy.cluster.hierarchy to create clusters and visualize how they relate to one another. This might help selecting an appropriate nr_topics when reducing the number of topics that you have created."
      ]
    },
    {
      "cell_type": "code",
      "metadata": {
        "colab": {
          "base_uri": "https://localhost:8080/",
          "height": 402
        },
        "id": "ltmLFRR56a4X",
        "outputId": "83c8f30b-0a3c-4e8e-cc13-3736a3995f62"
      },
      "source": [
        "topic_model.visualize_hierarchy(top_n_topics=50)"
      ],
      "execution_count": 18,
      "outputs": [
        {
          "output_type": "display_data",
          "data": {
            "text/html": [
              "<html>\n",
              "<head><meta charset=\"utf-8\" /></head>\n",
              "<body>\n",
              "    <div>            <script src=\"https://cdnjs.cloudflare.com/ajax/libs/mathjax/2.7.5/MathJax.js?config=TeX-AMS-MML_SVG\"></script><script type=\"text/javascript\">if (window.MathJax) {MathJax.Hub.Config({SVG: {font: \"STIX-Web\"}});}</script>                <script type=\"text/javascript\">window.PlotlyConfig = {MathJaxConfig: 'local'};</script>\n",
              "        <script src=\"https://cdn.plot.ly/plotly-2.8.3.min.js\"></script>                <div id=\"0370faec-b87e-47f2-a3ce-75f329305244\" class=\"plotly-graph-div\" style=\"height:365px; width:1000px;\"></div>            <script type=\"text/javascript\">                                    window.PLOTLYENV=window.PLOTLYENV || {};                                    if (document.getElementById(\"0370faec-b87e-47f2-a3ce-75f329305244\")) {                    Plotly.newPlot(                        \"0370faec-b87e-47f2-a3ce-75f329305244\",                        [{\"hoverinfo\":\"text\",\"marker\":{\"color\":\"rgb(61,153,112)\"},\"mode\":\"lines\",\"x\":[0.0,0.4186461845077693,0.4186461845077693,0.0],\"xaxis\":\"x\",\"y\":[-25.0,-25.0,-35.0,-35.0],\"yaxis\":\"y\",\"type\":\"scatter\"},{\"hoverinfo\":\"text\",\"marker\":{\"color\":\"rgb(61,153,112)\"},\"mode\":\"lines\",\"x\":[0.4186461845077693,0.44279095389560297,0.44279095389560297,0.0],\"xaxis\":\"x\",\"y\":[-30.0,-30.0,-45.0,-45.0],\"yaxis\":\"y\",\"type\":\"scatter\"},{\"hoverinfo\":\"text\",\"marker\":{\"color\":\"rgb(61,153,112)\"},\"mode\":\"lines\",\"x\":[0.0,0.5359549871252314,0.5359549871252314,0.44279095389560297],\"xaxis\":\"x\",\"y\":[-15.0,-15.0,-37.5,-37.5],\"yaxis\":\"y\",\"type\":\"scatter\"},{\"hoverinfo\":\"text\",\"marker\":{\"color\":\"rgb(61,153,112)\"},\"mode\":\"lines\",\"x\":[0.0,0.41540356930476857,0.41540356930476857,0.0],\"xaxis\":\"x\",\"y\":[-55.0,-55.0,-65.0,-65.0],\"yaxis\":\"y\",\"type\":\"scatter\"},{\"hoverinfo\":\"text\",\"marker\":{\"color\":\"rgb(61,153,112)\"},\"mode\":\"lines\",\"x\":[0.5359549871252314,0.6008036070808802,0.6008036070808802,0.41540356930476857],\"xaxis\":\"x\",\"y\":[-26.25,-26.25,-60.0,-60.0],\"yaxis\":\"y\",\"type\":\"scatter\"},{\"hoverinfo\":\"text\",\"marker\":{\"color\":\"rgb(61,153,112)\"},\"mode\":\"lines\",\"x\":[0.0,0.6407846467623537,0.6407846467623537,0.6008036070808802],\"xaxis\":\"x\",\"y\":[-5.0,-5.0,-43.125,-43.125],\"yaxis\":\"y\",\"type\":\"scatter\"},{\"hoverinfo\":\"text\",\"marker\":{\"color\":\"rgb(61,153,112)\"},\"mode\":\"lines\",\"x\":[0.0,0.699903526639616,0.699903526639616,0.0],\"xaxis\":\"x\",\"y\":[-75.0,-75.0,-85.0,-85.0],\"yaxis\":\"y\",\"type\":\"scatter\"},{\"hoverinfo\":\"text\",\"marker\":{\"color\":\"rgb(61,153,112)\"},\"mode\":\"lines\",\"x\":[0.6407846467623537,0.7635281380882266,0.7635281380882266,0.699903526639616],\"xaxis\":\"x\",\"y\":[-24.0625,-24.0625,-80.0,-80.0],\"yaxis\":\"y\",\"type\":\"scatter\"},{\"hoverinfo\":\"text\",\"marker\":{\"color\":\"rgb(61,153,112)\"},\"mode\":\"lines\",\"x\":[0.0,0.8236817650293674,0.8236817650293674,0.0],\"xaxis\":\"x\",\"y\":[-95.0,-95.0,-105.0,-105.0],\"yaxis\":\"y\",\"type\":\"scatter\"},{\"hoverinfo\":\"text\",\"marker\":{\"color\":\"rgb(61,153,112)\"},\"mode\":\"lines\",\"x\":[0.7635281380882266,0.9453632111051841,0.9453632111051841,0.8236817650293674],\"xaxis\":\"x\",\"y\":[-52.03125,-52.03125,-100.0,-100.0],\"yaxis\":\"y\",\"type\":\"scatter\"}],                        {\"autosize\":false,\"height\":365,\"hovermode\":\"closest\",\"showlegend\":false,\"width\":1000,\"xaxis\":{\"mirror\":\"allticks\",\"rangemode\":\"tozero\",\"showgrid\":false,\"showline\":true,\"showticklabels\":true,\"ticks\":\"outside\",\"type\":\"linear\",\"zeroline\":false},\"yaxis\":{\"mirror\":\"allticks\",\"rangemode\":\"tozero\",\"showgrid\":false,\"showline\":true,\"showticklabels\":true,\"tickmode\":\"array\",\"ticks\":\"outside\",\"ticktext\":[\"5_to_and_of\",\"6_the_of_in\",\"3_the_of_in\",\"0_the_of_and\",\"2_the_energy_and\",\"1_the_and_sustainability\",\"4_and_the_of\",\"8_transitions_transition_and\",\"10_of_the_niche\",\"9_water_the_in\",\"7_market_lead_environmental\"],\"tickvals\":[-5.0,-15.0,-25.0,-35.0,-45.0,-55.0,-65.0,-75.0,-85.0,-95.0,-105.0],\"type\":\"linear\",\"zeroline\":false,\"range\":[-110.0,0.0]},\"template\":{\"data\":{\"barpolar\":[{\"marker\":{\"line\":{\"color\":\"white\",\"width\":0.5},\"pattern\":{\"fillmode\":\"overlay\",\"size\":10,\"solidity\":0.2}},\"type\":\"barpolar\"}],\"bar\":[{\"error_x\":{\"color\":\"#2a3f5f\"},\"error_y\":{\"color\":\"#2a3f5f\"},\"marker\":{\"line\":{\"color\":\"white\",\"width\":0.5},\"pattern\":{\"fillmode\":\"overlay\",\"size\":10,\"solidity\":0.2}},\"type\":\"bar\"}],\"carpet\":[{\"aaxis\":{\"endlinecolor\":\"#2a3f5f\",\"gridcolor\":\"#C8D4E3\",\"linecolor\":\"#C8D4E3\",\"minorgridcolor\":\"#C8D4E3\",\"startlinecolor\":\"#2a3f5f\"},\"baxis\":{\"endlinecolor\":\"#2a3f5f\",\"gridcolor\":\"#C8D4E3\",\"linecolor\":\"#C8D4E3\",\"minorgridcolor\":\"#C8D4E3\",\"startlinecolor\":\"#2a3f5f\"},\"type\":\"carpet\"}],\"choropleth\":[{\"colorbar\":{\"outlinewidth\":0,\"ticks\":\"\"},\"type\":\"choropleth\"}],\"contourcarpet\":[{\"colorbar\":{\"outlinewidth\":0,\"ticks\":\"\"},\"type\":\"contourcarpet\"}],\"contour\":[{\"colorbar\":{\"outlinewidth\":0,\"ticks\":\"\"},\"colorscale\":[[0.0,\"#0d0887\"],[0.1111111111111111,\"#46039f\"],[0.2222222222222222,\"#7201a8\"],[0.3333333333333333,\"#9c179e\"],[0.4444444444444444,\"#bd3786\"],[0.5555555555555556,\"#d8576b\"],[0.6666666666666666,\"#ed7953\"],[0.7777777777777778,\"#fb9f3a\"],[0.8888888888888888,\"#fdca26\"],[1.0,\"#f0f921\"]],\"type\":\"contour\"}],\"heatmapgl\":[{\"colorbar\":{\"outlinewidth\":0,\"ticks\":\"\"},\"colorscale\":[[0.0,\"#0d0887\"],[0.1111111111111111,\"#46039f\"],[0.2222222222222222,\"#7201a8\"],[0.3333333333333333,\"#9c179e\"],[0.4444444444444444,\"#bd3786\"],[0.5555555555555556,\"#d8576b\"],[0.6666666666666666,\"#ed7953\"],[0.7777777777777778,\"#fb9f3a\"],[0.8888888888888888,\"#fdca26\"],[1.0,\"#f0f921\"]],\"type\":\"heatmapgl\"}],\"heatmap\":[{\"colorbar\":{\"outlinewidth\":0,\"ticks\":\"\"},\"colorscale\":[[0.0,\"#0d0887\"],[0.1111111111111111,\"#46039f\"],[0.2222222222222222,\"#7201a8\"],[0.3333333333333333,\"#9c179e\"],[0.4444444444444444,\"#bd3786\"],[0.5555555555555556,\"#d8576b\"],[0.6666666666666666,\"#ed7953\"],[0.7777777777777778,\"#fb9f3a\"],[0.8888888888888888,\"#fdca26\"],[1.0,\"#f0f921\"]],\"type\":\"heatmap\"}],\"histogram2dcontour\":[{\"colorbar\":{\"outlinewidth\":0,\"ticks\":\"\"},\"colorscale\":[[0.0,\"#0d0887\"],[0.1111111111111111,\"#46039f\"],[0.2222222222222222,\"#7201a8\"],[0.3333333333333333,\"#9c179e\"],[0.4444444444444444,\"#bd3786\"],[0.5555555555555556,\"#d8576b\"],[0.6666666666666666,\"#ed7953\"],[0.7777777777777778,\"#fb9f3a\"],[0.8888888888888888,\"#fdca26\"],[1.0,\"#f0f921\"]],\"type\":\"histogram2dcontour\"}],\"histogram2d\":[{\"colorbar\":{\"outlinewidth\":0,\"ticks\":\"\"},\"colorscale\":[[0.0,\"#0d0887\"],[0.1111111111111111,\"#46039f\"],[0.2222222222222222,\"#7201a8\"],[0.3333333333333333,\"#9c179e\"],[0.4444444444444444,\"#bd3786\"],[0.5555555555555556,\"#d8576b\"],[0.6666666666666666,\"#ed7953\"],[0.7777777777777778,\"#fb9f3a\"],[0.8888888888888888,\"#fdca26\"],[1.0,\"#f0f921\"]],\"type\":\"histogram2d\"}],\"histogram\":[{\"marker\":{\"pattern\":{\"fillmode\":\"overlay\",\"size\":10,\"solidity\":0.2}},\"type\":\"histogram\"}],\"mesh3d\":[{\"colorbar\":{\"outlinewidth\":0,\"ticks\":\"\"},\"type\":\"mesh3d\"}],\"parcoords\":[{\"line\":{\"colorbar\":{\"outlinewidth\":0,\"ticks\":\"\"}},\"type\":\"parcoords\"}],\"pie\":[{\"automargin\":true,\"type\":\"pie\"}],\"scatter3d\":[{\"line\":{\"colorbar\":{\"outlinewidth\":0,\"ticks\":\"\"}},\"marker\":{\"colorbar\":{\"outlinewidth\":0,\"ticks\":\"\"}},\"type\":\"scatter3d\"}],\"scattercarpet\":[{\"marker\":{\"colorbar\":{\"outlinewidth\":0,\"ticks\":\"\"}},\"type\":\"scattercarpet\"}],\"scattergeo\":[{\"marker\":{\"colorbar\":{\"outlinewidth\":0,\"ticks\":\"\"}},\"type\":\"scattergeo\"}],\"scattergl\":[{\"marker\":{\"colorbar\":{\"outlinewidth\":0,\"ticks\":\"\"}},\"type\":\"scattergl\"}],\"scattermapbox\":[{\"marker\":{\"colorbar\":{\"outlinewidth\":0,\"ticks\":\"\"}},\"type\":\"scattermapbox\"}],\"scatterpolargl\":[{\"marker\":{\"colorbar\":{\"outlinewidth\":0,\"ticks\":\"\"}},\"type\":\"scatterpolargl\"}],\"scatterpolar\":[{\"marker\":{\"colorbar\":{\"outlinewidth\":0,\"ticks\":\"\"}},\"type\":\"scatterpolar\"}],\"scatter\":[{\"marker\":{\"colorbar\":{\"outlinewidth\":0,\"ticks\":\"\"}},\"type\":\"scatter\"}],\"scatterternary\":[{\"marker\":{\"colorbar\":{\"outlinewidth\":0,\"ticks\":\"\"}},\"type\":\"scatterternary\"}],\"surface\":[{\"colorbar\":{\"outlinewidth\":0,\"ticks\":\"\"},\"colorscale\":[[0.0,\"#0d0887\"],[0.1111111111111111,\"#46039f\"],[0.2222222222222222,\"#7201a8\"],[0.3333333333333333,\"#9c179e\"],[0.4444444444444444,\"#bd3786\"],[0.5555555555555556,\"#d8576b\"],[0.6666666666666666,\"#ed7953\"],[0.7777777777777778,\"#fb9f3a\"],[0.8888888888888888,\"#fdca26\"],[1.0,\"#f0f921\"]],\"type\":\"surface\"}],\"table\":[{\"cells\":{\"fill\":{\"color\":\"#EBF0F8\"},\"line\":{\"color\":\"white\"}},\"header\":{\"fill\":{\"color\":\"#C8D4E3\"},\"line\":{\"color\":\"white\"}},\"type\":\"table\"}]},\"layout\":{\"annotationdefaults\":{\"arrowcolor\":\"#2a3f5f\",\"arrowhead\":0,\"arrowwidth\":1},\"autotypenumbers\":\"strict\",\"coloraxis\":{\"colorbar\":{\"outlinewidth\":0,\"ticks\":\"\"}},\"colorscale\":{\"diverging\":[[0,\"#8e0152\"],[0.1,\"#c51b7d\"],[0.2,\"#de77ae\"],[0.3,\"#f1b6da\"],[0.4,\"#fde0ef\"],[0.5,\"#f7f7f7\"],[0.6,\"#e6f5d0\"],[0.7,\"#b8e186\"],[0.8,\"#7fbc41\"],[0.9,\"#4d9221\"],[1,\"#276419\"]],\"sequential\":[[0.0,\"#0d0887\"],[0.1111111111111111,\"#46039f\"],[0.2222222222222222,\"#7201a8\"],[0.3333333333333333,\"#9c179e\"],[0.4444444444444444,\"#bd3786\"],[0.5555555555555556,\"#d8576b\"],[0.6666666666666666,\"#ed7953\"],[0.7777777777777778,\"#fb9f3a\"],[0.8888888888888888,\"#fdca26\"],[1.0,\"#f0f921\"]],\"sequentialminus\":[[0.0,\"#0d0887\"],[0.1111111111111111,\"#46039f\"],[0.2222222222222222,\"#7201a8\"],[0.3333333333333333,\"#9c179e\"],[0.4444444444444444,\"#bd3786\"],[0.5555555555555556,\"#d8576b\"],[0.6666666666666666,\"#ed7953\"],[0.7777777777777778,\"#fb9f3a\"],[0.8888888888888888,\"#fdca26\"],[1.0,\"#f0f921\"]]},\"colorway\":[\"#636efa\",\"#EF553B\",\"#00cc96\",\"#ab63fa\",\"#FFA15A\",\"#19d3f3\",\"#FF6692\",\"#B6E880\",\"#FF97FF\",\"#FECB52\"],\"font\":{\"color\":\"#2a3f5f\"},\"geo\":{\"bgcolor\":\"white\",\"lakecolor\":\"white\",\"landcolor\":\"white\",\"showlakes\":true,\"showland\":true,\"subunitcolor\":\"#C8D4E3\"},\"hoverlabel\":{\"align\":\"left\"},\"hovermode\":\"closest\",\"mapbox\":{\"style\":\"light\"},\"paper_bgcolor\":\"white\",\"plot_bgcolor\":\"white\",\"polar\":{\"angularaxis\":{\"gridcolor\":\"#EBF0F8\",\"linecolor\":\"#EBF0F8\",\"ticks\":\"\"},\"bgcolor\":\"white\",\"radialaxis\":{\"gridcolor\":\"#EBF0F8\",\"linecolor\":\"#EBF0F8\",\"ticks\":\"\"}},\"scene\":{\"xaxis\":{\"backgroundcolor\":\"white\",\"gridcolor\":\"#DFE8F3\",\"gridwidth\":2,\"linecolor\":\"#EBF0F8\",\"showbackground\":true,\"ticks\":\"\",\"zerolinecolor\":\"#EBF0F8\"},\"yaxis\":{\"backgroundcolor\":\"white\",\"gridcolor\":\"#DFE8F3\",\"gridwidth\":2,\"linecolor\":\"#EBF0F8\",\"showbackground\":true,\"ticks\":\"\",\"zerolinecolor\":\"#EBF0F8\"},\"zaxis\":{\"backgroundcolor\":\"white\",\"gridcolor\":\"#DFE8F3\",\"gridwidth\":2,\"linecolor\":\"#EBF0F8\",\"showbackground\":true,\"ticks\":\"\",\"zerolinecolor\":\"#EBF0F8\"}},\"shapedefaults\":{\"line\":{\"color\":\"#2a3f5f\"}},\"ternary\":{\"aaxis\":{\"gridcolor\":\"#DFE8F3\",\"linecolor\":\"#A2B1C6\",\"ticks\":\"\"},\"baxis\":{\"gridcolor\":\"#DFE8F3\",\"linecolor\":\"#A2B1C6\",\"ticks\":\"\"},\"bgcolor\":\"white\",\"caxis\":{\"gridcolor\":\"#DFE8F3\",\"linecolor\":\"#A2B1C6\",\"ticks\":\"\"}},\"title\":{\"x\":0.05},\"xaxis\":{\"automargin\":true,\"gridcolor\":\"#EBF0F8\",\"linecolor\":\"#EBF0F8\",\"ticks\":\"\",\"title\":{\"standoff\":15},\"zerolinecolor\":\"#EBF0F8\",\"zerolinewidth\":2},\"yaxis\":{\"automargin\":true,\"gridcolor\":\"#EBF0F8\",\"linecolor\":\"#EBF0F8\",\"ticks\":\"\",\"title\":{\"standoff\":15},\"zerolinecolor\":\"#EBF0F8\",\"zerolinewidth\":2}}},\"title\":{\"font\":{\"size\":22,\"color\":\"Black\"},\"text\":\"<b>Hierarchical Clustering\",\"x\":0.5,\"xanchor\":\"center\",\"yanchor\":\"top\"},\"hoverlabel\":{\"font\":{\"size\":16,\"family\":\"Rockwell\"},\"bgcolor\":\"white\"},\"plot_bgcolor\":\"#ECEFF1\"},                        {\"responsive\": true}                    ).then(function(){\n",
              "                            \n",
              "var gd = document.getElementById('0370faec-b87e-47f2-a3ce-75f329305244');\n",
              "var x = new MutationObserver(function (mutations, observer) {{\n",
              "        var display = window.getComputedStyle(gd).display;\n",
              "        if (!display || display === 'none') {{\n",
              "            console.log([gd, 'removed!']);\n",
              "            Plotly.purge(gd);\n",
              "            observer.disconnect();\n",
              "        }}\n",
              "}});\n",
              "\n",
              "// Listen for the removal of the full notebook cells\n",
              "var notebookContainer = gd.closest('#notebook-container');\n",
              "if (notebookContainer) {{\n",
              "    x.observe(notebookContainer, {childList: true});\n",
              "}}\n",
              "\n",
              "// Listen for the clearing of the current output cell\n",
              "var outputEl = gd.closest('.output');\n",
              "if (outputEl) {{\n",
              "    x.observe(outputEl, {childList: true});\n",
              "}}\n",
              "\n",
              "                        })                };                            </script>        </div>\n",
              "</body>\n",
              "</html>"
            ]
          },
          "metadata": {}
        }
      ]
    },
    {
      "cell_type": "markdown",
      "metadata": {
        "id": "4spXl2_C6flq"
      },
      "source": [
        "## Visualize Terms\n",
        "\n",
        "We can visualize the selected terms for a few topics by creating bar charts out of the c-TF-IDF scores for each topic representation. Insights can be gained from the relative c-TF-IDF scores between and within topics. Moreover, you can easily compare topic representations to each other."
      ]
    },
    {
      "cell_type": "code",
      "metadata": {
        "colab": {
          "base_uri": "https://localhost:8080/",
          "height": 537
        },
        "id": "zpm9LsKW6mi5",
        "outputId": "41c4c363-2d6d-42b7-fae1-22036f85131d"
      },
      "source": [
        "topic_model.visualize_barchart(top_n_topics=5)"
      ],
      "execution_count": 19,
      "outputs": [
        {
          "output_type": "display_data",
          "data": {
            "text/html": [
              "<html>\n",
              "<head><meta charset=\"utf-8\" /></head>\n",
              "<body>\n",
              "    <div>            <script src=\"https://cdnjs.cloudflare.com/ajax/libs/mathjax/2.7.5/MathJax.js?config=TeX-AMS-MML_SVG\"></script><script type=\"text/javascript\">if (window.MathJax) {MathJax.Hub.Config({SVG: {font: \"STIX-Web\"}});}</script>                <script type=\"text/javascript\">window.PlotlyConfig = {MathJaxConfig: 'local'};</script>\n",
              "        <script src=\"https://cdn.plot.ly/plotly-2.8.3.min.js\"></script>                <div id=\"58e38b8c-0215-4472-b7c7-c693cd8da04f\" class=\"plotly-graph-div\" style=\"height:500px; width:1000px;\"></div>            <script type=\"text/javascript\">                                    window.PLOTLYENV=window.PLOTLYENV || {};                                    if (document.getElementById(\"58e38b8c-0215-4472-b7c7-c693cd8da04f\")) {                    Plotly.newPlot(                        \"58e38b8c-0215-4472-b7c7-c693cd8da04f\",                        [{\"marker\":{\"color\":\"#D55E00\"},\"orientation\":\"h\",\"x\":[0.032798677942728754,0.03931447272481977,0.04128465599762049,0.043975136685373416,0.04816012202409878],\"y\":[\"in  \",\"to  \",\"and  \",\"of  \",\"the  \"],\"type\":\"bar\",\"xaxis\":\"x\",\"yaxis\":\"y\"},{\"marker\":{\"color\":\"#0072B2\"},\"orientation\":\"h\",\"x\":[0.0416979508617671,0.04198601621345362,0.04496187398042878,0.04994880176295085,0.05016515551503085],\"y\":[\"transitions  \",\"of  \",\"sustainability  \",\"and  \",\"the  \"],\"type\":\"bar\",\"xaxis\":\"x2\",\"yaxis\":\"y2\"},{\"marker\":{\"color\":\"#CC79A7\"},\"orientation\":\"h\",\"x\":[0.03757571625664066,0.04769696071567578,0.048700659886787144,0.058210539223210636,0.05897023438818494],\"y\":[\"in  \",\"of  \",\"and  \",\"energy  \",\"the  \"],\"type\":\"bar\",\"xaxis\":\"x3\",\"yaxis\":\"y3\"},{\"marker\":{\"color\":\"#E69F00\"},\"orientation\":\"h\",\"x\":[0.04006634444956014,0.04077883413016471,0.04114315255047417,0.043803737083094936,0.05419292194109985],\"y\":[\"innovation  \",\"and  \",\"in  \",\"of  \",\"the  \"],\"type\":\"bar\",\"xaxis\":\"x4\",\"yaxis\":\"y4\"},{\"marker\":{\"color\":\"#56B4E9\"},\"orientation\":\"h\",\"x\":[0.03857685935660528,0.048069858068724484,0.04899377289928589,0.05084098859560626,0.05125632585034499],\"y\":[\"in  \",\"urban  \",\"of  \",\"the  \",\"and  \"],\"type\":\"bar\",\"xaxis\":\"x5\",\"yaxis\":\"y5\"}],                        {\"template\":{\"data\":{\"barpolar\":[{\"marker\":{\"line\":{\"color\":\"white\",\"width\":0.5},\"pattern\":{\"fillmode\":\"overlay\",\"size\":10,\"solidity\":0.2}},\"type\":\"barpolar\"}],\"bar\":[{\"error_x\":{\"color\":\"#2a3f5f\"},\"error_y\":{\"color\":\"#2a3f5f\"},\"marker\":{\"line\":{\"color\":\"white\",\"width\":0.5},\"pattern\":{\"fillmode\":\"overlay\",\"size\":10,\"solidity\":0.2}},\"type\":\"bar\"}],\"carpet\":[{\"aaxis\":{\"endlinecolor\":\"#2a3f5f\",\"gridcolor\":\"#C8D4E3\",\"linecolor\":\"#C8D4E3\",\"minorgridcolor\":\"#C8D4E3\",\"startlinecolor\":\"#2a3f5f\"},\"baxis\":{\"endlinecolor\":\"#2a3f5f\",\"gridcolor\":\"#C8D4E3\",\"linecolor\":\"#C8D4E3\",\"minorgridcolor\":\"#C8D4E3\",\"startlinecolor\":\"#2a3f5f\"},\"type\":\"carpet\"}],\"choropleth\":[{\"colorbar\":{\"outlinewidth\":0,\"ticks\":\"\"},\"type\":\"choropleth\"}],\"contourcarpet\":[{\"colorbar\":{\"outlinewidth\":0,\"ticks\":\"\"},\"type\":\"contourcarpet\"}],\"contour\":[{\"colorbar\":{\"outlinewidth\":0,\"ticks\":\"\"},\"colorscale\":[[0.0,\"#0d0887\"],[0.1111111111111111,\"#46039f\"],[0.2222222222222222,\"#7201a8\"],[0.3333333333333333,\"#9c179e\"],[0.4444444444444444,\"#bd3786\"],[0.5555555555555556,\"#d8576b\"],[0.6666666666666666,\"#ed7953\"],[0.7777777777777778,\"#fb9f3a\"],[0.8888888888888888,\"#fdca26\"],[1.0,\"#f0f921\"]],\"type\":\"contour\"}],\"heatmapgl\":[{\"colorbar\":{\"outlinewidth\":0,\"ticks\":\"\"},\"colorscale\":[[0.0,\"#0d0887\"],[0.1111111111111111,\"#46039f\"],[0.2222222222222222,\"#7201a8\"],[0.3333333333333333,\"#9c179e\"],[0.4444444444444444,\"#bd3786\"],[0.5555555555555556,\"#d8576b\"],[0.6666666666666666,\"#ed7953\"],[0.7777777777777778,\"#fb9f3a\"],[0.8888888888888888,\"#fdca26\"],[1.0,\"#f0f921\"]],\"type\":\"heatmapgl\"}],\"heatmap\":[{\"colorbar\":{\"outlinewidth\":0,\"ticks\":\"\"},\"colorscale\":[[0.0,\"#0d0887\"],[0.1111111111111111,\"#46039f\"],[0.2222222222222222,\"#7201a8\"],[0.3333333333333333,\"#9c179e\"],[0.4444444444444444,\"#bd3786\"],[0.5555555555555556,\"#d8576b\"],[0.6666666666666666,\"#ed7953\"],[0.7777777777777778,\"#fb9f3a\"],[0.8888888888888888,\"#fdca26\"],[1.0,\"#f0f921\"]],\"type\":\"heatmap\"}],\"histogram2dcontour\":[{\"colorbar\":{\"outlinewidth\":0,\"ticks\":\"\"},\"colorscale\":[[0.0,\"#0d0887\"],[0.1111111111111111,\"#46039f\"],[0.2222222222222222,\"#7201a8\"],[0.3333333333333333,\"#9c179e\"],[0.4444444444444444,\"#bd3786\"],[0.5555555555555556,\"#d8576b\"],[0.6666666666666666,\"#ed7953\"],[0.7777777777777778,\"#fb9f3a\"],[0.8888888888888888,\"#fdca26\"],[1.0,\"#f0f921\"]],\"type\":\"histogram2dcontour\"}],\"histogram2d\":[{\"colorbar\":{\"outlinewidth\":0,\"ticks\":\"\"},\"colorscale\":[[0.0,\"#0d0887\"],[0.1111111111111111,\"#46039f\"],[0.2222222222222222,\"#7201a8\"],[0.3333333333333333,\"#9c179e\"],[0.4444444444444444,\"#bd3786\"],[0.5555555555555556,\"#d8576b\"],[0.6666666666666666,\"#ed7953\"],[0.7777777777777778,\"#fb9f3a\"],[0.8888888888888888,\"#fdca26\"],[1.0,\"#f0f921\"]],\"type\":\"histogram2d\"}],\"histogram\":[{\"marker\":{\"pattern\":{\"fillmode\":\"overlay\",\"size\":10,\"solidity\":0.2}},\"type\":\"histogram\"}],\"mesh3d\":[{\"colorbar\":{\"outlinewidth\":0,\"ticks\":\"\"},\"type\":\"mesh3d\"}],\"parcoords\":[{\"line\":{\"colorbar\":{\"outlinewidth\":0,\"ticks\":\"\"}},\"type\":\"parcoords\"}],\"pie\":[{\"automargin\":true,\"type\":\"pie\"}],\"scatter3d\":[{\"line\":{\"colorbar\":{\"outlinewidth\":0,\"ticks\":\"\"}},\"marker\":{\"colorbar\":{\"outlinewidth\":0,\"ticks\":\"\"}},\"type\":\"scatter3d\"}],\"scattercarpet\":[{\"marker\":{\"colorbar\":{\"outlinewidth\":0,\"ticks\":\"\"}},\"type\":\"scattercarpet\"}],\"scattergeo\":[{\"marker\":{\"colorbar\":{\"outlinewidth\":0,\"ticks\":\"\"}},\"type\":\"scattergeo\"}],\"scattergl\":[{\"marker\":{\"colorbar\":{\"outlinewidth\":0,\"ticks\":\"\"}},\"type\":\"scattergl\"}],\"scattermapbox\":[{\"marker\":{\"colorbar\":{\"outlinewidth\":0,\"ticks\":\"\"}},\"type\":\"scattermapbox\"}],\"scatterpolargl\":[{\"marker\":{\"colorbar\":{\"outlinewidth\":0,\"ticks\":\"\"}},\"type\":\"scatterpolargl\"}],\"scatterpolar\":[{\"marker\":{\"colorbar\":{\"outlinewidth\":0,\"ticks\":\"\"}},\"type\":\"scatterpolar\"}],\"scatter\":[{\"marker\":{\"colorbar\":{\"outlinewidth\":0,\"ticks\":\"\"}},\"type\":\"scatter\"}],\"scatterternary\":[{\"marker\":{\"colorbar\":{\"outlinewidth\":0,\"ticks\":\"\"}},\"type\":\"scatterternary\"}],\"surface\":[{\"colorbar\":{\"outlinewidth\":0,\"ticks\":\"\"},\"colorscale\":[[0.0,\"#0d0887\"],[0.1111111111111111,\"#46039f\"],[0.2222222222222222,\"#7201a8\"],[0.3333333333333333,\"#9c179e\"],[0.4444444444444444,\"#bd3786\"],[0.5555555555555556,\"#d8576b\"],[0.6666666666666666,\"#ed7953\"],[0.7777777777777778,\"#fb9f3a\"],[0.8888888888888888,\"#fdca26\"],[1.0,\"#f0f921\"]],\"type\":\"surface\"}],\"table\":[{\"cells\":{\"fill\":{\"color\":\"#EBF0F8\"},\"line\":{\"color\":\"white\"}},\"header\":{\"fill\":{\"color\":\"#C8D4E3\"},\"line\":{\"color\":\"white\"}},\"type\":\"table\"}]},\"layout\":{\"annotationdefaults\":{\"arrowcolor\":\"#2a3f5f\",\"arrowhead\":0,\"arrowwidth\":1},\"autotypenumbers\":\"strict\",\"coloraxis\":{\"colorbar\":{\"outlinewidth\":0,\"ticks\":\"\"}},\"colorscale\":{\"diverging\":[[0,\"#8e0152\"],[0.1,\"#c51b7d\"],[0.2,\"#de77ae\"],[0.3,\"#f1b6da\"],[0.4,\"#fde0ef\"],[0.5,\"#f7f7f7\"],[0.6,\"#e6f5d0\"],[0.7,\"#b8e186\"],[0.8,\"#7fbc41\"],[0.9,\"#4d9221\"],[1,\"#276419\"]],\"sequential\":[[0.0,\"#0d0887\"],[0.1111111111111111,\"#46039f\"],[0.2222222222222222,\"#7201a8\"],[0.3333333333333333,\"#9c179e\"],[0.4444444444444444,\"#bd3786\"],[0.5555555555555556,\"#d8576b\"],[0.6666666666666666,\"#ed7953\"],[0.7777777777777778,\"#fb9f3a\"],[0.8888888888888888,\"#fdca26\"],[1.0,\"#f0f921\"]],\"sequentialminus\":[[0.0,\"#0d0887\"],[0.1111111111111111,\"#46039f\"],[0.2222222222222222,\"#7201a8\"],[0.3333333333333333,\"#9c179e\"],[0.4444444444444444,\"#bd3786\"],[0.5555555555555556,\"#d8576b\"],[0.6666666666666666,\"#ed7953\"],[0.7777777777777778,\"#fb9f3a\"],[0.8888888888888888,\"#fdca26\"],[1.0,\"#f0f921\"]]},\"colorway\":[\"#636efa\",\"#EF553B\",\"#00cc96\",\"#ab63fa\",\"#FFA15A\",\"#19d3f3\",\"#FF6692\",\"#B6E880\",\"#FF97FF\",\"#FECB52\"],\"font\":{\"color\":\"#2a3f5f\"},\"geo\":{\"bgcolor\":\"white\",\"lakecolor\":\"white\",\"landcolor\":\"white\",\"showlakes\":true,\"showland\":true,\"subunitcolor\":\"#C8D4E3\"},\"hoverlabel\":{\"align\":\"left\"},\"hovermode\":\"closest\",\"mapbox\":{\"style\":\"light\"},\"paper_bgcolor\":\"white\",\"plot_bgcolor\":\"white\",\"polar\":{\"angularaxis\":{\"gridcolor\":\"#EBF0F8\",\"linecolor\":\"#EBF0F8\",\"ticks\":\"\"},\"bgcolor\":\"white\",\"radialaxis\":{\"gridcolor\":\"#EBF0F8\",\"linecolor\":\"#EBF0F8\",\"ticks\":\"\"}},\"scene\":{\"xaxis\":{\"backgroundcolor\":\"white\",\"gridcolor\":\"#DFE8F3\",\"gridwidth\":2,\"linecolor\":\"#EBF0F8\",\"showbackground\":true,\"ticks\":\"\",\"zerolinecolor\":\"#EBF0F8\"},\"yaxis\":{\"backgroundcolor\":\"white\",\"gridcolor\":\"#DFE8F3\",\"gridwidth\":2,\"linecolor\":\"#EBF0F8\",\"showbackground\":true,\"ticks\":\"\",\"zerolinecolor\":\"#EBF0F8\"},\"zaxis\":{\"backgroundcolor\":\"white\",\"gridcolor\":\"#DFE8F3\",\"gridwidth\":2,\"linecolor\":\"#EBF0F8\",\"showbackground\":true,\"ticks\":\"\",\"zerolinecolor\":\"#EBF0F8\"}},\"shapedefaults\":{\"line\":{\"color\":\"#2a3f5f\"}},\"ternary\":{\"aaxis\":{\"gridcolor\":\"#DFE8F3\",\"linecolor\":\"#A2B1C6\",\"ticks\":\"\"},\"baxis\":{\"gridcolor\":\"#DFE8F3\",\"linecolor\":\"#A2B1C6\",\"ticks\":\"\"},\"bgcolor\":\"white\",\"caxis\":{\"gridcolor\":\"#DFE8F3\",\"linecolor\":\"#A2B1C6\",\"ticks\":\"\"}},\"title\":{\"x\":0.05},\"xaxis\":{\"automargin\":true,\"gridcolor\":\"#EBF0F8\",\"linecolor\":\"#EBF0F8\",\"ticks\":\"\",\"title\":{\"standoff\":15},\"zerolinecolor\":\"#EBF0F8\",\"zerolinewidth\":2},\"yaxis\":{\"automargin\":true,\"gridcolor\":\"#EBF0F8\",\"linecolor\":\"#EBF0F8\",\"ticks\":\"\",\"title\":{\"standoff\":15},\"zerolinecolor\":\"#EBF0F8\",\"zerolinewidth\":2}}},\"xaxis\":{\"anchor\":\"y\",\"domain\":[0.0,0.175],\"showgrid\":true},\"yaxis\":{\"anchor\":\"x\",\"domain\":[0.6000000000000001,1.0],\"showgrid\":true},\"xaxis2\":{\"anchor\":\"y2\",\"domain\":[0.275,0.45],\"showgrid\":true},\"yaxis2\":{\"anchor\":\"x2\",\"domain\":[0.6000000000000001,1.0],\"showgrid\":true},\"xaxis3\":{\"anchor\":\"y3\",\"domain\":[0.55,0.7250000000000001],\"showgrid\":true},\"yaxis3\":{\"anchor\":\"x3\",\"domain\":[0.6000000000000001,1.0],\"showgrid\":true},\"xaxis4\":{\"anchor\":\"y4\",\"domain\":[0.825,1.0],\"showgrid\":true},\"yaxis4\":{\"anchor\":\"x4\",\"domain\":[0.6000000000000001,1.0],\"showgrid\":true},\"xaxis5\":{\"anchor\":\"y5\",\"domain\":[0.0,0.175],\"showgrid\":true},\"yaxis5\":{\"anchor\":\"x5\",\"domain\":[0.0,0.4],\"showgrid\":true},\"xaxis6\":{\"anchor\":\"y6\",\"domain\":[0.275,0.45],\"showgrid\":true},\"yaxis6\":{\"anchor\":\"x6\",\"domain\":[0.0,0.4],\"showgrid\":true},\"xaxis7\":{\"anchor\":\"y7\",\"domain\":[0.55,0.7250000000000001],\"showgrid\":true},\"yaxis7\":{\"anchor\":\"x7\",\"domain\":[0.0,0.4],\"showgrid\":true},\"xaxis8\":{\"anchor\":\"y8\",\"domain\":[0.825,1.0],\"showgrid\":true},\"yaxis8\":{\"anchor\":\"x8\",\"domain\":[0.0,0.4],\"showgrid\":true},\"annotations\":[{\"font\":{\"size\":16},\"showarrow\":false,\"text\":\"Topic 0\",\"x\":0.0875,\"xanchor\":\"center\",\"xref\":\"paper\",\"y\":1.0,\"yanchor\":\"bottom\",\"yref\":\"paper\"},{\"font\":{\"size\":16},\"showarrow\":false,\"text\":\"Topic 1\",\"x\":0.36250000000000004,\"xanchor\":\"center\",\"xref\":\"paper\",\"y\":1.0,\"yanchor\":\"bottom\",\"yref\":\"paper\"},{\"font\":{\"size\":16},\"showarrow\":false,\"text\":\"Topic 2\",\"x\":0.6375000000000001,\"xanchor\":\"center\",\"xref\":\"paper\",\"y\":1.0,\"yanchor\":\"bottom\",\"yref\":\"paper\"},{\"font\":{\"size\":16},\"showarrow\":false,\"text\":\"Topic 3\",\"x\":0.9125,\"xanchor\":\"center\",\"xref\":\"paper\",\"y\":1.0,\"yanchor\":\"bottom\",\"yref\":\"paper\"},{\"font\":{\"size\":16},\"showarrow\":false,\"text\":\"Topic 4\",\"x\":0.0875,\"xanchor\":\"center\",\"xref\":\"paper\",\"y\":0.4,\"yanchor\":\"bottom\",\"yref\":\"paper\"}],\"title\":{\"font\":{\"size\":22,\"color\":\"Black\"},\"text\":\"<b>Topic Word Scores\",\"x\":0.5,\"xanchor\":\"center\",\"yanchor\":\"top\"},\"hoverlabel\":{\"font\":{\"size\":16,\"family\":\"Rockwell\"},\"bgcolor\":\"white\"},\"showlegend\":false,\"width\":1000,\"height\":500},                        {\"responsive\": true}                    ).then(function(){\n",
              "                            \n",
              "var gd = document.getElementById('58e38b8c-0215-4472-b7c7-c693cd8da04f');\n",
              "var x = new MutationObserver(function (mutations, observer) {{\n",
              "        var display = window.getComputedStyle(gd).display;\n",
              "        if (!display || display === 'none') {{\n",
              "            console.log([gd, 'removed!']);\n",
              "            Plotly.purge(gd);\n",
              "            observer.disconnect();\n",
              "        }}\n",
              "}});\n",
              "\n",
              "// Listen for the removal of the full notebook cells\n",
              "var notebookContainer = gd.closest('#notebook-container');\n",
              "if (notebookContainer) {{\n",
              "    x.observe(notebookContainer, {childList: true});\n",
              "}}\n",
              "\n",
              "// Listen for the clearing of the current output cell\n",
              "var outputEl = gd.closest('.output');\n",
              "if (outputEl) {{\n",
              "    x.observe(outputEl, {childList: true});\n",
              "}}\n",
              "\n",
              "                        })                };                            </script>        </div>\n",
              "</body>\n",
              "</html>"
            ]
          },
          "metadata": {}
        }
      ]
    },
    {
      "cell_type": "markdown",
      "metadata": {
        "id": "QCPdi6_z6sbT"
      },
      "source": [
        "## Visualize Topic Similarity\n",
        "Having generated topic embeddings, through both c-TF-IDF and embeddings, we can create a similarity matrix by simply applying cosine similarities through those topic embeddings. The result will be a matrix indicating how similar certain topics are to each other."
      ]
    },
    {
      "cell_type": "code",
      "metadata": {
        "colab": {
          "base_uri": "https://localhost:8080/",
          "height": 1000
        },
        "id": "edzNhZuZ6wTr",
        "outputId": "da75b0fe-f4f7-451b-86fc-9b7a760de41a"
      },
      "source": [
        "topic_model.visualize_heatmap(n_clusters=5, width=1000, height=1000)"
      ],
      "execution_count": 21,
      "outputs": [
        {
          "output_type": "display_data",
          "data": {
            "text/html": [
              "<html>\n",
              "<head><meta charset=\"utf-8\" /></head>\n",
              "<body>\n",
              "    <div>            <script src=\"https://cdnjs.cloudflare.com/ajax/libs/mathjax/2.7.5/MathJax.js?config=TeX-AMS-MML_SVG\"></script><script type=\"text/javascript\">if (window.MathJax) {MathJax.Hub.Config({SVG: {font: \"STIX-Web\"}});}</script>                <script type=\"text/javascript\">window.PlotlyConfig = {MathJaxConfig: 'local'};</script>\n",
              "        <script src=\"https://cdn.plot.ly/plotly-2.8.3.min.js\"></script>                <div id=\"7352aade-7d78-4496-8745-13369c93a2a8\" class=\"plotly-graph-div\" style=\"height:1000px; width:1000px;\"></div>            <script type=\"text/javascript\">                                    window.PLOTLYENV=window.PLOTLYENV || {};                                    if (document.getElementById(\"7352aade-7d78-4496-8745-13369c93a2a8\")) {                    Plotly.newPlot(                        \"7352aade-7d78-4496-8745-13369c93a2a8\",                        [{\"coloraxis\":\"coloraxis\",\"name\":\"0\",\"x\":[\"0_the_of_and\",\"2_the_energy_and\",\"4_and_the_of\",\"5_to_and_of\",\"6_the_of_in\",\"1_the_and_sustainability\",\"3_the_of_in\",\"10_of_the_niche\",\"7_market_lead_environmental\",\"8_transitions_transition_and\",\"9_water_the_in\"],\"y\":[\"0_the_of_and\",\"2_the_energy_and\",\"4_and_the_of\",\"5_to_and_of\",\"6_the_of_in\",\"1_the_and_sustainability\",\"3_the_of_in\",\"10_of_the_niche\",\"7_market_lead_environmental\",\"8_transitions_transition_and\",\"9_water_the_in\"],\"z\":[[1.0000000000000009,0.9577289363805441,0.9640374455526424,0.9721068437419139,0.9609169414439394,0.9191515570427564,0.9558507963559038,0.9208758016110031,0.8625779603787829,0.8769125002082414,0.8957582101489286],[0.9577289363805441,1.0000000000000004,0.9443041573882466,0.9689178901033374,0.9428636859409011,0.932549896797788,0.9414129431736166,0.9248653030412234,0.875889085054907,0.8750376348299866,0.9088155608934307],[0.9640374455526424,0.9443041573882466,0.9999999999999997,0.9659633030541372,0.9408905776796874,0.931679161793103,0.9451487843620844,0.9177768070803962,0.8577026883786671,0.9004637520205439,0.8859752621165831],[0.9721068437419139,0.9689178901033374,0.9659633030541372,1.000000000000001,0.9488732091996085,0.9224418434535199,0.9484151873720333,0.9157869040990361,0.8698974236362987,0.8816925789441465,0.894657290254157],[0.9609169414439394,0.9428636859409011,0.9408905776796874,0.9488732091996085,0.9999999999999997,0.9121124606083418,0.9414923080877822,0.9253952857015815,0.8772546700971627,0.8536530099134523,0.9082215539719825],[0.9191515570427564,0.932549896797788,0.931679161793103,0.9224418434535199,0.9121124606083418,1.0,0.9260132574819474,0.9301371172528103,0.8871989755160894,0.9627123182497964,0.8741868944921506],[0.9558507963559038,0.9414129431736166,0.9451487843620844,0.9484151873720333,0.9414923080877822,0.9260132574819474,1.000000000000001,0.9509281891270929,0.8850919968614732,0.8802563422872212,0.8751210825781004],[0.9208758016110031,0.9248653030412234,0.9177768070803962,0.9157869040990361,0.9253952857015815,0.9301371172528103,0.9509281891270929,0.9999999999999998,0.891087460457474,0.8820951392273871,0.8902348268404798],[0.8625779603787829,0.875889085054907,0.8577026883786671,0.8698974236362987,0.8772546700971627,0.8871989755160894,0.8850919968614732,0.891087460457474,1.0000000000000004,0.8373260118008763,0.8564765746842071],[0.8769125002082414,0.8750376348299866,0.9004637520205439,0.8816925789441465,0.8536530099134523,0.9627123182497964,0.8802563422872212,0.8820951392273871,0.8373260118008763,0.9999999999999996,0.8100452490287597],[0.8957582101489286,0.9088155608934307,0.8859752621165831,0.894657290254157,0.9082215539719825,0.8741868944921506,0.8751210825781004,0.8902348268404798,0.8564765746842071,0.8100452490287597,1.000000000000001]],\"type\":\"heatmap\",\"xaxis\":\"x\",\"yaxis\":\"y\",\"hovertemplate\":\"x: %{x}<br>y: %{y}<br>Similarity Score: %{z}<extra></extra>\"}],                        {\"template\":{\"data\":{\"bar\":[{\"error_x\":{\"color\":\"#2a3f5f\"},\"error_y\":{\"color\":\"#2a3f5f\"},\"marker\":{\"line\":{\"color\":\"#E5ECF6\",\"width\":0.5},\"pattern\":{\"fillmode\":\"overlay\",\"size\":10,\"solidity\":0.2}},\"type\":\"bar\"}],\"barpolar\":[{\"marker\":{\"line\":{\"color\":\"#E5ECF6\",\"width\":0.5},\"pattern\":{\"fillmode\":\"overlay\",\"size\":10,\"solidity\":0.2}},\"type\":\"barpolar\"}],\"carpet\":[{\"aaxis\":{\"endlinecolor\":\"#2a3f5f\",\"gridcolor\":\"white\",\"linecolor\":\"white\",\"minorgridcolor\":\"white\",\"startlinecolor\":\"#2a3f5f\"},\"baxis\":{\"endlinecolor\":\"#2a3f5f\",\"gridcolor\":\"white\",\"linecolor\":\"white\",\"minorgridcolor\":\"white\",\"startlinecolor\":\"#2a3f5f\"},\"type\":\"carpet\"}],\"choropleth\":[{\"colorbar\":{\"outlinewidth\":0,\"ticks\":\"\"},\"type\":\"choropleth\"}],\"contour\":[{\"colorbar\":{\"outlinewidth\":0,\"ticks\":\"\"},\"colorscale\":[[0.0,\"#0d0887\"],[0.1111111111111111,\"#46039f\"],[0.2222222222222222,\"#7201a8\"],[0.3333333333333333,\"#9c179e\"],[0.4444444444444444,\"#bd3786\"],[0.5555555555555556,\"#d8576b\"],[0.6666666666666666,\"#ed7953\"],[0.7777777777777778,\"#fb9f3a\"],[0.8888888888888888,\"#fdca26\"],[1.0,\"#f0f921\"]],\"type\":\"contour\"}],\"contourcarpet\":[{\"colorbar\":{\"outlinewidth\":0,\"ticks\":\"\"},\"type\":\"contourcarpet\"}],\"heatmap\":[{\"colorbar\":{\"outlinewidth\":0,\"ticks\":\"\"},\"colorscale\":[[0.0,\"#0d0887\"],[0.1111111111111111,\"#46039f\"],[0.2222222222222222,\"#7201a8\"],[0.3333333333333333,\"#9c179e\"],[0.4444444444444444,\"#bd3786\"],[0.5555555555555556,\"#d8576b\"],[0.6666666666666666,\"#ed7953\"],[0.7777777777777778,\"#fb9f3a\"],[0.8888888888888888,\"#fdca26\"],[1.0,\"#f0f921\"]],\"type\":\"heatmap\"}],\"heatmapgl\":[{\"colorbar\":{\"outlinewidth\":0,\"ticks\":\"\"},\"colorscale\":[[0.0,\"#0d0887\"],[0.1111111111111111,\"#46039f\"],[0.2222222222222222,\"#7201a8\"],[0.3333333333333333,\"#9c179e\"],[0.4444444444444444,\"#bd3786\"],[0.5555555555555556,\"#d8576b\"],[0.6666666666666666,\"#ed7953\"],[0.7777777777777778,\"#fb9f3a\"],[0.8888888888888888,\"#fdca26\"],[1.0,\"#f0f921\"]],\"type\":\"heatmapgl\"}],\"histogram\":[{\"marker\":{\"pattern\":{\"fillmode\":\"overlay\",\"size\":10,\"solidity\":0.2}},\"type\":\"histogram\"}],\"histogram2d\":[{\"colorbar\":{\"outlinewidth\":0,\"ticks\":\"\"},\"colorscale\":[[0.0,\"#0d0887\"],[0.1111111111111111,\"#46039f\"],[0.2222222222222222,\"#7201a8\"],[0.3333333333333333,\"#9c179e\"],[0.4444444444444444,\"#bd3786\"],[0.5555555555555556,\"#d8576b\"],[0.6666666666666666,\"#ed7953\"],[0.7777777777777778,\"#fb9f3a\"],[0.8888888888888888,\"#fdca26\"],[1.0,\"#f0f921\"]],\"type\":\"histogram2d\"}],\"histogram2dcontour\":[{\"colorbar\":{\"outlinewidth\":0,\"ticks\":\"\"},\"colorscale\":[[0.0,\"#0d0887\"],[0.1111111111111111,\"#46039f\"],[0.2222222222222222,\"#7201a8\"],[0.3333333333333333,\"#9c179e\"],[0.4444444444444444,\"#bd3786\"],[0.5555555555555556,\"#d8576b\"],[0.6666666666666666,\"#ed7953\"],[0.7777777777777778,\"#fb9f3a\"],[0.8888888888888888,\"#fdca26\"],[1.0,\"#f0f921\"]],\"type\":\"histogram2dcontour\"}],\"mesh3d\":[{\"colorbar\":{\"outlinewidth\":0,\"ticks\":\"\"},\"type\":\"mesh3d\"}],\"parcoords\":[{\"line\":{\"colorbar\":{\"outlinewidth\":0,\"ticks\":\"\"}},\"type\":\"parcoords\"}],\"pie\":[{\"automargin\":true,\"type\":\"pie\"}],\"scatter\":[{\"marker\":{\"colorbar\":{\"outlinewidth\":0,\"ticks\":\"\"}},\"type\":\"scatter\"}],\"scatter3d\":[{\"line\":{\"colorbar\":{\"outlinewidth\":0,\"ticks\":\"\"}},\"marker\":{\"colorbar\":{\"outlinewidth\":0,\"ticks\":\"\"}},\"type\":\"scatter3d\"}],\"scattercarpet\":[{\"marker\":{\"colorbar\":{\"outlinewidth\":0,\"ticks\":\"\"}},\"type\":\"scattercarpet\"}],\"scattergeo\":[{\"marker\":{\"colorbar\":{\"outlinewidth\":0,\"ticks\":\"\"}},\"type\":\"scattergeo\"}],\"scattergl\":[{\"marker\":{\"colorbar\":{\"outlinewidth\":0,\"ticks\":\"\"}},\"type\":\"scattergl\"}],\"scattermapbox\":[{\"marker\":{\"colorbar\":{\"outlinewidth\":0,\"ticks\":\"\"}},\"type\":\"scattermapbox\"}],\"scatterpolar\":[{\"marker\":{\"colorbar\":{\"outlinewidth\":0,\"ticks\":\"\"}},\"type\":\"scatterpolar\"}],\"scatterpolargl\":[{\"marker\":{\"colorbar\":{\"outlinewidth\":0,\"ticks\":\"\"}},\"type\":\"scatterpolargl\"}],\"scatterternary\":[{\"marker\":{\"colorbar\":{\"outlinewidth\":0,\"ticks\":\"\"}},\"type\":\"scatterternary\"}],\"surface\":[{\"colorbar\":{\"outlinewidth\":0,\"ticks\":\"\"},\"colorscale\":[[0.0,\"#0d0887\"],[0.1111111111111111,\"#46039f\"],[0.2222222222222222,\"#7201a8\"],[0.3333333333333333,\"#9c179e\"],[0.4444444444444444,\"#bd3786\"],[0.5555555555555556,\"#d8576b\"],[0.6666666666666666,\"#ed7953\"],[0.7777777777777778,\"#fb9f3a\"],[0.8888888888888888,\"#fdca26\"],[1.0,\"#f0f921\"]],\"type\":\"surface\"}],\"table\":[{\"cells\":{\"fill\":{\"color\":\"#EBF0F8\"},\"line\":{\"color\":\"white\"}},\"header\":{\"fill\":{\"color\":\"#C8D4E3\"},\"line\":{\"color\":\"white\"}},\"type\":\"table\"}]},\"layout\":{\"annotationdefaults\":{\"arrowcolor\":\"#2a3f5f\",\"arrowhead\":0,\"arrowwidth\":1},\"autotypenumbers\":\"strict\",\"coloraxis\":{\"colorbar\":{\"outlinewidth\":0,\"ticks\":\"\"}},\"colorscale\":{\"diverging\":[[0,\"#8e0152\"],[0.1,\"#c51b7d\"],[0.2,\"#de77ae\"],[0.3,\"#f1b6da\"],[0.4,\"#fde0ef\"],[0.5,\"#f7f7f7\"],[0.6,\"#e6f5d0\"],[0.7,\"#b8e186\"],[0.8,\"#7fbc41\"],[0.9,\"#4d9221\"],[1,\"#276419\"]],\"sequential\":[[0.0,\"#0d0887\"],[0.1111111111111111,\"#46039f\"],[0.2222222222222222,\"#7201a8\"],[0.3333333333333333,\"#9c179e\"],[0.4444444444444444,\"#bd3786\"],[0.5555555555555556,\"#d8576b\"],[0.6666666666666666,\"#ed7953\"],[0.7777777777777778,\"#fb9f3a\"],[0.8888888888888888,\"#fdca26\"],[1.0,\"#f0f921\"]],\"sequentialminus\":[[0.0,\"#0d0887\"],[0.1111111111111111,\"#46039f\"],[0.2222222222222222,\"#7201a8\"],[0.3333333333333333,\"#9c179e\"],[0.4444444444444444,\"#bd3786\"],[0.5555555555555556,\"#d8576b\"],[0.6666666666666666,\"#ed7953\"],[0.7777777777777778,\"#fb9f3a\"],[0.8888888888888888,\"#fdca26\"],[1.0,\"#f0f921\"]]},\"colorway\":[\"#636efa\",\"#EF553B\",\"#00cc96\",\"#ab63fa\",\"#FFA15A\",\"#19d3f3\",\"#FF6692\",\"#B6E880\",\"#FF97FF\",\"#FECB52\"],\"font\":{\"color\":\"#2a3f5f\"},\"geo\":{\"bgcolor\":\"white\",\"lakecolor\":\"white\",\"landcolor\":\"#E5ECF6\",\"showlakes\":true,\"showland\":true,\"subunitcolor\":\"white\"},\"hoverlabel\":{\"align\":\"left\"},\"hovermode\":\"closest\",\"mapbox\":{\"style\":\"light\"},\"paper_bgcolor\":\"white\",\"plot_bgcolor\":\"#E5ECF6\",\"polar\":{\"angularaxis\":{\"gridcolor\":\"white\",\"linecolor\":\"white\",\"ticks\":\"\"},\"bgcolor\":\"#E5ECF6\",\"radialaxis\":{\"gridcolor\":\"white\",\"linecolor\":\"white\",\"ticks\":\"\"}},\"scene\":{\"xaxis\":{\"backgroundcolor\":\"#E5ECF6\",\"gridcolor\":\"white\",\"gridwidth\":2,\"linecolor\":\"white\",\"showbackground\":true,\"ticks\":\"\",\"zerolinecolor\":\"white\"},\"yaxis\":{\"backgroundcolor\":\"#E5ECF6\",\"gridcolor\":\"white\",\"gridwidth\":2,\"linecolor\":\"white\",\"showbackground\":true,\"ticks\":\"\",\"zerolinecolor\":\"white\"},\"zaxis\":{\"backgroundcolor\":\"#E5ECF6\",\"gridcolor\":\"white\",\"gridwidth\":2,\"linecolor\":\"white\",\"showbackground\":true,\"ticks\":\"\",\"zerolinecolor\":\"white\"}},\"shapedefaults\":{\"line\":{\"color\":\"#2a3f5f\"}},\"ternary\":{\"aaxis\":{\"gridcolor\":\"white\",\"linecolor\":\"white\",\"ticks\":\"\"},\"baxis\":{\"gridcolor\":\"white\",\"linecolor\":\"white\",\"ticks\":\"\"},\"bgcolor\":\"#E5ECF6\",\"caxis\":{\"gridcolor\":\"white\",\"linecolor\":\"white\",\"ticks\":\"\"}},\"title\":{\"x\":0.05},\"xaxis\":{\"automargin\":true,\"gridcolor\":\"white\",\"linecolor\":\"white\",\"ticks\":\"\",\"title\":{\"standoff\":15},\"zerolinecolor\":\"white\",\"zerolinewidth\":2},\"yaxis\":{\"automargin\":true,\"gridcolor\":\"white\",\"linecolor\":\"white\",\"ticks\":\"\",\"title\":{\"standoff\":15},\"zerolinecolor\":\"white\",\"zerolinewidth\":2}}},\"xaxis\":{\"anchor\":\"y\",\"domain\":[0.0,1.0],\"scaleanchor\":\"y\",\"constrain\":\"domain\"},\"yaxis\":{\"anchor\":\"x\",\"domain\":[0.0,1.0],\"autorange\":\"reversed\",\"constrain\":\"domain\"},\"coloraxis\":{\"colorbar\":{\"title\":{\"text\":\"Similarity Score\"}},\"colorscale\":[[0.0,\"rgb(247,252,240)\"],[0.125,\"rgb(224,243,219)\"],[0.25,\"rgb(204,235,197)\"],[0.375,\"rgb(168,221,181)\"],[0.5,\"rgb(123,204,196)\"],[0.625,\"rgb(78,179,211)\"],[0.75,\"rgb(43,140,190)\"],[0.875,\"rgb(8,104,172)\"],[1.0,\"rgb(8,64,129)\"]]},\"margin\":{\"t\":60},\"title\":{\"font\":{\"size\":22,\"color\":\"Black\"},\"text\":\"<b>Similarity Matrix\",\"y\":0.95,\"x\":0.55,\"xanchor\":\"center\",\"yanchor\":\"top\"},\"hoverlabel\":{\"font\":{\"size\":16,\"family\":\"Rockwell\"},\"bgcolor\":\"white\"},\"width\":1000,\"height\":1000,\"showlegend\":true,\"legend\":{\"title\":{\"text\":\"Trend\"}}},                        {\"responsive\": true}                    ).then(function(){\n",
              "                            \n",
              "var gd = document.getElementById('7352aade-7d78-4496-8745-13369c93a2a8');\n",
              "var x = new MutationObserver(function (mutations, observer) {{\n",
              "        var display = window.getComputedStyle(gd).display;\n",
              "        if (!display || display === 'none') {{\n",
              "            console.log([gd, 'removed!']);\n",
              "            Plotly.purge(gd);\n",
              "            observer.disconnect();\n",
              "        }}\n",
              "}});\n",
              "\n",
              "// Listen for the removal of the full notebook cells\n",
              "var notebookContainer = gd.closest('#notebook-container');\n",
              "if (notebookContainer) {{\n",
              "    x.observe(notebookContainer, {childList: true});\n",
              "}}\n",
              "\n",
              "// Listen for the clearing of the current output cell\n",
              "var outputEl = gd.closest('.output');\n",
              "if (outputEl) {{\n",
              "    x.observe(outputEl, {childList: true});\n",
              "}}\n",
              "\n",
              "                        })                };                            </script>        </div>\n",
              "</body>\n",
              "</html>"
            ]
          },
          "metadata": {}
        }
      ]
    },
    {
      "cell_type": "markdown",
      "metadata": {
        "id": "_ak_CLR164mx"
      },
      "source": [
        "## Visualize Term Score Decline\n",
        "Topics are represented by a number of words starting with the best representative word. Each word is represented by a c-TF-IDF score. The higher the score, the more representative a word to the topic is. Since the topic words are sorted by their c-TF-IDF score, the scores slowly decline with each word that is added. At some point adding words to the topic representation only marginally increases the total c-TF-IDF score and would not be beneficial for its representation.\n",
        "\n",
        "To visualize this effect, we can plot the c-TF-IDF scores for each topic by the term rank of each word. In other words, the position of the words (term rank), where the words with the highest c-TF-IDF score will have a rank of 1, will be put on the x-axis. Whereas the y-axis will be populated by the c-TF-IDF scores. The result is a visualization that shows you the decline of c-TF-IDF score when adding words to the topic representation. It allows you, using the elbow method, the select the best number of words in a topic.\n"
      ]
    },
    {
      "cell_type": "code",
      "metadata": {
        "colab": {
          "base_uri": "https://localhost:8080/",
          "height": 537
        },
        "id": "7gT3Korh6-MX",
        "outputId": "b69c9244-3ae0-41af-ff94-05e5031bbb75"
      },
      "source": [
        "topic_model.visualize_term_rank()"
      ],
      "execution_count": 22,
      "outputs": [
        {
          "output_type": "display_data",
          "data": {
            "text/html": [
              "<html>\n",
              "<head><meta charset=\"utf-8\" /></head>\n",
              "<body>\n",
              "    <div>            <script src=\"https://cdnjs.cloudflare.com/ajax/libs/mathjax/2.7.5/MathJax.js?config=TeX-AMS-MML_SVG\"></script><script type=\"text/javascript\">if (window.MathJax) {MathJax.Hub.Config({SVG: {font: \"STIX-Web\"}});}</script>                <script type=\"text/javascript\">window.PlotlyConfig = {MathJaxConfig: 'local'};</script>\n",
              "        <script src=\"https://cdn.plot.ly/plotly-2.8.3.min.js\"></script>                <div id=\"63988d1d-0892-4d65-9207-cb9c045a0ef7\" class=\"plotly-graph-div\" style=\"height:500px; width:800px;\"></div>            <script type=\"text/javascript\">                                    window.PLOTLYENV=window.PLOTLYENV || {};                                    if (document.getElementById(\"63988d1d-0892-4d65-9207-cb9c045a0ef7\")) {                    Plotly.newPlot(                        \"63988d1d-0892-4d65-9207-cb9c045a0ef7\",                        [{\"hovertext\":\"<b>Topic -1</b>:the_and_of_to_in_that_on_for_this_\",\"line\":{\"color\":\"black\",\"width\":1.5},\"mode\":\"lines+lines\",\"name\":\"\",\"opacity\":0.1,\"x\":[1,2,3,4,5,6,7,8,9,10],\"y\":[0.05230006855657271,0.047720186610076265,0.04672332976492873,0.03758348406995396,0.03619337551149539,0.02501357708423058,0.022593697567417224,0.022290954633347588,0.021052905207522465,0.020626589777157027],\"type\":\"scatter\"},{\"hovertext\":\"<b>Topic 0</b>:the_of_and_to_in_that_sharing_is_we\",\"line\":{\"color\":\"black\",\"width\":1.5},\"mode\":\"lines+lines\",\"name\":\"\",\"opacity\":0.1,\"x\":[1,2,3,4,5,6,7,8,9,10],\"y\":[0.04816012202409878,0.043975136685373416,0.04128465599762049,0.03931447272481977,0.032798677942728754,0.02709315547874713,0.02653621341170918,0.024146796282296268,0.023152455249453918,0.022051101320927056],\"type\":\"scatter\"},{\"hovertext\":\"<b>Topic 1</b>:the_and_sustainability_of_transitio\",\"line\":{\"color\":\"black\",\"width\":1.5},\"mode\":\"lines+lines\",\"name\":\"\",\"opacity\":0.1,\"x\":[1,2,3,4,5,6,7,8,9,10],\"y\":[0.05016515551503085,0.04994880176295085,0.04496187398042878,0.04198601621345362,0.0416979508617671,0.03897271192197255,0.03400361642263764,0.03295457240320059,0.027598321008640462,0.024738109599355313],\"type\":\"scatter\"},{\"hovertext\":\"<b>Topic 2</b>:the_energy_and_of_in_to_on_this_pol\",\"line\":{\"color\":\"black\",\"width\":1.5},\"mode\":\"lines+lines\",\"name\":\"\",\"opacity\":0.1,\"x\":[1,2,3,4,5,6,7,8,9,10],\"y\":[0.05897023438818494,0.058210539223210636,0.048700659886787144,0.04769696071567578,0.03757571625664066,0.03251895084654226,0.02310348345976141,0.022654200059704782,0.022493849948749717,0.020284843509199707],\"type\":\"scatter\"},{\"hovertext\":\"<b>Topic 3</b>:the_of_in_and_innovation_tis_to_tec\",\"line\":{\"color\":\"black\",\"width\":1.5},\"mode\":\"lines+lines\",\"name\":\"\",\"opacity\":0.1,\"x\":[1,2,3,4,5,6,7,8,9,10],\"y\":[0.05419292194109985,0.043803737083094936,0.04114315255047417,0.04077883413016471,0.04006634444956014,0.03571782163706833,0.03544575120253533,0.03352199915982108,0.02592992573984075,0.02537300991324606],\"type\":\"scatter\"},{\"hovertext\":\"<b>Topic 4</b>:and_the_of_urban_in_to_transitions_\",\"line\":{\"color\":\"black\",\"width\":1.5},\"mode\":\"lines+lines\",\"name\":\"\",\"opacity\":0.1,\"x\":[1,2,3,4,5,6,7,8,9,10],\"y\":[0.05125632585034499,0.05084098859560626,0.04899377289928589,0.048069858068724484,0.03857685935660528,0.03635676889944619,0.03250408311219455,0.031975459459270814,0.029070553248147772,0.02770257072363422],\"type\":\"scatter\"},{\"hovertext\":\"<b>Topic 5</b>:to_and_of_the_carbon_is_that_in_ene\",\"line\":{\"color\":\"black\",\"width\":1.5},\"mode\":\"lines+lines\",\"name\":\"\",\"opacity\":0.1,\"x\":[1,2,3,4,5,6,7,8,9,10],\"y\":[0.04644659554451767,0.045840774609105864,0.03963673550892084,0.038918862563444116,0.03418000283018399,0.029247853747844325,0.029005762459859395,0.027955810145402372,0.027475738916973337,0.02708874142236125],\"type\":\"scatter\"},{\"hovertext\":\"<b>Topic 6</b>:the_of_in_food_and_to_we_agrifood_t\",\"line\":{\"color\":\"black\",\"width\":1.5},\"mode\":\"lines+lines\",\"name\":\"\",\"opacity\":0.1,\"x\":[1,2,3,4,5,6,7,8,9,10],\"y\":[0.06013126134583806,0.04560034131509939,0.043645472535385484,0.04110921988708782,0.039603537372301024,0.037205186464776704,0.03292300780524227,0.03139319972323835,0.028191542536310243,0.025937442248009007],\"type\":\"scatter\"},{\"hovertext\":\"<b>Topic 7</b>:market_lead_environmental_the_of_fo\",\"line\":{\"color\":\"black\",\"width\":1.5},\"mode\":\"lines+lines\",\"name\":\"\",\"opacity\":0.1,\"x\":[1,2,3,4,5,6,7,8,9,10],\"y\":[0.06336577460662511,0.06278765786568516,0.05126968522682986,0.04883505366255547,0.04265631927931753,0.041344413474708984,0.03971007675839892,0.03969286865960697,0.03780986123526964,0.035157850485459996],\"type\":\"scatter\"},{\"hovertext\":\"<b>Topic 8</b>:transitions_transition_and_of_the_i\",\"line\":{\"color\":\"black\",\"width\":1.5},\"mode\":\"lines+lines\",\"name\":\"\",\"opacity\":0.1,\"x\":[1,2,3,4,5,6,7,8,9,10],\"y\":[0.06469466401620719,0.05179716428095745,0.04935576476693426,0.044414726887677634,0.043305687390527106,0.04197531898326569,0.0383469381353519,0.036587971212262045,0.03647920801984852,0.03634597634665475],\"type\":\"scatter\"},{\"hovertext\":\"<b>Topic 9</b>:water_the_in_of_to_and_sanitation_u\",\"line\":{\"color\":\"black\",\"width\":1.5},\"mode\":\"lines+lines\",\"name\":\"\",\"opacity\":0.1,\"x\":[1,2,3,4,5,6,7,8,9,10],\"y\":[0.08639221739782144,0.057726555307058336,0.049077798296207946,0.047335732669024286,0.03836961618896421,0.03550019134722763,0.03246029347034788,0.02968671471567028,0.02729828723025758,0.023471987371407012],\"type\":\"scatter\"},{\"hovertext\":\"<b>Topic 10</b>:of_the_niche_and_systems_innovatio\",\"line\":{\"color\":\"black\",\"width\":1.5},\"mode\":\"lines+lines\",\"name\":\"\",\"opacity\":0.1,\"x\":[1,2,3,4,5,6,7,8,9,10],\"y\":[0.056802095671610826,0.05451266387580423,0.047380773239015316,0.04536072990195408,0.0383584427425882,0.035791680978101446,0.03488066364843351,0.03466106663699697,0.03407618990023556,0.030004012604813207],\"type\":\"scatter\"}],                        {\"template\":{\"data\":{\"barpolar\":[{\"marker\":{\"line\":{\"color\":\"white\",\"width\":0.5},\"pattern\":{\"fillmode\":\"overlay\",\"size\":10,\"solidity\":0.2}},\"type\":\"barpolar\"}],\"bar\":[{\"error_x\":{\"color\":\"#2a3f5f\"},\"error_y\":{\"color\":\"#2a3f5f\"},\"marker\":{\"line\":{\"color\":\"white\",\"width\":0.5},\"pattern\":{\"fillmode\":\"overlay\",\"size\":10,\"solidity\":0.2}},\"type\":\"bar\"}],\"carpet\":[{\"aaxis\":{\"endlinecolor\":\"#2a3f5f\",\"gridcolor\":\"#C8D4E3\",\"linecolor\":\"#C8D4E3\",\"minorgridcolor\":\"#C8D4E3\",\"startlinecolor\":\"#2a3f5f\"},\"baxis\":{\"endlinecolor\":\"#2a3f5f\",\"gridcolor\":\"#C8D4E3\",\"linecolor\":\"#C8D4E3\",\"minorgridcolor\":\"#C8D4E3\",\"startlinecolor\":\"#2a3f5f\"},\"type\":\"carpet\"}],\"choropleth\":[{\"colorbar\":{\"outlinewidth\":0,\"ticks\":\"\"},\"type\":\"choropleth\"}],\"contourcarpet\":[{\"colorbar\":{\"outlinewidth\":0,\"ticks\":\"\"},\"type\":\"contourcarpet\"}],\"contour\":[{\"colorbar\":{\"outlinewidth\":0,\"ticks\":\"\"},\"colorscale\":[[0.0,\"#0d0887\"],[0.1111111111111111,\"#46039f\"],[0.2222222222222222,\"#7201a8\"],[0.3333333333333333,\"#9c179e\"],[0.4444444444444444,\"#bd3786\"],[0.5555555555555556,\"#d8576b\"],[0.6666666666666666,\"#ed7953\"],[0.7777777777777778,\"#fb9f3a\"],[0.8888888888888888,\"#fdca26\"],[1.0,\"#f0f921\"]],\"type\":\"contour\"}],\"heatmapgl\":[{\"colorbar\":{\"outlinewidth\":0,\"ticks\":\"\"},\"colorscale\":[[0.0,\"#0d0887\"],[0.1111111111111111,\"#46039f\"],[0.2222222222222222,\"#7201a8\"],[0.3333333333333333,\"#9c179e\"],[0.4444444444444444,\"#bd3786\"],[0.5555555555555556,\"#d8576b\"],[0.6666666666666666,\"#ed7953\"],[0.7777777777777778,\"#fb9f3a\"],[0.8888888888888888,\"#fdca26\"],[1.0,\"#f0f921\"]],\"type\":\"heatmapgl\"}],\"heatmap\":[{\"colorbar\":{\"outlinewidth\":0,\"ticks\":\"\"},\"colorscale\":[[0.0,\"#0d0887\"],[0.1111111111111111,\"#46039f\"],[0.2222222222222222,\"#7201a8\"],[0.3333333333333333,\"#9c179e\"],[0.4444444444444444,\"#bd3786\"],[0.5555555555555556,\"#d8576b\"],[0.6666666666666666,\"#ed7953\"],[0.7777777777777778,\"#fb9f3a\"],[0.8888888888888888,\"#fdca26\"],[1.0,\"#f0f921\"]],\"type\":\"heatmap\"}],\"histogram2dcontour\":[{\"colorbar\":{\"outlinewidth\":0,\"ticks\":\"\"},\"colorscale\":[[0.0,\"#0d0887\"],[0.1111111111111111,\"#46039f\"],[0.2222222222222222,\"#7201a8\"],[0.3333333333333333,\"#9c179e\"],[0.4444444444444444,\"#bd3786\"],[0.5555555555555556,\"#d8576b\"],[0.6666666666666666,\"#ed7953\"],[0.7777777777777778,\"#fb9f3a\"],[0.8888888888888888,\"#fdca26\"],[1.0,\"#f0f921\"]],\"type\":\"histogram2dcontour\"}],\"histogram2d\":[{\"colorbar\":{\"outlinewidth\":0,\"ticks\":\"\"},\"colorscale\":[[0.0,\"#0d0887\"],[0.1111111111111111,\"#46039f\"],[0.2222222222222222,\"#7201a8\"],[0.3333333333333333,\"#9c179e\"],[0.4444444444444444,\"#bd3786\"],[0.5555555555555556,\"#d8576b\"],[0.6666666666666666,\"#ed7953\"],[0.7777777777777778,\"#fb9f3a\"],[0.8888888888888888,\"#fdca26\"],[1.0,\"#f0f921\"]],\"type\":\"histogram2d\"}],\"histogram\":[{\"marker\":{\"pattern\":{\"fillmode\":\"overlay\",\"size\":10,\"solidity\":0.2}},\"type\":\"histogram\"}],\"mesh3d\":[{\"colorbar\":{\"outlinewidth\":0,\"ticks\":\"\"},\"type\":\"mesh3d\"}],\"parcoords\":[{\"line\":{\"colorbar\":{\"outlinewidth\":0,\"ticks\":\"\"}},\"type\":\"parcoords\"}],\"pie\":[{\"automargin\":true,\"type\":\"pie\"}],\"scatter3d\":[{\"line\":{\"colorbar\":{\"outlinewidth\":0,\"ticks\":\"\"}},\"marker\":{\"colorbar\":{\"outlinewidth\":0,\"ticks\":\"\"}},\"type\":\"scatter3d\"}],\"scattercarpet\":[{\"marker\":{\"colorbar\":{\"outlinewidth\":0,\"ticks\":\"\"}},\"type\":\"scattercarpet\"}],\"scattergeo\":[{\"marker\":{\"colorbar\":{\"outlinewidth\":0,\"ticks\":\"\"}},\"type\":\"scattergeo\"}],\"scattergl\":[{\"marker\":{\"colorbar\":{\"outlinewidth\":0,\"ticks\":\"\"}},\"type\":\"scattergl\"}],\"scattermapbox\":[{\"marker\":{\"colorbar\":{\"outlinewidth\":0,\"ticks\":\"\"}},\"type\":\"scattermapbox\"}],\"scatterpolargl\":[{\"marker\":{\"colorbar\":{\"outlinewidth\":0,\"ticks\":\"\"}},\"type\":\"scatterpolargl\"}],\"scatterpolar\":[{\"marker\":{\"colorbar\":{\"outlinewidth\":0,\"ticks\":\"\"}},\"type\":\"scatterpolar\"}],\"scatter\":[{\"marker\":{\"colorbar\":{\"outlinewidth\":0,\"ticks\":\"\"}},\"type\":\"scatter\"}],\"scatterternary\":[{\"marker\":{\"colorbar\":{\"outlinewidth\":0,\"ticks\":\"\"}},\"type\":\"scatterternary\"}],\"surface\":[{\"colorbar\":{\"outlinewidth\":0,\"ticks\":\"\"},\"colorscale\":[[0.0,\"#0d0887\"],[0.1111111111111111,\"#46039f\"],[0.2222222222222222,\"#7201a8\"],[0.3333333333333333,\"#9c179e\"],[0.4444444444444444,\"#bd3786\"],[0.5555555555555556,\"#d8576b\"],[0.6666666666666666,\"#ed7953\"],[0.7777777777777778,\"#fb9f3a\"],[0.8888888888888888,\"#fdca26\"],[1.0,\"#f0f921\"]],\"type\":\"surface\"}],\"table\":[{\"cells\":{\"fill\":{\"color\":\"#EBF0F8\"},\"line\":{\"color\":\"white\"}},\"header\":{\"fill\":{\"color\":\"#C8D4E3\"},\"line\":{\"color\":\"white\"}},\"type\":\"table\"}]},\"layout\":{\"annotationdefaults\":{\"arrowcolor\":\"#2a3f5f\",\"arrowhead\":0,\"arrowwidth\":1},\"autotypenumbers\":\"strict\",\"coloraxis\":{\"colorbar\":{\"outlinewidth\":0,\"ticks\":\"\"}},\"colorscale\":{\"diverging\":[[0,\"#8e0152\"],[0.1,\"#c51b7d\"],[0.2,\"#de77ae\"],[0.3,\"#f1b6da\"],[0.4,\"#fde0ef\"],[0.5,\"#f7f7f7\"],[0.6,\"#e6f5d0\"],[0.7,\"#b8e186\"],[0.8,\"#7fbc41\"],[0.9,\"#4d9221\"],[1,\"#276419\"]],\"sequential\":[[0.0,\"#0d0887\"],[0.1111111111111111,\"#46039f\"],[0.2222222222222222,\"#7201a8\"],[0.3333333333333333,\"#9c179e\"],[0.4444444444444444,\"#bd3786\"],[0.5555555555555556,\"#d8576b\"],[0.6666666666666666,\"#ed7953\"],[0.7777777777777778,\"#fb9f3a\"],[0.8888888888888888,\"#fdca26\"],[1.0,\"#f0f921\"]],\"sequentialminus\":[[0.0,\"#0d0887\"],[0.1111111111111111,\"#46039f\"],[0.2222222222222222,\"#7201a8\"],[0.3333333333333333,\"#9c179e\"],[0.4444444444444444,\"#bd3786\"],[0.5555555555555556,\"#d8576b\"],[0.6666666666666666,\"#ed7953\"],[0.7777777777777778,\"#fb9f3a\"],[0.8888888888888888,\"#fdca26\"],[1.0,\"#f0f921\"]]},\"colorway\":[\"#636efa\",\"#EF553B\",\"#00cc96\",\"#ab63fa\",\"#FFA15A\",\"#19d3f3\",\"#FF6692\",\"#B6E880\",\"#FF97FF\",\"#FECB52\"],\"font\":{\"color\":\"#2a3f5f\"},\"geo\":{\"bgcolor\":\"white\",\"lakecolor\":\"white\",\"landcolor\":\"white\",\"showlakes\":true,\"showland\":true,\"subunitcolor\":\"#C8D4E3\"},\"hoverlabel\":{\"align\":\"left\"},\"hovermode\":\"closest\",\"mapbox\":{\"style\":\"light\"},\"paper_bgcolor\":\"white\",\"plot_bgcolor\":\"white\",\"polar\":{\"angularaxis\":{\"gridcolor\":\"#EBF0F8\",\"linecolor\":\"#EBF0F8\",\"ticks\":\"\"},\"bgcolor\":\"white\",\"radialaxis\":{\"gridcolor\":\"#EBF0F8\",\"linecolor\":\"#EBF0F8\",\"ticks\":\"\"}},\"scene\":{\"xaxis\":{\"backgroundcolor\":\"white\",\"gridcolor\":\"#DFE8F3\",\"gridwidth\":2,\"linecolor\":\"#EBF0F8\",\"showbackground\":true,\"ticks\":\"\",\"zerolinecolor\":\"#EBF0F8\"},\"yaxis\":{\"backgroundcolor\":\"white\",\"gridcolor\":\"#DFE8F3\",\"gridwidth\":2,\"linecolor\":\"#EBF0F8\",\"showbackground\":true,\"ticks\":\"\",\"zerolinecolor\":\"#EBF0F8\"},\"zaxis\":{\"backgroundcolor\":\"white\",\"gridcolor\":\"#DFE8F3\",\"gridwidth\":2,\"linecolor\":\"#EBF0F8\",\"showbackground\":true,\"ticks\":\"\",\"zerolinecolor\":\"#EBF0F8\"}},\"shapedefaults\":{\"line\":{\"color\":\"#2a3f5f\"}},\"ternary\":{\"aaxis\":{\"gridcolor\":\"#DFE8F3\",\"linecolor\":\"#A2B1C6\",\"ticks\":\"\"},\"baxis\":{\"gridcolor\":\"#DFE8F3\",\"linecolor\":\"#A2B1C6\",\"ticks\":\"\"},\"bgcolor\":\"white\",\"caxis\":{\"gridcolor\":\"#DFE8F3\",\"linecolor\":\"#A2B1C6\",\"ticks\":\"\"}},\"title\":{\"x\":0.05},\"xaxis\":{\"automargin\":true,\"gridcolor\":\"#EBF0F8\",\"linecolor\":\"#EBF0F8\",\"ticks\":\"\",\"title\":{\"standoff\":15},\"zerolinecolor\":\"#EBF0F8\",\"zerolinewidth\":2},\"yaxis\":{\"automargin\":true,\"gridcolor\":\"#EBF0F8\",\"linecolor\":\"#EBF0F8\",\"ticks\":\"\",\"title\":{\"standoff\":15},\"zerolinecolor\":\"#EBF0F8\",\"zerolinewidth\":2}}},\"xaxis\":{\"range\":[0,10],\"tick0\":1,\"dtick\":2,\"title\":{\"text\":\"Term Rank\"}},\"title\":{\"font\":{\"size\":22,\"color\":\"Black\"},\"text\":\"<b>Term score decline per Topic</b>\",\"y\":0.9,\"x\":0.5,\"xanchor\":\"center\",\"yanchor\":\"top\"},\"hoverlabel\":{\"font\":{\"size\":16,\"family\":\"Rockwell\"},\"bgcolor\":\"white\"},\"showlegend\":false,\"width\":800,\"height\":500,\"yaxis\":{\"title\":{\"text\":\"c-TF-IDF score\"}}},                        {\"responsive\": true}                    ).then(function(){\n",
              "                            \n",
              "var gd = document.getElementById('63988d1d-0892-4d65-9207-cb9c045a0ef7');\n",
              "var x = new MutationObserver(function (mutations, observer) {{\n",
              "        var display = window.getComputedStyle(gd).display;\n",
              "        if (!display || display === 'none') {{\n",
              "            console.log([gd, 'removed!']);\n",
              "            Plotly.purge(gd);\n",
              "            observer.disconnect();\n",
              "        }}\n",
              "}});\n",
              "\n",
              "// Listen for the removal of the full notebook cells\n",
              "var notebookContainer = gd.closest('#notebook-container');\n",
              "if (notebookContainer) {{\n",
              "    x.observe(notebookContainer, {childList: true});\n",
              "}}\n",
              "\n",
              "// Listen for the clearing of the current output cell\n",
              "var outputEl = gd.closest('.output');\n",
              "if (outputEl) {{\n",
              "    x.observe(outputEl, {childList: true});\n",
              "}}\n",
              "\n",
              "                        })                };                            </script>        </div>\n",
              "</body>\n",
              "</html>"
            ]
          },
          "metadata": {}
        }
      ]
    },
    {
      "cell_type": "markdown",
      "metadata": {
        "id": "D48ienfZrfP0"
      },
      "source": [
        "# **Topic Representation**\n",
        "After having created the topic model, you might not be satisfied with some of the parameters you have chosen. Fortunately, BERTopic allows you to update the topics after they have been created. \n",
        "\n",
        "This allows for fine-tuning the model to your specifications and wishes. "
      ]
    },
    {
      "cell_type": "markdown",
      "metadata": {
        "id": "c4m3UMsw-Zxk"
      },
      "source": [
        "## Update Topics\n",
        "When you have trained a model and viewed the topics and the words that represent them,\n",
        "you might not be satisfied with the representation. Perhaps you forgot to remove\n",
        "stopwords or you want to try out a different `n_gram_range`. We can use the function `update_topics` to update \n",
        "the topic representation with new parameters for `c-TF-IDF`: \n"
      ]
    },
    {
      "cell_type": "code",
      "metadata": {
        "id": "KWm7B-FJ-iYW"
      },
      "source": [
        "topic_model.update_topics(docs.loc[:,'text'], n_gram_range=(1, 2))"
      ],
      "execution_count": 26,
      "outputs": []
    },
    {
      "cell_type": "code",
      "metadata": {
        "colab": {
          "base_uri": "https://localhost:8080/"
        },
        "id": "wf31gQavdtfG",
        "outputId": "70c7a589-c60e-4efe-8512-77eae7ae4105"
      },
      "source": [
        "topic_model.get_topic(0)   # We select topic that we viewed before"
      ],
      "execution_count": 24,
      "outputs": [
        {
          "output_type": "execute_result",
          "data": {
            "text/plain": [
              "[('the', 0.04816012202409878),\n",
              " ('of', 0.043975136685373416),\n",
              " ('and', 0.04128465599762049),\n",
              " ('to', 0.03931447272481977),\n",
              " ('in', 0.032798677942728754),\n",
              " ('that', 0.02709315547874713),\n",
              " ('sharing', 0.02653621341170918),\n",
              " ('is', 0.024146796282296268),\n",
              " ('we', 0.023152455249453918),\n",
              " ('electric', 0.022051101320927056)]"
            ]
          },
          "metadata": {},
          "execution_count": 24
        }
      ]
    },
    {
      "cell_type": "markdown",
      "metadata": {
        "id": "9antKpdC91A-"
      },
      "source": [
        "## Topic Reduction\n",
        "We can also reduce the number of topics after having trained a BERTopic model. The advantage of doing so, \n",
        "is that you can decide the number of topics after knowing how many are actually created. It is difficult to \n",
        "predict before training your model how many topics that are in your documents and how many will be extracted. \n",
        "Instead, we can decide afterwards how many topics seems realistic:\n",
        "\n",
        "\n",
        "\n"
      ]
    },
    {
      "cell_type": "code",
      "metadata": {
        "id": "5m4Nd7Us-Peg",
        "colab": {
          "base_uri": "https://localhost:8080/",
          "height": 245
        },
        "outputId": "594682cf-2852-4e12-ac2d-090c3399600c"
      },
      "source": [
        "topic_model.reduce_topics(docs, nr_topics=60)"
      ],
      "execution_count": 27,
      "outputs": [
        {
          "output_type": "error",
          "ename": "ValueError",
          "evalue": "ignored",
          "traceback": [
            "\u001b[0;31m---------------------------------------------------------------------------\u001b[0m",
            "\u001b[0;31mValueError\u001b[0m                                Traceback (most recent call last)",
            "\u001b[0;32m<ipython-input-27-803adc5f69c4>\u001b[0m in \u001b[0;36m<module>\u001b[0;34m\u001b[0m\n\u001b[0;32m----> 1\u001b[0;31m \u001b[0mtopic_model\u001b[0m\u001b[0;34m.\u001b[0m\u001b[0mreduce_topics\u001b[0m\u001b[0;34m(\u001b[0m\u001b[0mdocs\u001b[0m\u001b[0;34m,\u001b[0m \u001b[0mnr_topics\u001b[0m\u001b[0;34m=\u001b[0m\u001b[0;36m60\u001b[0m\u001b[0;34m)\u001b[0m\u001b[0;34m\u001b[0m\u001b[0;34m\u001b[0m\u001b[0m\n\u001b[0m",
            "\u001b[0;32m/usr/local/lib/python3.8/dist-packages/bertopic/_bertopic.py\u001b[0m in \u001b[0;36mreduce_topics\u001b[0;34m(self, docs, nr_topics)\u001b[0m\n\u001b[1;32m   1846\u001b[0m         \u001b[0mcheck_is_fitted\u001b[0m\u001b[0;34m(\u001b[0m\u001b[0mself\u001b[0m\u001b[0;34m)\u001b[0m\u001b[0;34m\u001b[0m\u001b[0;34m\u001b[0m\u001b[0m\n\u001b[1;32m   1847\u001b[0m         \u001b[0mself\u001b[0m\u001b[0;34m.\u001b[0m\u001b[0mnr_topics\u001b[0m \u001b[0;34m=\u001b[0m \u001b[0mnr_topics\u001b[0m\u001b[0;34m\u001b[0m\u001b[0;34m\u001b[0m\u001b[0m\n\u001b[0;32m-> 1848\u001b[0;31m         \u001b[0mdocuments\u001b[0m \u001b[0;34m=\u001b[0m \u001b[0mpd\u001b[0m\u001b[0;34m.\u001b[0m\u001b[0mDataFrame\u001b[0m\u001b[0;34m(\u001b[0m\u001b[0;34m{\u001b[0m\u001b[0;34m\"Document\"\u001b[0m\u001b[0;34m:\u001b[0m \u001b[0mdocs\u001b[0m\u001b[0;34m,\u001b[0m \u001b[0;34m\"Topic\"\u001b[0m\u001b[0;34m:\u001b[0m \u001b[0mself\u001b[0m\u001b[0;34m.\u001b[0m\u001b[0mtopics_\u001b[0m\u001b[0;34m}\u001b[0m\u001b[0;34m)\u001b[0m\u001b[0;34m\u001b[0m\u001b[0;34m\u001b[0m\u001b[0m\n\u001b[0m\u001b[1;32m   1849\u001b[0m \u001b[0;34m\u001b[0m\u001b[0m\n\u001b[1;32m   1850\u001b[0m         \u001b[0;31m# Reduce number of topics\u001b[0m\u001b[0;34m\u001b[0m\u001b[0;34m\u001b[0m\u001b[0;34m\u001b[0m\u001b[0m\n",
            "\u001b[0;32m/usr/local/lib/python3.8/dist-packages/pandas/core/frame.py\u001b[0m in \u001b[0;36m__init__\u001b[0;34m(self, data, index, columns, dtype, copy)\u001b[0m\n\u001b[1;32m    612\u001b[0m         \u001b[0;32melif\u001b[0m \u001b[0misinstance\u001b[0m\u001b[0;34m(\u001b[0m\u001b[0mdata\u001b[0m\u001b[0;34m,\u001b[0m \u001b[0mdict\u001b[0m\u001b[0;34m)\u001b[0m\u001b[0;34m:\u001b[0m\u001b[0;34m\u001b[0m\u001b[0;34m\u001b[0m\u001b[0m\n\u001b[1;32m    613\u001b[0m             \u001b[0;31m# GH#38939 de facto copy defaults to False only in non-dict cases\u001b[0m\u001b[0;34m\u001b[0m\u001b[0;34m\u001b[0m\u001b[0;34m\u001b[0m\u001b[0m\n\u001b[0;32m--> 614\u001b[0;31m             \u001b[0mmgr\u001b[0m \u001b[0;34m=\u001b[0m \u001b[0mdict_to_mgr\u001b[0m\u001b[0;34m(\u001b[0m\u001b[0mdata\u001b[0m\u001b[0;34m,\u001b[0m \u001b[0mindex\u001b[0m\u001b[0;34m,\u001b[0m \u001b[0mcolumns\u001b[0m\u001b[0;34m,\u001b[0m \u001b[0mdtype\u001b[0m\u001b[0;34m=\u001b[0m\u001b[0mdtype\u001b[0m\u001b[0;34m,\u001b[0m \u001b[0mcopy\u001b[0m\u001b[0;34m=\u001b[0m\u001b[0mcopy\u001b[0m\u001b[0;34m,\u001b[0m \u001b[0mtyp\u001b[0m\u001b[0;34m=\u001b[0m\u001b[0mmanager\u001b[0m\u001b[0;34m)\u001b[0m\u001b[0;34m\u001b[0m\u001b[0;34m\u001b[0m\u001b[0m\n\u001b[0m\u001b[1;32m    615\u001b[0m         \u001b[0;32melif\u001b[0m \u001b[0misinstance\u001b[0m\u001b[0;34m(\u001b[0m\u001b[0mdata\u001b[0m\u001b[0;34m,\u001b[0m \u001b[0mma\u001b[0m\u001b[0;34m.\u001b[0m\u001b[0mMaskedArray\u001b[0m\u001b[0;34m)\u001b[0m\u001b[0;34m:\u001b[0m\u001b[0;34m\u001b[0m\u001b[0;34m\u001b[0m\u001b[0m\n\u001b[1;32m    616\u001b[0m             \u001b[0;32mimport\u001b[0m \u001b[0mnumpy\u001b[0m\u001b[0;34m.\u001b[0m\u001b[0mma\u001b[0m\u001b[0;34m.\u001b[0m\u001b[0mmrecords\u001b[0m \u001b[0;32mas\u001b[0m \u001b[0mmrecords\u001b[0m\u001b[0;34m\u001b[0m\u001b[0;34m\u001b[0m\u001b[0m\n",
            "\u001b[0;32m/usr/local/lib/python3.8/dist-packages/pandas/core/internals/construction.py\u001b[0m in \u001b[0;36mdict_to_mgr\u001b[0;34m(data, index, columns, dtype, typ, copy)\u001b[0m\n\u001b[1;32m    462\u001b[0m         \u001b[0;31m# TODO: can we get rid of the dt64tz special case above?\u001b[0m\u001b[0;34m\u001b[0m\u001b[0;34m\u001b[0m\u001b[0;34m\u001b[0m\u001b[0m\n\u001b[1;32m    463\u001b[0m \u001b[0;34m\u001b[0m\u001b[0m\n\u001b[0;32m--> 464\u001b[0;31m     return arrays_to_mgr(\n\u001b[0m\u001b[1;32m    465\u001b[0m         \u001b[0marrays\u001b[0m\u001b[0;34m,\u001b[0m \u001b[0mdata_names\u001b[0m\u001b[0;34m,\u001b[0m \u001b[0mindex\u001b[0m\u001b[0;34m,\u001b[0m \u001b[0mcolumns\u001b[0m\u001b[0;34m,\u001b[0m \u001b[0mdtype\u001b[0m\u001b[0;34m=\u001b[0m\u001b[0mdtype\u001b[0m\u001b[0;34m,\u001b[0m \u001b[0mtyp\u001b[0m\u001b[0;34m=\u001b[0m\u001b[0mtyp\u001b[0m\u001b[0;34m,\u001b[0m \u001b[0mconsolidate\u001b[0m\u001b[0;34m=\u001b[0m\u001b[0mcopy\u001b[0m\u001b[0;34m\u001b[0m\u001b[0;34m\u001b[0m\u001b[0m\n\u001b[1;32m    466\u001b[0m     )\n",
            "\u001b[0;32m/usr/local/lib/python3.8/dist-packages/pandas/core/internals/construction.py\u001b[0m in \u001b[0;36marrays_to_mgr\u001b[0;34m(arrays, arr_names, index, columns, dtype, verify_integrity, typ, consolidate)\u001b[0m\n\u001b[1;32m    122\u001b[0m \u001b[0;34m\u001b[0m\u001b[0m\n\u001b[1;32m    123\u001b[0m         \u001b[0;31m# don't force copy because getting jammed in an ndarray anyway\u001b[0m\u001b[0;34m\u001b[0m\u001b[0;34m\u001b[0m\u001b[0;34m\u001b[0m\u001b[0m\n\u001b[0;32m--> 124\u001b[0;31m         \u001b[0marrays\u001b[0m \u001b[0;34m=\u001b[0m \u001b[0m_homogenize\u001b[0m\u001b[0;34m(\u001b[0m\u001b[0marrays\u001b[0m\u001b[0;34m,\u001b[0m \u001b[0mindex\u001b[0m\u001b[0;34m,\u001b[0m \u001b[0mdtype\u001b[0m\u001b[0;34m)\u001b[0m\u001b[0;34m\u001b[0m\u001b[0;34m\u001b[0m\u001b[0m\n\u001b[0m\u001b[1;32m    125\u001b[0m \u001b[0;34m\u001b[0m\u001b[0m\n\u001b[1;32m    126\u001b[0m     \u001b[0;32melse\u001b[0m\u001b[0;34m:\u001b[0m\u001b[0;34m\u001b[0m\u001b[0;34m\u001b[0m\u001b[0m\n",
            "\u001b[0;32m/usr/local/lib/python3.8/dist-packages/pandas/core/internals/construction.py\u001b[0m in \u001b[0;36m_homogenize\u001b[0;34m(data, index, dtype)\u001b[0m\n\u001b[1;32m    587\u001b[0m                 \u001b[0mval\u001b[0m \u001b[0;34m=\u001b[0m \u001b[0mlib\u001b[0m\u001b[0;34m.\u001b[0m\u001b[0mfast_multiget\u001b[0m\u001b[0;34m(\u001b[0m\u001b[0mval\u001b[0m\u001b[0;34m,\u001b[0m \u001b[0moindex\u001b[0m\u001b[0;34m.\u001b[0m\u001b[0m_values\u001b[0m\u001b[0;34m,\u001b[0m \u001b[0mdefault\u001b[0m\u001b[0;34m=\u001b[0m\u001b[0mnp\u001b[0m\u001b[0;34m.\u001b[0m\u001b[0mnan\u001b[0m\u001b[0;34m)\u001b[0m\u001b[0;34m\u001b[0m\u001b[0;34m\u001b[0m\u001b[0m\n\u001b[1;32m    588\u001b[0m \u001b[0;34m\u001b[0m\u001b[0m\n\u001b[0;32m--> 589\u001b[0;31m             val = sanitize_array(\n\u001b[0m\u001b[1;32m    590\u001b[0m                 \u001b[0mval\u001b[0m\u001b[0;34m,\u001b[0m \u001b[0mindex\u001b[0m\u001b[0;34m,\u001b[0m \u001b[0mdtype\u001b[0m\u001b[0;34m=\u001b[0m\u001b[0mdtype\u001b[0m\u001b[0;34m,\u001b[0m \u001b[0mcopy\u001b[0m\u001b[0;34m=\u001b[0m\u001b[0;32mFalse\u001b[0m\u001b[0;34m,\u001b[0m \u001b[0mraise_cast_failure\u001b[0m\u001b[0;34m=\u001b[0m\u001b[0;32mFalse\u001b[0m\u001b[0;34m\u001b[0m\u001b[0;34m\u001b[0m\u001b[0m\n\u001b[1;32m    591\u001b[0m             )\n",
            "\u001b[0;32m/usr/local/lib/python3.8/dist-packages/pandas/core/construction.py\u001b[0m in \u001b[0;36msanitize_array\u001b[0;34m(data, index, dtype, copy, raise_cast_failure, allow_2d)\u001b[0m\n\u001b[1;32m    569\u001b[0m             \u001b[0msubarr\u001b[0m \u001b[0;34m=\u001b[0m \u001b[0m_try_cast\u001b[0m\u001b[0;34m(\u001b[0m\u001b[0mdata\u001b[0m\u001b[0;34m,\u001b[0m \u001b[0mdtype\u001b[0m\u001b[0;34m,\u001b[0m \u001b[0mcopy\u001b[0m\u001b[0;34m,\u001b[0m \u001b[0mraise_cast_failure\u001b[0m\u001b[0;34m)\u001b[0m\u001b[0;34m\u001b[0m\u001b[0;34m\u001b[0m\u001b[0m\n\u001b[1;32m    570\u001b[0m         \u001b[0;32melse\u001b[0m\u001b[0;34m:\u001b[0m\u001b[0;34m\u001b[0m\u001b[0;34m\u001b[0m\u001b[0m\n\u001b[0;32m--> 571\u001b[0;31m             \u001b[0msubarr\u001b[0m \u001b[0;34m=\u001b[0m \u001b[0mmaybe_convert_platform\u001b[0m\u001b[0;34m(\u001b[0m\u001b[0mdata\u001b[0m\u001b[0;34m)\u001b[0m\u001b[0;34m\u001b[0m\u001b[0;34m\u001b[0m\u001b[0m\n\u001b[0m\u001b[1;32m    572\u001b[0m             \u001b[0;32mif\u001b[0m \u001b[0msubarr\u001b[0m\u001b[0;34m.\u001b[0m\u001b[0mdtype\u001b[0m \u001b[0;34m==\u001b[0m \u001b[0mobject\u001b[0m\u001b[0;34m:\u001b[0m\u001b[0;34m\u001b[0m\u001b[0;34m\u001b[0m\u001b[0m\n\u001b[1;32m    573\u001b[0m                 \u001b[0msubarr\u001b[0m \u001b[0;34m=\u001b[0m \u001b[0mcast\u001b[0m\u001b[0;34m(\u001b[0m\u001b[0mnp\u001b[0m\u001b[0;34m.\u001b[0m\u001b[0mndarray\u001b[0m\u001b[0;34m,\u001b[0m \u001b[0msubarr\u001b[0m\u001b[0;34m)\u001b[0m\u001b[0;34m\u001b[0m\u001b[0;34m\u001b[0m\u001b[0m\n",
            "\u001b[0;32m/usr/local/lib/python3.8/dist-packages/pandas/core/dtypes/cast.py\u001b[0m in \u001b[0;36mmaybe_convert_platform\u001b[0;34m(values)\u001b[0m\n\u001b[1;32m    124\u001b[0m     \u001b[0;32mif\u001b[0m \u001b[0marr\u001b[0m\u001b[0;34m.\u001b[0m\u001b[0mdtype\u001b[0m \u001b[0;34m==\u001b[0m \u001b[0mobject\u001b[0m\u001b[0;34m:\u001b[0m\u001b[0;34m\u001b[0m\u001b[0;34m\u001b[0m\u001b[0m\n\u001b[1;32m    125\u001b[0m         \u001b[0marr\u001b[0m \u001b[0;34m=\u001b[0m \u001b[0mcast\u001b[0m\u001b[0;34m(\u001b[0m\u001b[0mnp\u001b[0m\u001b[0;34m.\u001b[0m\u001b[0mndarray\u001b[0m\u001b[0;34m,\u001b[0m \u001b[0marr\u001b[0m\u001b[0;34m)\u001b[0m\u001b[0;34m\u001b[0m\u001b[0;34m\u001b[0m\u001b[0m\n\u001b[0;32m--> 126\u001b[0;31m         \u001b[0marr\u001b[0m \u001b[0;34m=\u001b[0m \u001b[0mlib\u001b[0m\u001b[0;34m.\u001b[0m\u001b[0mmaybe_convert_objects\u001b[0m\u001b[0;34m(\u001b[0m\u001b[0marr\u001b[0m\u001b[0;34m)\u001b[0m\u001b[0;34m\u001b[0m\u001b[0;34m\u001b[0m\u001b[0m\n\u001b[0m\u001b[1;32m    127\u001b[0m \u001b[0;34m\u001b[0m\u001b[0m\n\u001b[1;32m    128\u001b[0m     \u001b[0;32mreturn\u001b[0m \u001b[0marr\u001b[0m\u001b[0;34m\u001b[0m\u001b[0;34m\u001b[0m\u001b[0m\n",
            "\u001b[0;32m/usr/local/lib/python3.8/dist-packages/pandas/_libs/lib.pyx\u001b[0m in \u001b[0;36mpandas._libs.lib.maybe_convert_objects\u001b[0;34m()\u001b[0m\n",
            "\u001b[0;31mValueError\u001b[0m: Buffer has wrong number of dimensions (expected 1, got 2)"
          ]
        }
      ]
    },
    {
      "cell_type": "code",
      "source": [
        "# Access the newly updated topics with:\n",
        "print(topic_model.topics_)"
      ],
      "metadata": {
        "colab": {
          "base_uri": "https://localhost:8080/"
        },
        "id": "jVAYd7pXJ1_T",
        "outputId": "433d5607-cf1d-421d-9bee-070363f13abb"
      },
      "execution_count": null,
      "outputs": [
        {
          "output_type": "stream",
          "name": "stdout",
          "text": [
            "[0, 32, -1, -1, -1, -1, -1, 0, 0, -1, -1, -1, -1, -1, -1, 14, -1, -1, -1, 4, 6, -1, -1, 4, 0, -1, -1, -1, -1, 20, -1, 48, 5, 0, 25, 11, 24, -1, 4, -1, -1, 23, 51, -1, 0, -1, -1, 7, 1, 5, -1, -1, 48, 1, -1, 4, -1, -1, -1, -1, 0, -1, -1, -1, -1, -1, 0, -1, -1, -1, -1, 19, 35, -1, -1, -1, 0, 37, -1, 0, 54, 6, 58, 51, 30, -1, -1, 19, -1, -1, 0, 2, 45, 32, -1, -1, 21, -1, -1, -1, -1, -1, -1, 3, 2, 0, -1, -1, -1, -1, 11, -1, -1, 15, 14, -1, -1, -1, 0, 5, 5, -1, -1, -1, 9, -1, -1, 2, -1, -1, -1, -1, -1, 0, 55, 2, 21, 1, -1, -1, -1, 11, 31, -1, -1, -1, 11, 10, 0, 7, 4, 4, 55, -1, -1, -1, -1, 3, 8, 16, -1, 2, -1, -1, -1, -1, -1, -1, -1, 25, 24, -1, 28, -1, -1, -1, 0, -1, 4, 0, 6, 0, -1, -1, -1, 2, -1, 31, -1, -1, 5, -1, 2, 13, -1, -1, 14, -1, -1, 10, -1, -1, -1, -1, -1, -1, 18, -1, 53, 13, 4, 44, -1, 5, 4, -1, -1, -1, -1, 2, 0, 34, -1, 6, 1, -1, 1, 4, -1, 0, -1, -1, -1, 40, 0, -1, -1, 0, 0, -1, -1, -1, 25, 39, -1, 7, 2, 6, -1, 29, -1, -1, 40, -1, 23, -1, -1, -1, -1, -1, -1, -1, -1, -1, 32, 21, 32, -1, -1, 32, -1, -1, 2, -1, -1, -1, 14, -1, -1, -1, -1, -1, -1, 0, -1, 2, 3, -1, 24, -1, 32, -1, 22, 15, -1, -1, 7, 2, -1, 1, -1, -1, -1, 19, 54, -1, 24, -1, -1, -1, -1, -1, 13, -1, -1, -1, -1, -1, 2, 20, -1, -1, -1, 10, -1, -1, 49, 0, -1, 4, 42, -1, -1, 0, 24, 18, -1, -1, -1, -1, 10, -1, -1, -1, -1, -1, -1, 3, -1, -1, -1, -1, 56, -1, 3, -1, 0, -1, -1, 11, -1, -1, 31, -1, -1, 0, -1, -1, -1, -1, -1, 0, -1, -1, -1, 0, -1, -1, -1, -1, 1, 18, 15, -1, -1, 0, 0, 44, -1, -1, 49, -1, 6, 0, 0, -1, 58, -1, -1, 33, -1, -1, 0, -1, -1, -1, 29, 11, -1, -1, 0, 28, -1, -1, -1, -1, -1, 9, 0, -1, -1, -1, -1, -1, 9, -1, 11, 0, -1, 4, 2, 3, 0, -1, -1, -1, -1, -1, -1, -1, 12, -1, -1, -1, -1, 25, 1, -1, -1, -1, 6, 47, 31, -1, -1, -1, -1, -1, 0, 30, 0, -1, 5, 7, -1, -1, 24, -1, -1, 5, 35, -1, -1, -1, 0, 20, 46, -1, -1, 13, -1, -1, -1, -1, -1, -1, 0, -1, -1, -1, -1, -1, -1, 30, -1, 8, -1, -1, 0, -1, -1, -1, 23, 10, 4, -1, 16, 28, 1, -1, -1, -1, 45, 0, 0, 18, 7, -1, -1, -1, -1, 14, 8, -1, -1, 0, -1, 0, -1, 0, 49, -1, -1, -1, -1, 2, -1, 47, 2, -1, -1, -1, 18, 30, -1, 3, -1, -1, 2, -1, -1, -1, 14, 4, 0, -1, 0, 12, -1, 4, -1, 14, -1, 0, -1, -1, -1, -1, 15, -1, -1, 5, -1, -1, -1, -1, 0, -1, 3, 12, -1, 7, 4, 29, -1, -1, 3, -1, 0, -1, 26, -1, 3, 0, -1, -1, -1, 2, 0, 1, -1, -1, -1, -1, -1, 42, 28, 1, 7, -1, 1, -1, -1, 46, -1, -1, 1, -1, -1, 5, -1, 23, -1, -1, -1, -1, 19, -1, 15, 0, 0, 22, -1, -1, 7, 13, -1, -1, 20, -1, 7, 26, -1, -1, -1, -1, -1, 21, -1, 0, -1, -1, -1, 5, 19, -1, 58, 8, -1, 15, -1, -1, -1, 0, -1, -1, 0, -1, -1, 24, 0, 17, 29, -1, 1, -1, -1, -1, -1, 25, -1, 16, -1, -1, 12, -1, -1, -1, -1, 36, -1, 2, -1, 8, 35, 5, -1, 17, -1, -1, 48, 0, 5, -1, 40, 42, -1, 0, 3, -1, 0, 16, 54, 6, 1, 22, -1, -1, -1, 5, -1, 39, 3, -1, -1, 5, -1, -1, -1, 18, -1, 14, -1, -1, -1, 2, 14, 26, 0, 0, -1, -1, 0, 14, 0, 4, 12, 0, -1, 5, 44, -1, -1, -1, 31, 17, -1, -1, 25, 0, 2, 19, 47, 0, 10, -1, -1, -1, 32, -1, -1, 21, 7, 4, 1, 0, 0, 32, -1, 34, -1, -1, 58, -1, 8, -1, 8, -1, -1, 24, 0, -1, 0, -1, 5, -1, 48, 37, -1, 1, 51, -1, -1, 12, -1, 4, 37, 1, -1, -1, 39, 20, 2, 0, 55, 53, -1, 44, -1, 6, 0, 13, -1, -1, -1, 0, -1, 10, 0, 59, -1, 32, 2, -1, -1, -1, 1, -1, -1, -1, -1, 43, 24, 2, -1, -1, -1, 8, 35, 1, -1, -1, -1, -1, 49, 15, 0, -1, 14, -1, 0, -1, -1, 11, 57, -1, 7, 25, -1, -1, 22, 27, -1, -1, 5, -1, -1, -1, 0, 44, -1, -1, 10, -1, 2, -1, -1, -1, 3, -1, -1, -1, -1, -1, -1, -1, -1, 1, 0, -1, -1, 0, 2, -1, -1, -1, -1, 59, -1, 59, 25, -1, 21, -1, 38, -1, -1, -1, -1, -1, 37, -1, -1, -1, 41, -1, -1, -1, 1, -1, 0, 0, -1, -1, 16, -1, 0, 4, 0, -1, 17, 15, -1, 20, 7, -1, -1, -1, 57, -1, -1, 40, -1, -1, 1, -1, -1, -1, -1, 0, 9, -1, -1, 0, 15, -1, 13, 0, -1, -1, 41, -1, 0, -1, 18, -1, 0, -1, 9, 4, 0, 7, 37, 0, 2, -1, -1, -1, -1, -1, -1, -1, 0, -1, 32, 17, -1, -1, -1, -1, -1, -1, -1, 0, -1, 1, -1, 4, 3, 23, -1, 9, 20, 20, -1, 4, -1, 0, -1, -1, 3, 12, 0, 20, -1, 0, -1, 6, -1, -1, -1, -1, -1, 0, -1, -1, -1, -1, 7, 36, -1, 29, 25, 34, 41, 11, 26, 54, -1, -1, -1, -1, 55, 0, 3, 7, -1, -1, -1, -1, 27, 1, -1, 29, 1, 0, 54, -1, 0, 3, -1, -1, -1, -1, -1, -1, -1, -1, -1, -1, 11, 16, -1, -1, 2, 2, 39, -1, -1, -1, -1, -1, -1, -1, 1, 0, 9, -1, -1, -1, 4, -1, 24, 0, 16, 18, -1, -1, -1, -1, -1, -1, 2, -1, -1, -1, 0, -1, 22, 4, 0, -1, 17, -1, 16, -1, 1, 2, -1, 13, 11, 3, -1, 31, -1, 40, 16, -1, 0, 7, -1, 4, 2, -1, -1, 47, 50, -1, -1, -1, -1, 4, -1, 22, 0, -1, -1, 3, -1, -1, -1, -1, -1, 1, 22, -1, -1, -1, 5, -1, 33, -1, -1, -1, 0, -1, 0, -1, 17, 6, -1, -1, -1, -1, 34, 0, 0, 0, -1, 6, -1, 7, -1, -1, -1, 16, -1, 0, 0, -1, 2, -1, -1, 35, 1, 39, -1, 19, -1, -1, 0, -1, -1, -1, -1, 0, 5, 0, -1, -1, -1, -1, -1, -1, 4, -1, -1, 1, -1, -1, 16, -1, -1, 21, 5, -1, 14, 15, -1, 31, -1, 16, -1, 0, 56, -1, 8, 29, 37, -1, 0, 56, -1, -1, -1, 21, 17, 39, -1, 5, -1, -1, -1, -1, -1, -1, -1, -1, -1, -1, 4, 12, -1, 13, -1, 38, 0, 0, -1, -1, -1, 5, -1, 59, -1, 14, 40, -1, 0, -1, -1, -1, 0, 6, -1, -1, 6, -1, -1, -1, 51, 0, 34, 1, -1, 2, -1, -1, 0, -1, 36, -1, 13, -1, 34, 45, -1, 19, 3, -1, 2, -1, 0, -1, 6, -1, 46, -1, -1, -1, 2, 25, -1, -1, -1, -1, -1, 15, 1, -1, 7, -1, 6, 10, 9, -1, -1, -1, 59, 11, 1, 50, -1, 2, 11, 22, -1, 24, 3, 41, 20, -1, -1, -1, 22, 7, 3, -1, -1, 33, 2, -1, -1, -1, -1, -1, -1, -1, -1, 41, -1, 31, -1, -1, 33, 4, 42, 0, -1, -1, -1, -1, -1, -1, 3, 1, -1, -1, 0, -1, -1, -1, 0, -1, 46, 37, -1, 21, 14, -1, -1, 0, -1, 32, 2, 5, -1, 35, 0, 7, -1, 17, -1, 3, -1, -1, -1, -1, 3, 4, -1, 0, -1, 0, 32, 9, -1, -1, 1, -1, -1, -1, -1, 43, -1, -1, -1, 0, 2, 49, -1, 11, 1, 0, 2, 0, -1, -1, 11, 0, -1, -1, 3, -1, 20, 22, 1, 24, -1, 0, 40, 2, -1, -1, -1, 1, -1, 4, -1, -1, -1, -1, -1, 0, 30, 45, 56, -1, -1, 0, -1, 6, -1, -1, -1, -1, -1, 19, -1, -1, -1, 0, 5, -1, 27, 3, -1, -1, -1, -1, -1, 17, 23, -1, 28, -1, 36, 58, -1, -1, -1, 1, 3, -1, 4, -1, 55, 31, 7, 26, 34, 0, 1, -1, 7, 4, -1, -1, 0, 39, 25, -1, -1, 52, -1, -1, -1, 2, -1, -1, 58, 0, -1, 8, -1, -1, 12, -1, 21, -1, -1, -1, 3, -1, -1, 36, -1, -1, 17, -1, -1, -1, 16, -1, 46, -1, -1, 10, -1, 35, -1, 15, 6, -1, 0, -1, -1, -1, 6, -1, 40, 8, 15, 52, -1, -1, -1, 33, 15, 27, -1, -1, -1, -1, -1, -1, -1, -1, -1, -1, 43, -1, -1, -1, 20, 4, 3, -1, -1, -1, 51, -1, -1, -1, -1, -1, 0, -1, -1, -1, 0, 1, -1, -1, -1, -1, 0, -1, 0, -1, 35, -1, -1, 8, -1, 15, 40, 26, 32, 2, -1, -1, -1, -1, 6, -1, 0, 1, -1, -1, -1, -1, 6, -1, 1, -1, -1, 9, 11, -1, 0, 17, -1, 10, -1, 0, -1, -1, 3, -1, -1, 0, -1, -1, 0, -1, -1, -1, -1, -1, 5, 17, -1, -1, 1, -1, -1, 1, 43, 0, -1, 4, 0, 0, 10, 3, 22, 0, -1, -1, -1, -1, 5, -1, 21, 10, 3, -1, -1, -1, 1, 30, -1, 8, 2, -1, -1, -1, -1, 0, 24, 18, 1, -1, 4, 31, -1, -1, 52, -1, 0, 5, -1, 57, -1, -1, -1, -1, -1, -1, 31, -1, 0, 0, -1, 2, 44, -1, 8, -1, 0, 0, -1, -1, -1, -1, -1, 4, 4, 10, -1, 0, 3, 12, -1, 42, 10, 0, -1, 26, 49, 19, -1, 0, -1, -1, 7, -1, -1, 58, 53, -1, 26, -1, 5, -1, -1, -1, -1, -1, -1, 8, 31, 0, -1, 36, -1, -1, 7, -1, -1, -1, 1, 26, 2, -1, 29, -1, 8, -1, 15, -1, -1, 25, 3, -1, -1, 9, -1, 13, 51, -1, -1, -1, -1, 1, -1, -1, -1, -1, 1, -1, -1, 4, 6, 34, 9, -1, -1, -1, 20, -1, -1, 1, 0, -1, 0, -1, 3, 1, 3, -1, -1, -1, 2, 1, -1, 0, 8, 0, -1, 51, -1, 6, -1, 27, 51, -1, 0, -1, -1, -1, -1, -1, -1, -1, 31, 25, -1, 8, -1, 20, 15, -1, 1, 0, 12, 4, 0, 0, -1, -1, 3, -1, -1, 1, -1, 2, -1, -1, -1, 20, -1, 48, 34, -1, -1, -1, -1, -1, 11, 0, -1, 25, -1, 1, -1, -1, 10, -1, -1, 0, -1, -1, -1, -1, -1, 1, 2, 0, 43, -1, 59, 13, 0, 55, -1, 1, -1, -1, 0, 4, -1, -1, -1, -1, 13, 0, -1, -1, 8, -1, 9, -1, 1, -1, 20, 52, -1, 5, -1, -1, 7, 49, -1, 0, -1, -1, 29, -1, 40, 1, 50, -1, 55, -1, -1, -1, 2, 39, -1, -1, -1, -1, -1, 0, -1, -1, 0, -1, -1, 4, -1, 7, 1, 58, -1, -1, 14, -1, 38, 15, -1, -1, 21, 5, 0, -1, -1, -1, -1, -1, 37, 44, 12, 2, 0, -1, -1, -1, 2, -1, -1, -1, 0, -1, 0, 0, 2, -1, 0, -1, -1, 3, 3, -1, -1, 6, 0, -1, -1, 8, 0, 19, 0, 2, -1, -1, 14, 23, -1, 42, 47, 0, -1, -1, -1, -1, 59, 0, 14, 1, 48, 4, -1, -1, 0, 0, -1, -1, -1, 0, 43, 12, -1, -1, 1, -1, -1, -1, -1, -1, 40, -1, 9, -1, -1, 15, -1, 0, 4, 8, 7, -1, -1, 2, -1, -1, 28, -1, -1, 2, -1, 26, 18, 57, -1, -1, 15, -1, 3, -1, -1, 17, -1, -1, 42, -1, -1, 32, -1, -1, -1, -1, -1, -1, 17, -1, 29, -1, -1, 47, 0, -1, -1, -1, -1, 5, -1, -1, -1, 0, -1, 41, -1, 20, -1, 0, -1, 8, 2, 3, 7, -1, -1, 54, 11, 21, 1, 0, -1, -1, 2, -1, 4, -1, -1, -1, -1, -1, -1, -1, -1, -1, 18, -1, 51, 30, 1, -1, -1, -1, 3, 14, 23, 40, -1, 0, 2, -1, -1, 33, 2, -1, -1, -1, -1, -1, -1, -1, 0, 0, -1, 23, -1, 0, 1, -1, -1, 12, -1, -1, -1, 50, -1, -1, 0, -1, 5, 36, -1, 12, 5, 57, 4, -1, 43, -1, -1, 56, -1, 3, -1, 21, 0, -1, 24, 2, -1, 0, 10, -1, 30, 54, -1, -1, 0, -1, -1, -1, 33, 20, -1, -1, -1, 37, -1, 9, -1, -1, 6, 13, -1, 0, -1, -1, 32, 0, 0, -1, -1, -1, 0, 28, 3, -1, 3, 4, 2, 0, 5, -1, -1, -1, 29, -1, -1, 0, 1, -1, -1, 15, -1, -1, 0, 2, 3, 9, -1, -1, -1, -1, -1, -1, -1, 4, -1, 8, -1, -1, 1, 34, -1, 3, 34, -1, 30, -1, 0, -1, -1, -1, -1, 2, -1, 2, 24, -1, -1, 0, 5, 0, -1, -1, -1, 8, -1, 51, -1, 15, -1, -1, -1, -1, 3, -1, -1, -1, -1, 0, 0, -1, 17, -1, -1, 9, 8, -1, -1, -1, -1, 42, -1, 0, -1, -1, -1, -1, -1, -1, -1, -1, -1, -1, 14, -1, -1, -1, -1, -1, -1, -1, 1, 31, -1, -1, -1, 0, -1, -1, 19, 2, 1, -1, 4, -1, -1, -1, -1, -1, -1, -1, 1, 1, 22, 55, 10, 3, -1, -1, -1, -1, -1, 2, -1, 0, -1, -1, -1, -1, 2, 11, 0, -1, 0, -1, 19, -1, 32, 30, 0, -1, -1, 0, -1, 9, 1, 56, 3, 3, 9, -1, -1, 14, 3, -1, 7, 0, 0, -1, -1, 2, -1, -1, -1, 1, 11, 2, 3, 3, 6, -1, 2, 0, -1, 34, -1, 10, -1, 6, -1, -1, 22, -1, -1, 0, 0, -1, -1, 4, 0, 0, -1, 0, -1, -1, -1, 0, 31, 1, -1, -1, -1, 0, -1, -1, 0, 12, -1, 0, -1, 0, 8, 2, 23, -1, -1, -1, 35, 0, -1, -1, -1, -1, -1, 46, 30, -1, -1, -1, -1, 6, -1, -1, -1, -1, -1, -1, -1, -1, -1, -1, -1, -1, -1, -1, 48, 0, -1, -1, -1, -1, 1, 7, -1, 31, -1, 1, -1, 48, 43, -1, -1, -1, 52, 2, -1, 1, -1, -1, 49, -1, -1, -1, -1, 13, -1, 0, 27, 0, -1, 1, 1, -1, 2, 34, 8, 36, -1, -1, 0, 20, -1, -1, 39, -1, 14, -1, 8, 0, -1, 1, -1, 14, -1, -1, 13, -1, -1, 4, -1, -1, -1, -1, 0, -1, 4, 43, 3, 23, 17, -1, -1, -1, -1, -1, -1, -1, -1, -1, 9, -1, -1, -1, -1, 9, 0, -1, -1, 28, -1, 16, 6, -1, 0, -1, 11, -1, 0, 0, 2, -1, -1, -1, -1, -1, 6, 0, -1, 0, 3, -1, 5, -1, 0, 21, -1, 1, -1, -1, 3, -1, -1, 29, -1, 2, -1, 31, 1, 0, -1, -1, 11, 19, -1, 0, 1, 50, -1, 10, 36, 1, -1, -1, -1, 1, -1, 41, -1, -1, 0, 0, -1, 3, 0, 59, 58, 4, 0, -1, -1, -1, 9, -1, -1, -1, -1, -1, 37, 6, -1, 9, -1, -1, 45, -1, 1, 14, 0, 0, -1, 25, -1, 6, 1, -1, -1, 0, -1, -1, 3, 3, 1, 3, -1, 37, 0, 19, -1, 12, -1, 11, -1, 51, -1, -1, 1, -1, 0, -1, 30, -1, 3, -1, -1, 0, -1, 28, -1, 31, 30, -1, -1, -1, 57, -1, 0, -1, -1, -1, -1, -1, 16, 32, 1, -1, 0, 0, -1, 37, -1, -1, -1, 4, -1, 36, 31, -1, 58, -1, -1, 48, 1, 50, -1, 7, -1, 20, -1, -1, 27, 10, 2, 0, -1, -1, -1, 1, -1, 44, -1, 13, -1, 28, -1, -1, -1, 1, 9, -1, -1, 11, 3, 15, -1, -1, 22, -1, -1, -1, 47, -1, 4, -1, -1, -1, 4, -1, -1, 1, -1, -1, 42, 0, -1, 2, 3, -1, -1, -1, -1, -1, -1, 16, -1, -1, 0, 0, -1, -1, -1, -1, -1, 1, -1, 25, 6, 9, -1, -1, -1, -1, 0, -1, -1, 30, -1, 0, -1, -1, -1, -1, 45, -1, -1, 2, -1, 2, 3, -1, 1, -1, -1, -1, 9, 19, -1, 44, 15, -1, -1, 24, 0, 4, -1, 42, -1, 0, 18, 32, -1, -1, -1, 1, -1, -1, -1, 0, -1, -1, 26, 4, -1, -1, -1, -1, -1, 0, -1, -1, -1, -1, -1, -1, -1, 45, -1, -1, 2, -1, -1, -1, -1, -1, -1, -1, 5, -1, -1, 2, -1, -1, 0, -1, 2, -1, -1, 7, -1, -1, -1, 38, 4, -1, 11, 12, 24, 27, -1, -1, 1, -1, -1, -1, 53, -1, -1, -1, -1, 6, -1, 35, 35, 2, 7, -1, -1, 2, -1, -1, 14, 49, 30, -1, 5, -1, -1, -1, 0, 0, 3, -1, -1, -1, -1, -1, -1, 0, -1, 11, -1, 0, 0, -1, -1, -1, -1, 14, -1, 0, -1, -1, -1, -1, 13, 5, 53, -1, -1, 0, 15, -1, 0, -1, -1, 3, -1, -1, 56, -1, -1, 1, -1, -1, 2, -1, -1, -1, 14, -1, 0, -1, 5, 1, 5, 3, 0, 13, 0, 19, -1, 17, -1, 0, 0, 4, -1, -1, -1, -1, 17, 16, 39, -1, -1, -1, -1, -1, -1, -1, -1, -1, -1, -1, 17, -1, -1, -1, 0, 6, 12, -1, 0, -1, -1, 2, -1, -1, -1, 27, 18, 0, 2, -1, -1, -1, -1, 3, -1, -1, -1, 19, -1, -1, 38, -1, -1, 0, 0, 34, 7, -1, 0, 5, -1, -1, -1, -1, -1, -1, -1, -1, 13, 44, -1, -1, 0, -1, -1, -1, 9, 7, -1, 4, 2, 46, -1, -1, -1, 0, -1, -1, -1, -1, -1, 0, -1, 12, 42, 37, 0, -1, -1, 33, 1, -1, -1, -1, -1, -1, -1, 13, 3, -1, 53, 4, 4, -1, 4, 54, -1, 0, 0, -1, -1, 7, -1, -1, -1, -1, 0, -1, 0, -1, -1, -1, -1, 2, -1, -1, -1, -1, -1, 0, 4, -1, -1, -1, -1, 7, -1, 5, -1, -1, -1, -1, 2, -1, 2, 59, -1, 35, -1, 25, 18, 51, 0, 41, 3, -1, -1, -1, -1, -1, 0, 24, -1, 29, -1, 39, -1, 14, 0, -1, 33, -1, 13, 0, 0, 0, -1, -1, -1, 9, -1, 0, -1, -1, -1, -1, 3, 2, -1, -1, -1, -1, -1, 44, -1, -1, 5, -1, -1, -1, 22, 12, -1, 1, 0, -1, 3, -1, 22, 1, 3, -1, -1, 0, 1, 46, 1, 2, 1, 1, -1, -1, -1, -1, -1, 0, -1, -1, 1, -1, 1, -1, -1, -1, 16, 8, 29, -1, -1, -1, 45, -1, 0, -1, 25, 33, -1, -1, -1, -1, 0, 19, 10, 10, -1, -1, 4, 33, -1, 2, 31, -1, -1, 24, 4, 0, -1, 34, -1, 52, -1, 0, 7, 55, 5, 3, -1, 10, 4, 0, 0, -1, -1, 49, 0, 0, 10, -1, 19, 13, -1, -1, 58, 22, 52, -1, -1, 0, -1, 3, -1, 50, 35, -1, -1, 6, 22, -1, -1, -1, 13, -1, 8, -1, -1, 6, -1, -1, 57, -1, -1, -1, -1, -1, -1, 0, 50, 0, -1, 1, 5, 1, 19, 9, 0, -1, 58, -1, -1, -1, 0, 5, 42, 0, -1, -1, -1, 12, -1, -1, -1, -1, 0, -1, -1, -1, -1, -1, 9, -1, -1, 0, -1, -1, 57, 25, -1, 13, -1, 0, -1, 13, 10, 0, 2, 36, 4, -1, -1, -1, 33, -1, -1, -1, -1, 0, -1, -1, -1, 2, -1, -1, -1, -1, -1, -1, -1, -1, -1, 5, 0, -1, -1, 6, -1, 0, 44, -1, 7, -1, 23, 2, -1, -1, -1, -1, 15, 40, 52, 1, -1, -1, -1, 2, 3, 1, -1, -1, 12, -1, -1, -1, 0, 6, -1, 16, -1, -1, -1, -1, 0, -1, -1, 21, 5, 0, -1, -1, -1, -1, -1, 4, 23, 30, 36, 5, -1, 0, 0, 41, -1, 0, 9, 11, -1, 0, 0, -1, 26, -1, 0, -1, -1, 44, 6, 2, -1, 11, -1, 48, 0, -1, 10, 2, -1, -1, 35, -1, 4, -1, -1, -1, -1, 0, -1, -1, 7, 20, -1, -1, 42, -1, -1, 0, 0, 26, 46, 16, 4, -1, 4, -1, 46, -1, -1, -1, 0, -1, -1, 13, -1, -1, -1, -1, -1, -1, 1, 31, 22, 6, 3, 3, -1, 6, -1, 1, 1, -1, -1, -1, 22, 2, 1, 7, -1, -1, -1, -1, 5, -1, 1, -1, -1, -1, -1, -1, -1, -1, 5, -1, -1, 33, 5, 2, -1, 51, 15, -1, -1, 1, -1, -1, -1, 3, -1, 0, 4, -1, -1, 0, -1, 2, -1, 3, -1, 4, -1, -1, 3, 0, -1, 23, 26, -1, -1, 0, -1, -1, 6, 0, -1, -1, 8, -1, 0, -1, 56, -1, 10, 1, -1, 6, 0, 46, 4, -1, -1, -1, -1, -1, -1, -1, -1, 3, 6, 4, 5, 0, -1, -1, -1, 4, 19, -1, -1, -1, -1, -1, 15, 0, -1, 19, -1, 14, -1, -1, 53, -1, 3, -1, -1, -1, -1, -1, 0, 0, 0, -1, -1, -1, 21, -1, 1, 6, -1, -1, 19, 2, 23, -1, 21, 16, -1, -1, -1, 0, -1, 3, 12, -1, -1, 44, 2, -1, 7, -1, -1, 2, -1, -1, -1, 3, -1, -1, -1, 0, -1, -1, -1, 23, -1, 14, -1, 0, 16, -1, -1, -1, 47, -1, -1, -1, 22, -1, -1, 17, -1, 0, 0, 2, -1, 7, -1, 2, -1, 5, 17, 40, 15, -1, -1, 22, -1, -1, 45, -1, 38, 37, -1, -1, -1, 1, -1, -1, 50, -1, -1, 2, -1, 0, -1, 10, -1, 24, -1, -1, 0, 29, -1, -1, 16, 1, 7, 1, -1, 0, 1, -1, -1, -1, 7, -1, 0, 0, 0, -1, -1, -1, -1, 11, 54, 11, -1, 13, 4, -1, -1, -1, -1, 57, 0, 0, 0, -1, -1, -1, -1, -1, 16, -1, 0, 5, -1, -1, 35, -1, 0, -1, 2, 1, 11, 0, 1, -1, 21, -1, 3, 0, -1, -1, 9, -1, 0, -1, -1, -1, -1, 4, 17, 30, -1, 41, 18, 59, 2, 2, 4, -1, 36, 48, -1, 0, -1, -1, -1, 10, 34, 21, -1, 59, -1, 30, 19, -1, -1, -1, -1, 14, 4, 21, 5, 57, 4, 12, -1, 0, 3, 3, -1, -1, 51, 3, 3, 2, 0, 13, 0, 19, -1, -1, 34, 43, -1, 8, -1, 50, 3, 36, -1, -1, 3, -1, -1, -1, 25, -1, -1, 24, 10, 22, -1, 0, -1, 32, -1, -1, -1, 14, -1, 19, 1, 0, -1, -1, -1, -1, 7, -1, 39, 52, 42, -1, -1, -1, -1, 2, 36, -1, 19, -1, -1, -1, -1, -1, -1, 24, -1, -1, -1, -1, -1, -1, 21, 21, -1, 28, -1, 6, 2, -1, 2, -1, -1, -1, -1, 49, 13, -1, 26, -1, -1, -1, 37, -1, -1, 0, 30, -1, -1, -1, -1, 2, -1, -1, -1, 1, 0, -1, -1, 15, -1, -1, -1, -1, -1, 1, 3, -1, -1, -1, 16, 39, -1, -1, -1, -1, 12, -1, -1, 10, -1, -1, 34, 16, -1, -1, 3, -1, 0, 7, -1, -1, 18, 2, -1, 2, 0, -1, 1, 21, 36, -1, -1, 35, 3, -1, 6, 0, -1, -1, -1, 45, -1, -1, 34, 2, 37, 15, 3, -1, -1, -1, -1, -1, -1, -1, 15, 18, -1, 2, 6, 0, -1, -1, 48, 0, -1, -1, -1, -1, -1, 2, 6, 40, -1, -1, 46, -1, 13, 58, 0, 3, -1, -1, 50, -1, -1, 25, -1, -1, -1, -1, -1, 0, -1, 54, 2, -1, 26, -1, -1, 20, 25, 0, 2, -1, -1, -1, -1, -1, 9, -1, 3, 0, -1, 1, -1, -1, -1, 7, 57, -1, 0, 19, 16, -1, -1, 0, 47, -1, -1, -1, -1, 47, -1, -1, -1, 30, 3, -1, 0, 5, -1, -1, 17, 26, -1, 2, 7, -1, 52, -1, 2, -1, 0, 55, -1, -1, -1, 17, 0, 44, -1, 20, 23, -1, 3, 1, 3, 20, -1, 45, -1, -1, -1, 28, 7, -1, 9, 0, 0, -1, -1, 2, 0, -1, -1, -1, 1, -1, 52, 0, -1, 8, -1, -1, -1, -1, -1, -1, -1, 1, 3, 41, 36, 3, -1, -1, 6, 0, 7, -1, -1, -1, -1, -1, -1, -1, 1, -1, 1, -1, -1, -1, -1, 0, 26, -1, 29, 2, -1, 41, -1, 0, -1, -1, 32, -1, -1, -1, 12, 18, -1, -1, -1, 2, -1, 0, -1, -1, 41, -1, -1, 32, 1, 36, -1, 4, -1, -1, 0, 17, -1, -1, 1, 6, 8, 2, 0, -1, -1, 3, -1, 28, 21, -1, 3, -1, 3, -1, -1, -1, 0, 22, 0, 14, -1, 35, -1, -1, -1, -1, 3, -1, 1, 31, -1, -1, 10, -1, -1, -1, 0, -1, -1, -1, 2, -1, 48, -1, -1, -1, 30, 47, 2, -1, -1, -1, 0, -1, 58, -1, 12, -1, -1, -1, 0, -1, 12, 24, 3, -1, 30, 22, -1, -1, -1, 13, -1, 43, -1, -1, -1, -1, -1, -1, -1, -1, -1, -1, -1, -1, 16, 0, -1, -1, -1, -1, 6, 43, -1, -1, 0, -1, 9, 16, -1, 2, 1, 8, 0, -1, -1, -1, -1, 3, -1, 22, 9, 0, 3, 3, -1, -1, -1, 1, 4, 19, 31, -1, 55, -1, 47, 0, 36, 0, 16, 41, -1, -1, 2, 10, -1, -1, 10, -1, 9, -1, -1, -1, 4, 0, 3, 19, 0, -1, -1, -1, -1, 28, -1, 3, -1, -1, 18, -1, -1, -1, 5, 3, 12, 33, 0, 12, 8, -1, -1, -1, -1, 6, 34, 54, -1, -1, -1, -1, -1, -1, -1, 1, -1, -1, 23, -1, -1, 15, 28, 21, -1, -1, 4, -1, -1, 3, -1, 58, 35, -1, -1, -1, -1, 31, 32, -1, 41, -1, -1, 3, -1, -1, 0, 10, -1, -1, 7, 19, -1, -1, 2, -1, 10, -1, -1, -1, -1, -1, -1, 19, 10, 32, 40, -1, -1, -1, -1, -1, 0, -1, 32, -1, -1, -1, 16, -1, -1, 1, 0, 45, -1, -1, -1, -1, 0, -1, -1, 5, 0, -1, 31, -1, 2, 11, -1, 19, 40, -1, -1, -1, 36, 16, 9, 47, 50, -1, -1, 26, 0, 12, 4, 4, 30, 32, 3, 0, 8, -1, -1, 3, 0, -1, 0, -1, -1, 7, 0, -1, -1, -1, 19, -1, 20, -1, -1, 50, -1, -1, -1, -1, -1, -1, -1, -1, 21, -1, -1, 0, -1, 16, 49, -1, -1, 0, 49, 54, -1, -1, 0, -1, -1, 18, 5, -1, -1, -1, -1, 3, 57, 5, -1, 0, 3, 2, -1, -1, -1, 30, -1, 6, 0, -1, 16, -1, -1, -1, 10, -1, 1, 40, 5, 7, 11, 21, -1, -1, -1, -1, 38, -1, 21, 11, -1, -1, -1, -1, 4, 3, 0, -1, -1, -1, -1, 0, -1, 0, -1, -1, 0, -1, -1, 19, 18, 26, 0, 41, 11, 6, 22, -1, -1, -1, -1, 17, -1, 11, 3, -1, 4, 11, 8, -1, -1, 2, 50, -1, 19, -1, -1, 3, 1, 8, 1, 9, 6, -1, -1, -1, -1, 24, -1, 35, -1, -1, -1, 0, -1, -1, 4, -1, 13, -1, -1, 1, -1, -1, 4, -1, 1, -1, -1, 58, -1, 0, 0, -1, 6, -1, -1, 6, -1, -1, -1, 39, 12, -1, -1, -1, 17, -1, -1, -1, -1, -1, 1, -1, -1, 2, -1, -1, 17, -1, 38, 13, -1, -1, 0, 2, 55, 4, -1, 0, -1, 0, -1, 50, 1, 0, 27, -1, 2, 2, -1, 3, -1, 51, -1, -1, 14, -1, -1, 3, -1, 13, -1, -1, -1, 3, 20, 44, -1, -1, 4, -1, -1, -1, -1, -1, -1, 10, -1, -1, -1, -1, 16, -1, 3, -1, -1, -1, 18, 0, -1, -1, 21, -1, 13, 34, -1, 37, -1, -1, 0, -1, 0, 4, -1, 2, 0, -1, -1, -1, -1, 0, 45, 25, 24, 6, 45, -1, 2, -1, -1, 2, -1, -1, 55, -1, -1, 40, -1, 49, -1, 12, -1, -1, 0, -1, 7, -1, -1, 0, -1, 22, -1, 56, -1, -1, -1, 0, 17, 0, 15, -1, 16, -1, 1, -1, 0, -1, 21, -1, 25, -1, -1, -1, -1, -1, 7, 58, -1, -1, 4, 27, 0, 2, -1, -1, -1, -1, -1, 54, 0, 0, -1, 25, 11, 25, -1, -1, 48, 18, -1, -1, -1, -1, -1, 1, -1, -1, 0, 0, -1, 19, -1, 52, 55, 17, 5, 2, 53, -1, -1, -1, -1, 0, 23, 4, 9, -1, 2, -1, 40, -1, 6, -1, -1, -1, 0, 18, 40, 26, 0, -1, 3, 1, -1, 27, -1, -1, -1, 2, 0, -1, -1, 4, -1, -1, -1, 0, 30, 4, 2, -1, 1, -1, 32, -1, 22, 7, 16, -1, -1, 7, 15, 12, -1, -1, -1, 8, 0, 14, -1, -1, -1, 3, 26, 2, 17, -1, 0, 30, -1, 59, 0, -1, 8, -1, -1, 6, 45, 9, 8, -1, 47, 0, 3, -1, -1, -1, 23, 3, 29, 37, 37, 7, 35, 10, -1, -1, -1, 0, 1, 29, 0, 2, 7, -1, -1, 19, -1, -1, 0, -1, 50, 39, -1, -1, -1, 5, -1, 6, 3, 26, 29, 4, 3, 51, -1, 0, -1, -1, -1, 4, -1, -1, 17, -1, 24, -1, -1, 28, -1, -1, 25, 29, -1, -1, 0, -1, -1, -1, 4, -1, 2, 42, 1, -1, 0, -1, -1, 0, 0, 0, -1, -1, 0, 14, 42, 13, 2, 10, -1, 14, -1, 12, -1, 0, 0, -1, -1, 3, -1, 42, 19, 0, -1, -1, 0, -1, 6, -1, 41, -1, -1, 55, -1, -1, -1, -1, -1, -1, 41, -1, -1, 0, 5, 1, -1, 2, -1, 0, -1, 2, -1, -1, 22, -1, -1, 0, 6, -1, 9, 1, 48, -1, 42, -1, -1, -1, -1, -1, 22, 21, -1, 6, 25, 0, -1, -1, 5, 0, 11, 0, 0, -1, 19, 0, -1, -1, -1, -1, 12, 0, -1, 0, -1, 1, 6, 9, -1, -1, -1, -1, 1, 3, -1, 1, 0, 10, -1, 58, -1, 0, -1, 2, -1, -1, -1, -1, 25, 39, -1, -1, -1, 4, 0, -1, -1, -1, 58, -1, -1, 43, 8, 19, -1, -1, 5, -1, 23, -1, 38, 54, -1, -1, 2, 54, -1, -1, 0, 21, -1, -1, 16, -1, 30, -1, -1, 16, -1, -1, -1, -1, -1, 0, -1, -1, 4, 0, -1, 1, -1, -1, -1, 0, -1, -1, 0, 31, -1, 46, 54, -1, 36, 0, 0, -1, -1, -1, 8, 28, 0, -1, -1, 9, 42, -1, -1, 16, -1, 47, -1, -1, 0, 0, 4, -1, -1, -1, 5, 18, -1, -1, -1, 37, 7, 18, -1, -1, 0, -1, 0, 8, -1, 11, 22, -1, 16, -1, 14, 1, -1, 0, -1, -1, 9, -1, -1, -1, 0, -1, -1, 4, -1, 12, -1, 12, -1, -1, 22, -1, -1, 9, -1, 48, 0, 5, -1, -1, -1, -1, 3, -1, 0, 37, 37, -1, 2, -1, 34, 11, -1, 1, -1, 0, 58, -1, -1, -1, -1, -1, -1, 0, -1, 16, 0, -1, 7, -1, -1, -1, 28, -1, 3, -1, -1, -1, -1, 2, 52, -1, -1, 42, 28, 2, -1, -1, -1, 1, -1, 13, 7, -1, 2, 3, -1, 38, -1, -1, -1, 11, -1, 0, -1, -1, -1, -1, 17, -1, -1, -1, 1, -1, 50, -1, -1, -1, 4, 5, 6, 23, 13, 23, 0, -1, 22, 34, -1, -1, -1, -1, -1, 53, 0, 34, 5, -1, -1, -1, 3, 3, -1, -1, -1, 0, -1, 26, 59, -1, 0, -1, 54, 8, -1, 3, -1, 4, 4, -1, -1, -1, -1, -1, -1, -1, 51, -1, 8, 55, -1, -1, 5, 0, -1, 0, -1, -1, 4, 7, 0, 6, 4, 0, 38, -1, 9, -1, 0, 6, -1, 6, -1, 0, -1, 3, 22, 0, -1, -1, -1, 0, -1, 18, 1, 4, -1, -1, -1, 26, -1, -1, -1, -1, -1, -1, 14, -1, 35, 4, -1, 0, 25, -1, -1, 39, -1, 3, 6, -1, -1, -1, 4, -1, 0, -1, 32, 24, 0, 24, 20, -1, -1, -1, 11, -1, 2, -1, -1, -1, -1, -1, 30, -1, -1, -1, 0, -1, -1, -1, -1, -1, 17, 0, -1, 52, -1, 0, -1, -1, 13, -1, -1, -1, -1, 33, 6, -1, 7, 23, -1, -1, 1, -1, 46, 0, 54, -1, 42, -1, -1, -1, -1, -1, -1, 6, 20, 1, -1, -1, 0, -1, 0, 34, 51, 1, -1, -1, 17, -1, -1, 5, 3, 14, -1, -1, 3, -1, -1, -1, -1, -1, -1, 2, 12, 0, 1, 0, 42, 8, 0, 1, -1, 0, 4, 23, -1, -1, 13, -1, 0, -1, 38, 20, 1, -1, 51, 4, -1, 33, -1, 0, 6, 55, 17, 3, 1, -1, -1, -1, -1, -1, 33, 4, -1, -1, 0, -1, -1, -1, 48, 23, -1, 0, -1, -1, 8, -1, -1, -1, -1, 49, 4, -1, 33, 23, 5, 0, -1, -1, -1, 8, -1, 1, -1, -1, 24, 0, 41, 0, -1, -1, 57, 1, -1, -1, 8, 10, 35, 21, -1, -1, -1, 46, -1, -1, -1, 18, 45, 42, 0, -1, -1, -1, -1, 34, -1, -1, -1, -1, -1, 7, 24, 59, 4, 0, -1, 0, 0, -1, -1, 15, -1, -1, -1, 14, 0, -1, -1, -1, 3, 2, -1, -1, 3, -1, 4, -1, 6, -1, 1, 3, 33, 3, 1, 15, -1, -1, 35, -1, -1, -1, -1, -1, -1, 18, -1, 18, 7, 0, -1, -1, 9, -1, 1, 4, 0, 2, 0, -1, 0, 0, 16, -1, 11, -1, -1, -1, -1, -1, -1, 8, -1, 1, 29, -1, 7, 0, 30, -1, 38, 22, 43, -1, 18, -1, 5, -1, 0, -1, -1, 20, 39, -1, 2, 35, -1, -1, -1, -1, -1, -1, -1, 50, -1, -1, -1, -1, -1, 0, 53, 20, -1, -1, 0, 13, -1, -1, 41, -1, -1, -1, -1, -1, -1, 2, -1, 1, 38, 18, -1, 32, -1, 47, 5, -1, -1, 18, 0, 44, 42, -1, 46, -1, 16, 50, 0, -1, 53, 3, 0, 39, 3, 0, 22, -1, -1, -1, -1, -1, -1, 1, 0, -1, -1, -1, -1, 33, -1, -1, 26, 1, 12, 9, -1, 6, -1, -1, 6, 32, -1, 5, -1, 24, 3, -1, -1, 48, -1, 0, -1, 7, 22, -1, 10, 32, 6, -1, -1, 2, 6, 0, -1, 42, 0, -1, -1, -1, -1, 41, 11, 1, 3, 5, 2, 40, 14, -1, -1, 0, -1, 0, -1, 45, 15, -1, 17, 0, -1, -1, -1, -1, 1, -1, 0, 34, 16, 1, -1, 28, -1, 29, -1, 0, -1, 14, 44, 0, 3, 0, 3, 1, 13, -1, 4, -1, -1, -1, 1, 37, 14, -1, -1, 37, -1, 5, -1, -1, 0, 0, -1, -1, -1, -1, -1, -1, 55, 5, 15, 4, -1, -1, 13, -1, 38, -1, 34, -1, 4, -1, 32, 45, 0, 15, 7, 12, -1, 4, 6, 1, -1, -1, 7, -1, 3, -1, 16, -1, -1, -1, -1, -1, 9, 5, -1, 15, -1, 10, -1, -1, 20, -1, -1, 0, 7, 2, -1, -1, 0, -1, -1, -1, -1, 4, -1, 55, 3, 14, -1, -1, -1, -1, -1, 0, -1, -1, -1, -1, -1, 0, 12, -1, -1, 3, -1, -1, 2, -1, -1, 48, 16, 3, -1, 44, -1, 0, -1, -1, 4, -1, 0, 0, 7, -1, -1, -1, -1, -1, 0, -1, -1, 15, -1, -1, -1, -1, -1, -1, -1, -1, -1, 0, -1, 2, 54, 8, -1, 50, 3, 6, -1, -1, -1, -1, -1, -1, 38, 20, -1, 25, -1, 57, -1, -1, -1, -1, -1, 23, -1, -1, -1, 0, -1, -1, 0, -1, 1, 3, -1, -1, 40, -1, 24, 48, 17, 36, 1, -1, -1, 15, -1, -1, 0, -1, -1, 12, 8, -1, -1, -1, -1, 19, 0, -1, -1, -1, 0, -1, 3, -1, -1, -1, 9, 21, 7, 0, 16, -1, 0, -1, -1, -1, -1, -1, 21, 13, -1, -1, 21, -1, 0, -1, -1, 52, 26, 4, 4, 2, 12, -1, -1, 1, -1, 52, -1, -1, -1, -1, 25, -1, -1, -1, 6, -1, -1, -1, 0, 1, 21, 0, 1, 1, 51, -1, -1, -1, 1, -1, 0, -1, 37, -1, 0, 17, 0, 13, -1, 29, -1, -1, -1, -1, -1, 5, -1, 46, -1, 7, -1, -1, 18, 44, -1, 0, 28, 8, 13, 12, -1, -1, 8, 9, -1, 59, -1, -1, -1, -1, 1, -1, 0, -1, -1, 19, -1, -1, -1, -1, -1, -1, -1, 30, 0, 7, -1, 0, 1, 27, 3, -1, 45, -1, -1, 0, 3, -1, 5, 4, 1, 5, -1, 15, 45, 20, 1, -1, -1, -1, -1, -1, 2, -1, 6, 12, 0, -1, 2, -1, -1, -1, -1, -1, 0, -1, 18, 0, -1, 0, 29, -1, -1, -1, -1, -1, 41, 0, 11, 2, -1, -1, -1, 23, -1, 1, -1, -1, 4, 0, 9, 55, 12, -1, -1, -1, -1, 12, -1, -1, -1, -1, -1, 2, -1, 13, -1, 0, 28, 7, -1, -1, 0, -1, -1, 2, 0, 0, -1, 0, -1, 0, 7, -1, 0, -1, -1, -1, -1, -1, -1, 6, 37, -1, -1, 1, -1, -1, -1, -1, 28, -1, 0, -1, 0, -1, -1, -1, 14, -1, -1, -1, -1, -1, -1, 10, 14, 4, 41, -1, 3, -1, 11, 40, 21, -1, 15, -1, -1, 21, -1, -1, -1, 1, -1, -1, -1, -1, -1, 3, 28, 7, -1, -1, -1, -1, -1, 8, -1, -1, 2, -1, 3, -1, 4, 0, -1, 13, 2, 19, 1, 0, -1, -1, -1, -1, 0, -1, -1, 0, -1, 31, 24, -1, -1, -1, 24, 4, 4, -1, -1, -1, -1, -1, -1, -1, -1, -1, 22, 10, 8, 39, -1, 1, -1, -1, 55, -1, 15, 24, -1, -1, 33, -1, 7, -1, 47, -1, -1, -1, 2, 26, 0, 0, -1, 1, 6, -1, 4, 2, 9, -1, 17, 3, 0, 6, -1, -1, -1, 36, 9, 39, -1, -1, -1, -1, -1, 0, -1, -1, 25, 36, -1, -1, -1, 38, 0, 31, -1, -1, -1, -1, 16, -1, -1, 9, -1, 0, 7, 2, 40, 7, 0, 8, -1, -1, -1, -1, -1, -1, 0, -1, 10, -1, -1, -1, -1, -1, -1, 4, 23, -1, -1, 24, -1, 6, -1, -1, 3, -1, 56, 42, -1, -1, 53, -1, -1, -1, 46, 2, -1, 15, -1, -1, 6, 31, -1, -1, -1, -1, 0, 5, 0, -1, 2, -1, 12, 13, -1, -1, 14, 7, -1, 0, 35, -1, 0, -1, -1, -1, 28, 10, -1, -1, -1, 1, 22, -1, -1, -1, -1, -1, -1, -1, -1, 3, 9, -1, -1, -1, -1, 0, 6, 0, -1, -1, -1, -1, -1, 4, 0, 4, -1, -1, -1, 8, -1, 0, 30, 6, 0, 3, -1, 0, -1, 6, 0, -1, -1, 0, 0, 19, 0, 6, 19, 9, -1, 2, 10, -1, -1, 58, -1, 40, -1, -1, -1, 6, 4, 0, -1, -1, 32, 18, -1, -1, -1, -1, -1, 17, 28, 21, 12, -1, -1, 56, -1, 9, -1, -1, -1, -1, 3, -1, 0, -1, 47, 2, 43, 10, 0, -1, 4, -1, -1, 26, -1, 0, -1, 57, 24, -1, 54, -1, -1, -1, -1, 7, 4, -1, 12, -1, 23, -1, -1, -1, -1, 23, 54, -1, -1, -1, -1, -1, -1, -1, -1, -1, -1, -1, 15, 22, -1, 12, 0, 7, 21, 25, -1, -1, -1, -1, -1, 0, 25, 12, 43, -1, 0, -1, -1, 1, 12, -1, -1, -1, 1, -1, 33, -1, 7, 0, -1, 0, -1, -1, 6, 0, -1, 8, 12, -1, -1, 2, -1, 43, -1, 0, -1, 1, 17, -1, 36, 42, 37, -1, -1, -1, 5, 16, -1, -1, 38, -1, -1, -1, -1, 56, 0, 0, -1, -1, -1, -1, 2, -1, 12, 44, -1, 1, -1, -1, -1, 28, -1, 9, 33, -1, 14, -1, -1, -1, 25, 9, -1, 18, 5, 0, 2, 12, 18, 0, 17, -1, 3, -1, 22, -1, -1, -1, -1, -1, -1, -1, -1, -1, -1, -1, -1, -1, -1, 36, 21, -1, 51, -1, -1, -1, -1, -1, 35, 5, 1, 0, -1, 0, 4, -1, -1, -1, -1, -1, -1, 1, -1, -1, 2, -1, -1, -1, 0, -1, 19, -1, 25, -1, 6, 8, 0, -1, -1, -1, 0, -1, 43, 32, -1, -1, -1, 11, 1, -1, 20, 3, -1, -1, -1, 41, -1, -1, 37, -1, 1, -1, -1, 46, 16, 18, 17, -1, -1, 0, -1, 0, 24, 13, -1, 33, -1, -1, 0, -1, -1, -1, 5, 3, 1, 2, 0, 2, -1, -1, -1, 8, 10, -1, -1, 56, -1, -1, 0, 56, 25, -1, -1, -1, 27, -1, -1, -1, -1, -1, 1, 2, -1, -1, -1, 50, -1, -1, 5, -1, 20, -1, 2, 0, 14, -1, -1, 22, -1, -1, -1, 14, -1, -1, -1, 0, -1, -1, -1, 16, 17, -1, 1, 3, 18, -1, 37, -1, 23, -1, 0, 18, -1, -1, -1, 15, -1, -1, -1, 41, -1, -1, -1, 22, -1, -1, -1, -1, 8, -1, -1, 52, -1, -1, 0, -1, 0, -1, 10, 0, -1, 4, -1, -1, 29, -1, -1, 42, -1, 52, -1, -1, 0, 1, 0, -1, -1, -1, -1, -1, -1, -1, -1, 22, 9, -1, 55, 0, 10, 19, -1, 12, 26, 44, 11, 1, -1, 7, 6, 0, 4, 0, 6, -1, 9, 0, -1, -1, -1, 0, 46, -1, -1, -1, -1, 20, -1, -1, 26, 14, 0, 15, 52, -1, 12, 1, -1, 37, -1, 20, 12, -1, -1, 9, -1, 4, 45, -1, 8, -1, -1, 0, -1, -1, 21, 4, -1, -1, -1, 1, -1, -1, -1, -1, -1, -1, -1, -1, -1, 35, -1, -1, 22, -1, 47, 9, -1, 9, -1, -1, 2, -1, 12, -1, -1, -1, -1, -1, -1, 1, -1, 2, -1, -1, -1, 7, -1, 9, 1, -1, -1, -1, -1, 42, -1, -1, 1, -1, 54, 13, -1, 6, 12, 4, 18, 16, -1, -1, -1, 1, 38, 15, 3, 1, -1, -1, -1, 37, 0, 43, -1, 51, -1, -1, 2, -1, 2, -1, 2, 0, 0, -1, 2, 20, -1, 16, -1, 25, -1, -1, -1, -1, 4, 39, 1, 0, -1, 1, 6, -1, -1, 0, -1, 7, 10, 4, 46, 33, 0, -1, 3, 0, 4, -1, -1, 52, -1, -1, -1, -1, -1, -1, -1, 0, -1, 50, 0, 7, 4, 1, 9, -1, 0, 3, 0, -1, -1, 2, 0, 3, -1, -1, -1, -1, 40, 17, 1, -1, 0, -1, -1, 0, 2, 22, 0, -1, 0, -1, 48, 0, 15, -1, 12, 26, -1, -1, -1, 0, 0, -1, -1, 3, 0, -1, -1, 20, -1, -1, 11, 0, 6, -1, 30, -1, 1, 19, 24, 1, -1, -1, 24, -1, -1, -1, -1, 0, -1, -1, -1, 0, -1, 3, 0, -1, -1, 0, -1, -1, 2, 59, -1, -1, -1, -1, 0, -1, 0, -1, 11, -1, 42, -1, -1, -1, -1, 24, 49, -1, -1, 47, -1, -1, 0, 0, 2, -1, 2, -1, -1, 0, -1, 56, -1, 13, 17, 27, -1, 6, 20, -1, 25, 45, 43, 10, 10, 0, -1, -1, -1, 23, 1, 27, 15, 38, -1, 29, -1, 28, 26, 1, 3, -1, -1, 52, -1, 9, -1, -1, 23, -1, -1, 0, 59, -1, -1, 49, 41, 12, -1, 7, 5, 22, -1, 12, -1, -1, 9, -1, 9, 0, -1, -1, 1, 0, 38, 1, -1, -1, -1, 42, 3, 14, 0, -1, -1, 26, -1, 10, 17, 1, -1, -1, 1, 5, -1, 3, -1, 9, 0, 32, 49, 1, -1, 7, 17, -1, -1, -1, 30, -1, 17, 0, 35, 29, -1, -1, -1, -1, 4, -1, 0, 35, 2, 14, 3, 7, -1, 0, 4, 0, 6, 17, -1, -1, 0, -1, -1, 24, 0, 29, -1, -1, -1, 4, 42, 5, -1, -1, -1, 11, 19, 53, 0, 10, -1, 28, 5, -1, -1, 6, -1, -1, -1, -1, -1, -1, 21, 4, -1, 15, 0, 17, 6, 0, -1, -1, 4, 0, -1, -1, 31, 10, -1, 10, -1, -1, -1, 0, 47, 12, -1, -1, 0, -1, 29, -1, 0, 10, 0, -1, 17, -1, 3, -1, 8, -1, 26, -1, 19, -1, 15, 45, -1, 11, 15, -1, -1, 47, -1, 1, 1, -1, -1, -1, 0, -1, 2, 6, 40, -1, -1, -1, -1, -1, 0, 56, -1, 53, -1, 33, 43, 54, 6, -1, 24, 56, 12, 44, 0, 8, -1, -1, 3, 1, -1, -1, 25, 1, 24, -1, 2, -1, -1, -1, 0, 2, 5, -1, -1, 4, -1, 0, -1, 1, 36, 49, -1, 0, -1, 7, -1, 0, -1, 1, 53, 39, -1, 33, -1, -1, 32, -1, -1, -1, -1, 6, 51, 26, -1, -1, -1, -1, -1, 1, -1, 3, -1, -1, 7, -1, 4, 0, 1, 3, -1, -1, -1, -1, -1, 0, -1, 6, -1, -1, 17, 39, 0, -1, 1, 18, -1, 10, -1, 18, 0, -1, 18, -1, -1, 31, 0, 11, -1, -1, -1, -1, -1, 26, 6, -1, 17, 3, -1, 21, -1, 19, -1, 32, -1, -1, 4, -1, 6, -1, -1, 5, -1, 44, -1, -1, 4, 9, -1, -1, -1, 1, 0, -1, 9, -1, 19, -1, -1, 6, -1, -1, 16, -1, -1, 1, -1, 0, -1, 0, -1, 0, -1, 2, -1, 5, -1, 47, 15, -1, 0, 1, -1, -1, -1, -1, 26, -1, -1, 10, -1, 0, -1, -1, 6, -1, -1, 0, -1, -1, 1, 47, 9, -1, 18, -1, 25, 52, -1, 30, 32, -1, 16, 0, 4, 0, 7, 0, -1, -1, -1, -1, -1, -1, 24, 1, 2, -1, 0, 38, -1, 32, 0, 0, -1, -1, 20, 2, -1, -1, -1, -1, 50, -1, -1, 17, 0, 2, -1, -1, -1, -1, -1, 1, -1, 40, -1, 2, -1, -1, -1, 52, 12, -1, -1, 52, 18, -1, -1, 27, -1, -1, -1, 13, -1, -1, -1, 7, 0, 0, -1, 1, 14, 4, -1, -1, 0, 20, 12, -1, -1, -1, 48, -1, -1, 9, 16, 48, -1, 0, 10, 0, -1, -1, -1, -1, 1, 1, -1, 17, -1, -1, -1, 21, -1, 1, 4, 3, -1, -1, -1, 0, -1, -1, -1, -1, -1, -1, 0, 1, -1, 10, -1, -1, -1, 5, 35, -1, 57, -1, 18, -1, -1, 22, 9, 0, -1, -1, -1, 2, 12, 15, 38, -1, -1, 0, -1, -1, 55, -1, -1, 1, 0, -1, -1, -1, -1, 1, 3, -1, 0, 24, 2, 15, 4, 0, -1, 8, -1, 7, -1, 0, -1, 29, 8, -1, 54, 57, -1, 7, -1, -1, 19, -1, -1, 4, 5, 16, -1, 2, 2, -1, 16, -1, 25, 6, 27, -1, 27, -1, -1, -1, -1, 2, 2, 59, -1, 8, 2, -1, 47, -1, 29, 6, 0, -1, 18, 0, 15, 1, -1, 37, -1, 32, -1, 1, 1, -1, 35, -1, 0, -1, 9, -1, -1, 2, 0, -1, 0, -1, 4, -1, 0, -1, 1, -1, -1, 3, 0, 30, 23, 4, 2, 17, 1, 10, -1, 0, 6, -1, -1, 21, 25, 13, 3, -1, -1, -1, 2, -1, 5, 8, -1, -1, 34, -1, 46, 53, -1, -1, 55, -1, 2, 18, -1, -1, -1, 49, -1, -1, -1, 20, -1, -1, -1, -1, -1, 23, -1, -1, -1, -1, -1, -1, 5, -1, 15, 0, 1, 4, -1, -1, 2, -1, 5, 20, -1, 35, -1, 10, 46, -1, 9, -1, -1, -1, 46, -1, -1, -1, -1, -1, -1, -1, -1, -1, -1, -1, -1, 5, -1, -1, 16, 2, -1, -1, -1, 10, -1, 2, 36, -1, 2, 0, 6, 20, 44, -1, -1, 0, 5, 3, -1, -1, -1, 39, -1, 1, 6, 46, -1, 57, -1, 39, 27, -1, -1, -1, -1, 3, -1, -1, 47, -1, -1, 0, -1, 0, -1, 38, -1, 3, 0, 59, -1, 0, -1, -1, -1, -1, 0, 3, 3, -1, -1, -1, 10, -1, -1, -1, 0, -1, -1, 47, -1, 0, 29, 23, -1, -1, 5, -1, 12, -1, 16, 27, -1, -1, 14, -1, 2, 12, -1, -1, -1, -1, 38, -1, -1, 0, -1, -1, 5, -1, -1, 0, 14, 0, -1, 5, -1, -1, -1, 55, -1, -1, -1, 41, -1, 4, 6, 8, 47, -1, -1, -1, -1, 2, -1, 27, -1, -1, 8, 32, 16, -1, -1, -1, -1, 38, -1, 2, 0, 40, -1, -1, 0, -1, -1, 0, 45, -1, -1, -1, 0, 7, 1, -1, -1, 26, -1, -1, -1, -1, 1, 49, 3, 3, 50, -1, -1, 0, -1, 5, -1, 0, 16, -1, 58, -1, 2, 11, -1, 25, -1, 4, -1, -1, 23, -1, 0, 42, 9, -1, -1, 3, -1, 0, 17, -1, -1, 16, -1, 9, 0, -1, -1, -1, 0, 14, 2, 0, -1, 53, -1, 3, -1, -1, -1, -1, -1, 14, -1, 30, 20, -1, -1, -1, -1, -1, -1, 5, 26, 8, -1, -1, 8, -1, -1, 1, 0, -1, 56, 0, 2, -1, 28, 3, -1, -1, -1, 23, 0, 38, 10, -1, -1, -1, 26, -1, -1, 27, 3, 0, 7, 56, 30, 18, -1, -1, -1, -1, 3, -1, -1, -1, -1, -1, -1, 47, 10, -1, -1, -1, 28, 50, -1, 9, -1, 4, 4, 0, -1, 5, -1, -1, -1, 2, -1, -1, 0, 17, -1, -1, 18, -1, -1, 2, 1, -1, 0, 48, 9, -1, 5, 0, -1, 8, 21, -1, 16, -1, -1, 1, -1, -1, -1, -1, -1, -1, -1, 12, -1, -1, 0, 59, -1, -1, 15, -1, 3, 1, -1, -1, 3, -1, -1, 20, -1, 4, 41, 1, 3, -1, -1, -1, -1, 23, -1, -1, -1, -1, -1, -1, 8, -1, 46, 18, 2, -1, -1, 9, -1, 8, 8, -1, -1, 0, 27, 0, 0, -1, 9, 2, 47, 9, 53, 58, 24, 3, 38, 0, 0, 28, 2, -1, 10, 0, -1, 31, 1, 45, -1, 12, 0, 15, 1, 0, 1, -1, 0, -1, 0, 0, 0, 51, -1, 1, 0, -1, -1, 20, -1, -1, 5, 2, 39, 9, 3, 3, 6, 0, -1, 4, -1, 3, 20, 28, -1, -1, -1, 2, 0, -1, 15, -1, 37, -1, 5, -1, 6, -1, -1, 0, 29, -1, -1, -1, 0, 0, -1, 43, -1, 2, 38, 41, 1, 15, 36, -1, -1, 9, 5, 29, -1, -1, 58, 0, 33, -1, 7, -1, -1, 42, 3, -1, 25, -1, -1, 0, -1, 6, -1, 54, -1, 5, 33, 0, 33, -1, 8, -1, 5, -1, -1, -1, 32, -1, 34, 40, -1, -1, -1, -1, 3, 10, 6, 2, -1, -1, -1, -1, -1, -1, 21, 27, -1, -1, -1, 0, 4, -1, -1, 11, -1, 0, -1, -1, -1, -1, -1, -1, 14, 44, -1, 0, -1, 0, 23, -1, 38, 0, 7, 42, 14, -1, -1, 38, 2, 7, 1, -1, -1, 4, 9, 1, 0, -1, 0, -1, -1, -1, 16, 0, 1, -1, 18, -1, -1, 5, -1, 19, -1, -1, 23, -1, -1, 0, 6, -1, 1, -1, -1, 7, -1, 33, -1, -1, 7, -1, -1, -1, -1, -1, -1, -1, 6, 0, -1, 16, -1, -1, -1, -1, 27, 8, 0, -1, 3, -1, 22, -1, 0, -1, -1, 29, -1, 1, -1, 2, 1, -1, -1, 2, 9, -1, -1, -1, -1, -1, 4, 15, -1, 0, 41, -1, 0, 40, 4, -1, 54, -1, -1, 1, 1, -1, 9, -1, 37, 18, 48, -1, -1, -1, 1, 14, 35, -1, 2, 0, 0, 0, -1, -1, 13, -1, 0, -1, -1, -1, -1, 17, -1, 23, 15, 43, -1, 31, 44, 8, -1, -1, -1, 17, 23, -1, 3, 8, 4, 12, 1, -1, -1, -1, 1, 37, 5, -1, -1, 41, -1, 29, 1, 6, -1, 4, -1, -1, -1, -1, 0, -1, 0, -1, -1, 37, -1, 35, -1, -1, 38, 11, -1, 15, -1, -1, 22, -1, -1, 0, -1, 2, 0, -1, 43, 0, 0, -1, 0, -1, -1, 0, 31, -1, 0, -1, -1, 1, 0, -1, 24, -1, 7, -1, -1, -1, 35, 0, -1, 1, 34, -1, -1, 0, -1, 1, 0, 11, 36, 0, -1, 39, -1, -1, -1, -1, 1, 18, -1, 6, -1, 6, -1, -1, 19, -1, -1, 29, -1, -1, -1, 23, -1, 8, -1, -1, 2, 54, -1, 14, 15, 0, 52, 29, 1, -1, -1, -1, 56, 43, 2, -1, -1, -1, 0, 0, 3, -1, 24, -1, 0, 19, 0, 59, 59, 0, 0, 33, -1, -1, 1, 22, 1, 26, 9, -1, 31, -1, -1, -1, 0, 9, -1, 2, -1, 2, -1, -1, -1, -1, 3, -1, 12, -1, 3, -1, 8, -1, -1, -1, 0, -1, -1, 10, -1, 3, -1, 12, 3, -1, 4, 1, -1, -1, 4, -1, -1, 10, 46, 2, 2, -1, 0, -1, -1, -1, -1, 8, 1, -1, 12, 1, 2, 3, -1, -1, -1, 0, -1, -1, -1, 9, -1, -1, 56, -1, 36, -1, 6, -1, 7, 3, -1, 12, -1, -1, -1, -1, 2, 10, 1, -1, 36, 44, -1, 1, -1, -1, -1, -1, 42, 3, 1, -1, 50, -1, 1, -1, 13, 4, -1, -1, 0, -1, -1, 16, -1, -1, 6, -1, -1, 3, 50, -1, 35, -1, 14, 14, -1, 12, 15, 34, -1, 1, -1, -1, -1, 48, -1, -1, -1, -1, 20, -1, -1, -1, 1, -1, 6, -1, -1, 45, -1, 51, 5, -1, -1, -1, -1, 4, 3, -1, -1, 18, 56, -1, 55, -1, 10, 26, -1, 4, -1, 5, -1, -1, 3, 5, 10, 5, 9, 0, -1, 3, -1, -1, -1, 13, -1, -1, -1, -1, 0, 16, -1, -1, -1, -1, -1, 22, -1, 0, -1, 2, -1, -1, 41, -1, 55, 0, -1, 19, 42, 10, -1, -1, 3, 12, 54, -1, -1, -1, -1, -1, -1, 17, 49, 2, 40, 1, -1, -1, 0, -1, 2, -1, -1, -1, -1, 0, 0, 6, 22, -1, 22, -1, 48, -1, 43, 3, 4, 20, 3, 21, -1, 49, 7, -1, 0, 0, 51, -1, -1, -1, -1, 14, 26, 1, -1, -1, -1, -1, -1, 1, 47, -1, -1, -1, -1, 3, -1, -1, -1, -1, -1, 5, -1, -1, -1, -1, 0, 0, -1, 18, -1, -1, 33, 3, -1, -1, 48, 1, -1, -1, -1, 4, -1, 54, -1, 53, 0, 0, 1, 0, -1, -1, -1, 11, 14, -1, 7, 25, -1, 2, -1, 39, -1, -1, -1, 2, 0, 0, -1, 4, 9, -1, -1, -1, 12, -1, 3, -1, 6, -1, 21, -1, -1, -1, 0, -1, -1, 10, -1, 0, 32, -1, -1, -1, -1, 5, -1, 10, 0, 0, 25, 0, 18, 17, 12, 44, -1, 51, -1, 50, 1, -1, -1, -1, 18, 36, -1, -1, -1, 28, -1, -1, -1, 31, -1, -1, -1, 7, -1, -1, 27, -1, -1, 0, -1, 11, -1, 2, -1, -1, -1, -1, 35, 0, -1, 20, -1, -1, 6, -1, -1, 28, 46, -1, 41, 0, -1, -1, -1, 1, 0, -1, -1, 0, 1, -1, -1, 0, -1, 0, 41, -1, -1, -1, 6, 0, 10, -1, -1, -1, 24, 53, 0, -1, -1, -1, -1, 45, 0, 0, 0, 41, -1, 31, -1, -1, -1, 43, -1, -1, -1, -1, -1, 0, 0, 0, -1, 4, 0, 9, 11, -1, -1, -1, -1, -1, 12, -1, 1, -1, -1, 39, 0, 3, 21, -1, 0, 0, -1, -1, -1, -1, -1, 29, 0, 3, 25, 39, 2, -1, -1, -1, 1, -1, -1, 4, 1, 14, -1, -1, 47, -1, 4, 2, 1, -1, 0, -1, 3, 0, -1, -1, -1, 0, 11, 6, 0, 39, 11, 29, 13, -1, -1, -1, 5, -1, -1, -1, 1, 1, 41, -1, -1, 23, -1, -1, -1, -1, 14, 26, -1, -1, 4, -1, -1, 34, -1, -1, -1, -1, -1, -1, -1, -1, -1, -1, 1, -1, 0, 21, 0, 3, -1, -1, -1, -1, -1, 0, 12, 2, 49, 19, -1, -1, -1, -1, 1, -1, 1, -1, 7, 1, -1, -1, 56, 2, -1, 0, -1, -1, -1, -1, 32, -1, -1, 8, -1, -1, -1, -1, -1, -1, -1, -1, 8, -1, 6, 31, -1, 29, -1, 32, 1, -1, 0, -1, 1, -1, -1, 12, 47, -1, 19, 3, -1, 2, -1, 1, -1, -1, 2, -1, -1, 30, 50, -1, 13, -1, 21, -1, 50, 3, 11, -1, -1, 0, -1, 34, 2, 28, -1, -1, -1, -1, 24, 2, -1, 6, 24, 6, -1, -1, 36, -1, 19, -1, 0, -1, -1, -1, 2, 2, -1, -1, -1, -1, -1, -1, 3, 0, -1, 57, -1, -1, -1, -1, 57, 35, 7, 3, 0, 1, 1, 0, -1, 0, -1, -1, 14, 0, -1, -1, 0, -1, 1, -1, -1, 3, -1, -1, -1, -1, -1, -1, -1, -1, -1, -1, -1, 49, -1, 0, -1, 47, 13, 7, 27, 25, 2, 0, -1, -1, 7, -1, -1, -1, -1, -1, 35, -1, -1, -1, -1, 3, 55, -1, -1, 0, 0, -1, 1, 12, -1, -1, -1, 7, -1, -1, -1, -1, -1, 6, 2, 6, -1, -1, -1, -1, -1, 14, 1, -1, 16, 0, -1, -1, -1, -1, 1, -1, 1, -1, 0, 4, 0, -1, -1, -1, -1, 8, 2, -1, -1, 0, -1, 4, -1, 59, 30, -1, 52, -1, 22, 0, 1, 28, -1, 32, -1, 28, -1, -1, 0, -1, 19, -1, -1, 4, -1, -1, -1, -1, -1, -1, 8, 2, -1, 23, 3, -1, -1, 7, -1, -1, -1, -1, -1, 49, 16, -1, -1, -1, -1, -1, -1, 12, 27, -1, 0, -1, 1, 4, 0, -1, -1, -1, -1, -1, 27, 4, -1, 37, -1, -1, 33, -1, -1, -1, -1, -1, 3, -1, -1, 42, 0, -1, 4, -1, -1, 21, 2, -1, -1, -1, 0, -1, 0, 35, -1, 45, -1, 11, -1, -1, -1, 1, 0, 2, 8, 4, 2, -1, -1, -1, -1, 9, 18, 20, -1, -1, -1, 4, 15, -1, 2, 1, -1, -1, -1, -1, 0, 54, 3, 34, -1, -1, -1, 1, -1, -1, -1, -1, 1, -1, 1, -1, 2, -1, 32, 13, -1, 5, 39, -1, -1, -1, -1, 0, 21, -1, 59, -1, 22, -1, -1, -1, 2, 18, 23, -1, -1, -1, -1, 2, -1, -1, -1, -1, 15, 5, -1, -1, -1, 0, 2, 40, -1, 13, -1, -1, 32, 2, -1, -1, 51, 2, -1, 10, -1, 20, -1, 56, 3, 0, 1, -1, 51, -1, 35, 51, 10, -1, 35, 3, 1, 56, 14, -1, -1, -1, 16, 0, 23, 1, 1, -1, -1, -1, 26, 3, -1, 40, -1, 31, -1, 5, -1, -1, -1, 2, -1, 37, 59, -1, -1, 59, -1, -1, -1, 1, -1, -1, 4, -1, 1, -1, -1, 4, -1, 20, 23, -1, -1, 2, 22, 13, -1, -1, -1, 0, -1, 53, -1, -1, 0, -1, 10, -1, -1, 0, 33, -1, 4, -1, -1, 2, 3, -1, -1, -1, 23, -1, -1, -1, -1, 34, 29, -1, 6, 42, -1, 0, 0, -1, 10, -1, 15, -1, -1, -1, -1, 45, 11, 0, 0, -1, 2, -1, 2, 36, -1, 6, 28, 17, -1, 0, 0, 3, -1, -1, -1, 14, -1, 4, -1, 0, 49, 7, -1, -1, 17, 4, -1, -1, 4, 8, -1, 40, -1, -1, 1, 16, 33, 28, 0, -1, 30, 5, 0, -1, 7, -1, -1, -1, 13, 18, -1, 2, 28, -1, -1, -1, 3, 44, 53, -1, 0, -1, -1, -1, -1, -1, 0, 0, -1, 36, -1, 0, -1, 4, 11, 30, 8, 4, -1, -1, -1, 7, 2, -1, -1, 8, -1, 3, 2, -1, 1, -1, 47, 15, 17, -1, -1, 51, 32, 44, -1, -1, 50, 0, -1, 6, 8, 0, 0, -1, -1, -1, 21, 5, -1, 13, -1, 21, 0, -1, 0, 4, 0, -1, 54, -1, -1, -1, -1, -1, -1, 5, -1, 4, -1, 41, 0, 11, -1, -1, 23, -1, 3, 46, -1, -1, -1, -1, -1, 0, 28, -1, -1, 0, 22, -1, -1, -1, 47, -1, -1, -1, 6, 0, 0, 0, 17, -1, -1, 4, -1, 19, -1, -1, 18, 0, 0, 48, 23, 3, 3, 0, -1, 6, 53, -1, 2, -1, 3, -1, -1, 1, -1, 0, 19, 1, -1, 26, -1, -1, 37, 2, 27, 3, 6, -1, 0, 20, 30, 49, 4, 0, -1, 15, 6, -1, 32, -1, 0, 23, 0, -1, -1, -1, -1, -1, -1, -1, -1, -1, -1, 0, -1, 29, -1, 4, -1, 21, -1, 0, -1, -1, 5, -1, -1, -1, -1, -1, -1, -1, -1, 0, 0, -1, -1, 3, -1, -1, 38, -1, 54, 1, 4, 3, -1, -1, -1, -1, -1, 44, -1, -1, 7, -1, -1, -1, -1, -1, -1, -1, -1, 17, 1, -1, 5, -1, 8, -1, 21, -1, -1, 50, -1, 16, -1, -1, -1, -1, -1, 0, -1, 31, 0, 1, 6, 1, 57, 0, -1, 27, -1, -1, -1, -1, 8, 39, 1, 0, -1, -1, 42, -1, 2, -1, -1, 8, -1, -1, 14, 23, 9, 0, -1, -1, 5, 11, 3, 2, 2, -1, -1, 1, -1, 19, 56, -1, 5, 0, -1, -1, -1, 3, 18, 46, 21, -1, 0, 0, -1, -1, -1, -1, -1, -1, 3, 0, -1, 0, 0, 3, -1, 1, 16, 5, -1, 0, -1, 3, -1, 18, -1, -1, 0, -1, 48, -1, 12, 0, 4, 20, 21, 25, 3, -1, 0, -1, -1, 38, 0, -1, 5, 37, -1, -1, -1, 22, 3, 0, -1, 53, 3, -1, 1, 3, 1, -1, -1, 4, -1, -1, -1, -1, -1, -1, -1, -1, 20, -1, 5, 2, -1, 21, -1, 0, 0, 0, 1, -1, -1, -1, -1, -1, -1, 11, -1, 46, -1, 0, -1, 9, -1, 1, -1, 2, -1, -1, -1, -1, -1, -1, -1, 42, 3, -1, -1, -1, -1, -1, 38, 0, -1, 2, 13, 19, -1, -1, -1, -1, 37, -1, -1, -1, -1, -1, -1, -1, 0, -1, 30, 0, -1, -1, 3, 10, -1, 8, -1, -1, -1, 5, -1, -1, -1, 27, -1, -1, 12, 29, -1, -1, 31, -1, -1, -1, 1, 0, -1, -1, -1, 5, -1, -1, -1, -1, -1, -1, -1, 1, 33, -1, 4, 47, -1, -1, -1, -1, -1, -1, 44, -1, -1, 16, 17, -1, 2, 23, 8, 17, 14, 49, -1, -1, -1, 0, 1, 0, 2, 3, -1, 43, -1, 8, -1, 14, -1, -1, 9, 1, 28, -1, -1, 11, 23, -1, -1, 20, -1, -1, -1, -1, -1, 0, -1, -1, -1, -1, 9, 1, 0, 4, 41, -1, -1, -1, 0, -1, -1, -1, -1, 15, 10, 35, -1, 28, -1, -1, 0, -1, 7, -1, 0, -1, -1, 0, -1, 2, -1, -1, 0, -1, 4, -1, -1, 1, -1, -1, -1, 33, -1, 12, 57, -1, 1, 28, -1, -1, 0, 0, -1, 28, 1, -1, 0, -1, 7, 14, -1, -1, 14, 48, -1, 2, -1, -1, 0, 38, -1, 29, 12, -1, 4, 41, -1, 2, -1, -1, -1, -1, -1, -1, -1, 0, 0, -1, -1, -1, -1, 2, 0, 51, 0, -1, -1, -1, 11, -1, -1, -1, -1, 0, 3, 3, -1, -1, 0, 40, 10, 0, 35, -1, 13, -1, 21, -1, -1, 2, 9, -1, 0, 23, 2, -1, -1, 11, 1, 2, 0, -1, 11, 26, -1, 22, -1, 1, -1, -1, -1, 4, -1, -1, -1, -1, -1, 0, 0, -1, -1, -1, -1, 0, -1, 1, -1, 15, 40, -1, -1, 9, 0, 4, 0, -1, -1, 1, -1, -1, -1, -1, 2, -1, 19, 4, 56, -1, 0, 31, 0, 0, 4, -1, 2, -1, -1, 1, 23, 0, -1, -1, 12, 47, 12, -1, 4, 10, -1, 0, 53, 0, -1, 3, 3, -1, -1, -1, 0, 1, -1, -1, 13, 27, 5, -1, -1, 0, 37, -1, -1, 0, -1, 5, -1, -1, -1, -1, 5, -1, 56, -1, -1, 0, -1, -1, -1, -1, 4, -1, 1, 6, 49, -1, -1, -1, 10, -1, 8, 0, 26, 2, 34, -1, 0, -1, 17, -1, 5, -1, -1, -1, -1, -1, -1, 1, 57, 28, -1, -1, -1, -1, -1, 6, 46, -1, -1, -1, 3, -1, -1, 0, 2, -1, 0, 5, -1, 0, -1, 0, 44, -1, 14, -1, -1, -1, -1, -1, 24, 0, 43, 30, -1, 43, 0, -1, -1, 3, -1, 6, 11, -1, 0, 7, -1, 1, 24, 2, -1, 4, 11, 28, 17, 0, 18, 4, -1, -1, -1, -1, -1, -1, -1, 51, -1, -1, 2, 0, -1, 34, -1, -1, 52, -1, -1, 2, 1, 20, 45, -1, -1, 17, 25, -1, 13, -1, -1, -1, 1, 30, 2, -1, 2, 0, -1, 55, 6, -1, 10, 3, -1, 20, 0, -1, 1, -1, 44, 23, 3, -1, -1, 4, -1, 5, -1, -1, 43, -1, 44, 26, -1, 27, -1, -1, -1, -1, 24, -1, -1, -1, -1, 23, 0, 30, 0, -1, -1, -1, -1, 16, 0, 28, 4, 43, -1, 1, 0, -1, -1, 45, -1, -1, -1, 18, 40, 33, 45, 47, 0, 0, -1, 13, -1, -1, 0, 31, -1, -1, -1, -1, -1, 0, -1, 18, -1, -1, 13, -1, -1, -1, 0, 27, -1, -1, 20, -1, -1, -1, -1, 0, -1, 10, -1, 37, -1, -1, -1, -1, -1, 10, 22, 20, -1, 0, 3, -1, -1, 9, 52, -1, -1, 44, 16, -1, 16, -1, -1, -1, -1, 15, 12, 0, 0, 0, -1, 57, 1, -1, -1, 3, 0, 0, -1, -1, -1, -1, 4, -1, 36, -1, 0, 28, -1, 0, 36, -1, -1, -1, 7, -1, -1, 34, -1, -1, -1, -1, -1, -1, 32, -1, -1, -1, -1, 3, -1, 5, -1, -1, -1, -1, -1, 18, -1, -1, 0, -1, -1, -1, 0, -1, -1, -1, -1, -1, -1, -1, -1, 0, -1, 39, -1, 6, -1, 5, 26, 0, -1, 53, -1, 0, -1, -1, 44, 9, 1, -1, 30, 0, 16, 44, -1, -1, 54, -1, -1, 0, 6, -1, -1, -1, -1, 41, 14, 43, 28, -1, -1, -1, 35, -1, -1, -1, -1, -1, 1, -1, -1, -1, -1, 0, 2, 8, -1, 3, -1, -1, 0, 16, -1, -1, -1, 34, 30, 18, 1, 2, -1, 3, 1, -1, 16, -1, -1, -1, -1, -1, 52, 15, -1, 0, -1, -1, 8, 24, -1, -1, -1, -1, 28, 17, -1, 1, 0, -1, -1, -1, 22, 0, 1, 15, 0, -1, -1, 0, 16, -1, 11, 14, -1, 11, -1, 32, -1, 0, 4, -1, 3, -1, 7, 9, 17, -1, 3, -1, -1, -1, 0, -1, 23, -1, 18, 1, -1, -1, 2, -1, -1, 2, 5, -1, 1, -1, -1, 55, -1, 22, 23, -1, -1, 16, 2, 7, 14, 15, 0, -1, -1, 13, -1, -1, 0, -1, 5, 11, -1, 49, 6, -1, 2, 2, -1, 0, -1, 40, -1, -1, -1, 6, -1, -1, -1, -1, -1, -1, -1, -1, 6, 5, 1, 19, -1, 0, -1, 21, -1, -1, 22, -1, 8, -1, 4, -1, -1, 19, 44, -1, -1, -1, 34, 12, -1, 34, -1, 13, -1, -1, -1, -1, 1, 27, 29, 0, 11, -1, -1, 1, 7, -1, 28, -1, -1, 14, 22, -1, -1, 2, -1, 56, -1, 0, -1, -1, 0, -1, -1, 10, 39, 28, 47, 2, -1, -1, 4, -1, 20, -1, -1, -1, -1, 2, -1, 0, -1, -1, 29, 33, 19, -1, 0, -1, -1, 0, 11, -1, -1, -1, -1, -1, 52, 7, 28, 15, 32, -1, 0, -1, -1, -1, 12, 30, -1, 39, 1, -1, 6, 16, -1, 0, 39, -1, 6, -1, -1, 42, 7, -1, 51, -1, 3, 3, 0, -1, -1, 4, 4, -1, -1, -1, -1, 1, -1, 2, -1, 4, -1, 1, 58, -1, -1, 21, 14, 27, -1, -1, -1, 44, -1, -1, 14, 19, -1, -1, -1, 0, 18, -1, 13, 23, -1, 26, 9, -1, -1, -1, -1, 41, -1, 1, -1, 12, 36, -1, -1, -1, -1, 2, 10, -1, 9, -1, -1, -1, 59, -1, -1, 14, 11, -1, 0, -1, 36, 43, -1, -1, -1, 3, -1, 42, -1, -1, -1, -1, -1, -1, -1, 9, 13, -1, 43, 19, -1, 1, 0, 1, -1, 8, 0, -1, 0, 46, -1, 55, 53, -1, -1, 0, -1, 1, -1, -1, 2, 49, -1, -1, 1, -1, 30, 27, 1, -1, -1, -1, 24, -1, 6, 1, -1, 7, -1, -1, 2, 2, -1, 0, -1, 28, 6, 0, -1, -1, -1, 14, 23, 0, -1, -1, -1, 41, 0, 5, 44, 2, -1, -1, 22, -1, -1, -1, -1, -1, -1, -1, 22, -1, -1, 2, 31, -1, -1, 22, -1, 3, -1, 19, -1, 17, -1, 40, -1, 19, -1, -1, -1, -1, -1, -1, 6, 10, 0, 53, 1, 12, 5, -1, -1, 44, 13, 2, 56, -1, 1, 56, -1, -1, 0, -1, 0, -1, -1, 0, 2, 56, 3, -1, -1, -1, 12, 3, -1, -1, 0, 36, 3, -1, -1, 3, 4, 2, -1, 5, 13, 15, -1, -1, -1, -1, -1, -1, 10, -1, 20, -1, -1, -1, -1, 1, -1, -1, 58, 1, -1, 1, 37, -1, 1, 9, -1, -1, 9, 1, -1, 53, 59, 0, 0, -1, -1, 14, -1, -1, 21, 34, -1, -1, 20, 4, 3, 59, 52, 0, 16, 28, 26, 6, 10, 0, -1, 2, 33, -1, -1, 0, -1, -1, -1, -1, 0, 2, -1, 1, -1, -1, -1, 4, 12, 34, -1, 3, 9, -1, 56, -1, -1, 12, -1, 33, -1, -1, -1, 20, 22, 3, -1, -1, -1, -1, -1, 9, 1, -1, -1, -1, 0, 3, -1, -1, 32, -1, -1, 13, 0, -1, 30, 27, 0, -1, -1, -1, -1, 3, 19, 4, 2, -1, -1, 39, 4, -1, 0, -1, -1, -1, 0, -1, 8, 0, 5, -1, 3, 0, -1, -1, -1, 11, -1, 47, -1, 2, -1, 26, 24, -1, -1, -1, 2, 6, -1, -1, 2, -1, 1, -1, 28, 31, -1, 0, -1, 59, -1, -1, 56, 0, 0, -1, 35, 13, 43, 0, 48, -1, -1, 6, 27, -1, 58, 4, -1, -1, -1, 6, 46, -1, -1, -1, -1, -1, 57, -1, -1, -1, -1, 0, 57, -1, 0, -1, 2, 0, -1, -1, 52, 18, -1, -1, 14, -1, 3, -1, 0, -1, -1, 7, -1, -1, 10, 7, -1, 47, -1, -1, 4, -1, -1, 1, -1, 0, -1, -1, -1, 37, 39, -1, -1, -1, 0, 11, 41, 0, 16, 52, 3, 0, -1, 47, -1, 0, 38, -1, -1, -1, 25, 2, 24, -1, 11, 19, -1, 0, -1, -1, -1, -1, 55, 40, -1, -1, 18, 46, -1, 7, 25, -1, 38, 42, -1, 0, -1, 38, -1, 6, 6, 11, 5, -1, 0, -1, -1, -1, -1, -1, -1, 0, -1, -1, 3, -1, -1, 0, -1, -1, 30, -1, -1, -1, -1, -1, -1, -1, 1, -1, -1, 29, 33, -1, -1, -1, 4, 56, 0, -1, -1, -1, 0, 7, -1, -1, 33, -1, 0, 3, 31, -1, -1, 7, 24, -1, -1, 30, -1, 0, -1, -1, -1, 8, -1, 4, 0, 59, -1, -1, -1, 9, 0, 17, -1, -1, 0, -1, 31, 3, -1, -1, 45, 0, -1, 4, -1, -1, 10, 17, 6, 7, -1, -1, -1, 15, 46, -1, 33, 5, -1, -1, 0, -1, 55, -1, -1, 0, -1, -1, -1, -1, -1, -1, -1, -1, -1, -1, -1, 15, -1, -1, -1, -1, 26, -1, 39, 56, -1, 6, -1, -1, -1, 10, -1, 50, 0, 46, 4, 36, 0, 50, 55, -1, -1, -1, -1, -1, -1, -1, 5, -1, 46, -1, -1, -1, 1, 44, -1, 5, -1, 2, 14, 12, -1, 0, -1, -1, 0, 0, 2, 13, 6, -1, -1, 9, -1, 6, -1, -1, -1, 5, -1, 4, 0, 23, -1, 59, -1, 2, -1, -1, 0, 2, 56, 3, 0, -1, -1, -1, -1, 23, 2, 0, 21, -1, -1, 40, -1, 8, 54, -1, -1, 42, -1, -1, -1, -1, -1, 21, 51, 4, 0, 0, -1, -1, -1, 3, -1, -1, -1, 15, 6, 0, -1, -1, 30, -1, 54, 38, -1, -1, -1, -1, -1, 13, -1, -1, -1, -1, -1, 11, -1, -1, 48, -1, 46, -1, 9, -1, -1, 33, -1, -1, -1, 0, -1, 0, 0, -1, 32, 0, -1, 45, 3, 3, 3, 1, -1, -1, 53, 32, -1, 11, -1, 35, -1, 33, -1, -1, -1, 1, -1, 1, 0, -1, 0, -1, 3, 0, 1, 11, -1, -1, 10, 15, -1, -1, 2, 8, 0, -1, 10, -1, 3, 1, -1, -1, -1, 4, -1, -1, 15, 7, 27, 1, -1, 51, -1, -1, 0, -1, -1, -1, -1, -1, 1, -1, -1, -1, -1, 48, 7, -1, 10, -1, -1, 1, 45, 0, -1, 49, -1, -1, -1, -1, -1, -1, 0, 1, -1, -1, -1, -1, -1, -1, -1, -1, 52, -1, 34, -1, -1, -1, -1, -1, -1, -1, 22, -1, 29, 2, -1, 43, 2, 17, 8, 54, -1, -1, 0, -1, 5, 36, -1, -1, -1, 16, 8, -1, 29, -1, 4, -1, -1, -1, -1, 21, 0, -1, 51, 39, -1, -1, 26, 15, 53, -1, 4, -1, -1, -1, 0, 26, 38, -1, -1, -1, -1, -1, -1, -1, -1, -1, 0, -1, 6, 1, 19, 5, 8, 4, -1, 4, 35, 3, 1, 0, -1, 1, -1, 0, 14, 1, 28, -1, 58, -1, -1, -1, 3, -1, 13, -1, -1, -1, 58, -1, -1, -1, -1, -1, 4, 1, -1, 1, 51, -1, 23, 27, 28, 10, -1, 2, -1, -1, -1, -1, -1, 3, 24, -1, -1, 1, -1, 6, 0, -1, -1, -1, 3, -1, 40, -1, 0, -1, -1, -1, 25, -1, 2, -1, -1, 2, -1, 49, -1, 4, 47, -1, 0, 4, 0, -1, -1, -1, -1, -1, -1, 5, -1, -1, -1, -1, -1, -1, 0, -1, -1, 0, -1, -1, -1, 10, -1, -1, 14, -1, -1, 23, 58, -1, -1, 5, 20, -1, -1, -1, -1, -1, -1, 0, 20, 21, -1, -1, 50, 0, 57, 58, 3, -1, -1, 39, -1, -1, -1, 56, 25, 6, 32, -1, 0, -1, -1, 0, 2, -1, 1, 4, 40, -1, -1, 0, -1, -1, 2, -1, -1, -1, -1, -1, -1, -1, -1, -1, -1, -1, 2, 23, 41, -1, -1, 0, 5, -1, -1, -1, -1, -1, 29, -1, -1, -1, -1, 26, 38, 25, -1, 0, 1, 37, -1, 6, 12, 0, 16, 15, 0, 47, 21, -1, -1, -1, 31, 1, 0, -1, -1, 13, 6, 2, 1, 0, 2, 3, -1, 47, -1, -1, 58, 0, 5, 5, -1, 28, -1, -1, -1, -1, 5, -1, -1, 36, -1, 6, -1, 14, -1, -1, -1, 18, -1, -1, 1, 14, -1, 45, -1, 19, 1, -1, 15, -1, 4, 0, 3, 2, -1, -1, -1, -1, -1, 20, -1, -1, 17, 0, -1, -1, -1, 53, 4, -1, 51, -1, 0, -1, -1, 0, -1, 45, 3, 5, -1, 9, -1, 12, -1, 1, 1, 24, 14, 57, -1, -1, 7, 0, 1, -1, -1, 0, -1, 39, -1, 20, 7, -1, -1, 30, 8, -1, 16, 0, -1, -1, -1, -1, 5, -1, 0, -1, -1, 23, 2, 4, -1, -1, -1, 0, 6, -1, -1, -1, -1, -1, -1, 13, 2, -1, -1, -1, -1, 2, 13, -1, 42, -1, -1, -1, 57, -1, 26, -1, 3, 4, -1, -1, 6, 36, 1, -1, -1, -1, -1, -1, -1, -1, -1, 6, -1, -1, -1, 4, 13, 34, 0, 41, -1, 0, 50, -1, -1, -1, -1, -1, 0, 1, 34, -1, 27, 0, 0, -1, -1, 1, -1, 14, 1, 48, 0, -1, 2, -1, -1, 31, -1, -1, -1, -1, -1, 0, -1, -1, -1, 19, -1, -1, 0, -1, -1, 0, 16, 0, -1, -1, -1, -1, -1, -1, -1, -1, 0, 0, 16, 6, -1, 0, 3, -1, 10, -1, -1, 31, -1, -1, 29, -1, 2, -1, -1, -1, 17, 3, 0, -1, -1, -1, 1, 25, 44, 4, -1, -1, -1, -1, 4, 0, 0, 0, 0, 27, 43, -1, -1, -1, -1, -1, 5, -1, -1, -1, 31, -1, -1, 0, -1, -1, -1, -1, 8, -1, -1, 1, -1, 5, -1, -1, -1, 1, -1, -1, -1, 9, 0, -1, 50, -1, -1, 12, 2, -1, -1, -1, -1, 1, -1, 11, 9, 5, -1, -1, -1, -1, -1, -1, 16, -1, -1, 5, 0, -1, 0, -1, -1, 7, 0, 19, -1, 0, 12, -1, 4, -1, -1, -1, -1, -1, -1, -1, -1, 7, 0, -1, -1, 0, 30, 6, 13, 22, 0, 6, -1, -1, 32, 0, 0, -1, -1, -1, -1, -1, -1, -1, 38, -1, 1, 45, 11, -1, 44, 1, -1, 0, -1, -1, -1, 54, 0, 16, 0, 0, -1, -1, -1, -1, 0, -1, -1, 10, -1, -1, -1, -1, 0, 35, 4, -1, 0, 0, -1, 9, -1, 3, -1, 3, -1, 16, 0, 6, -1, -1, -1, -1, -1, -1, 46, -1, 29, -1, -1, 1, -1, 9, -1, -1, 0, -1, 0, 0, 23, 0, 12, -1, -1, -1, -1, -1, 2, 46, -1, 6, -1, 0, 17, 2, -1, -1, -1, 24, 4, -1, 54, 33, -1, 8, 4, -1, 0, -1, -1, 0, -1, -1, -1, -1, -1, -1, -1, -1, 0, -1, -1, 0, -1, -1, 1, 1, 59, 13, 0, -1, 43, -1, -1, 6, -1, 32, 37, 22, -1, -1, 0, -1, -1, 24, 14, -1, 2, -1, 50, -1, -1, 2, -1, 1, 0, -1, 4, -1, -1, -1, 18, -1, -1, 0, 4, -1, 25, -1, 5, 53, -1, 48, -1, -1, 0, 0, -1, -1, 0, 0, 5, 10, -1, -1, -1, -1, 0, -1, 0, 11, -1, -1, -1, -1, -1, -1, 29, -1, 0, -1, 38, 3, 3, -1, 9, -1, -1, -1, 29, -1, -1, -1, -1, 1, 8, 15, -1, -1, -1, -1, 14, 33, 2, -1, -1, -1, -1, 46, 16, -1, -1, 2, -1, 4, -1, -1, 45, 4, -1, 6, 0, -1, 0, -1, 25, -1, 0, -1, -1, 33, -1, -1, 42, -1, -1, -1, 27, 1, 9, -1, -1, 0, -1, -1, -1, -1, 0, -1, -1, -1, -1, 3, 11, -1, 5, 0, 0, 1, 4, -1, -1, -1, -1, 13, -1, 11, -1, 18, -1, 48, 8, -1, -1, -1, 0, -1, 53, 45, -1, -1, -1, -1, 22, -1, -1, 0, 25, -1, -1, 11, -1, 0, 9, 15, 9, -1, 7, 5, -1, 1, 2, 27, -1, 13, -1, -1, 8, 3, -1, 27, -1, -1, -1, 12, -1, -1, 28, 30, -1, -1, 9, -1, -1, -1, 14, -1, -1, 46, 4, 31, -1, -1, 2, -1, 1, 48, -1, 11, -1, 0, 26, -1, 30, 15, 5, -1, -1, 1, 22, -1, 0, 50, 14, -1, 37, 18, -1, 6, 2, -1, 53, 48, -1, -1, 0, -1, -1, 19, -1, -1, -1, 24, -1, -1, 0, -1, -1, -1, -1, -1, 5, 20, 11, 15, -1, -1, -1, 0, 1, 16, 37, 0, 0, -1, -1, -1, -1, 14, 8, 0, 56, 1, -1, -1, 27, 0, 0, 1, 5, -1, -1, -1, 30, -1, -1, 15, -1, -1, -1, 38, -1, 1, -1, -1, 57, -1, -1, -1, -1, -1, -1, 1, -1, 0, 2, -1, 22, 22, -1, -1, 4, -1, -1, 23, 53, -1, 44, -1, -1, -1, -1, 20, -1, -1, 20, -1, 0, 1, 19, -1, -1, -1, 3, 2, -1, -1, -1, 0, -1, -1, -1, -1, -1, 35, -1, 20, -1, -1, 17, -1, -1, -1, 16, -1, 0, -1, 0, -1, 41, -1, -1, 23, -1, 2, 51, -1, -1, -1, -1, -1, 21, 1, -1, 1, 28, 12, -1, -1, 37, 20, 0, -1, -1, 0, -1, -1, 0, 1, 12, -1, -1, -1, -1, -1, -1, -1, -1, 56, -1, 0, 10, 20, 34, 8, 8, -1, 33, 13, -1, 20, -1, -1, -1, -1, -1, 8, 34, -1, -1, -1, 18, -1, -1, 15, -1, 2, -1, -1, 3, 4, 17, -1, 38, 35, -1, -1, -1, -1, 16, -1, -1, 0, 11, 0, -1, 38, 0, 3, -1, 1, 0, -1, 13, -1, -1, -1, 2, 26, -1, -1, -1, 13, -1, 5, 52, -1, -1, -1, -1, -1, 9, 9, 51, -1, 0, 21, -1, 0, -1, -1, -1, 4, -1, -1, -1, -1, 7, -1, -1, -1, -1, -1, 25, -1, -1, 17, -1, -1, 40, 0, -1, -1, -1, 1, -1, 4, -1, -1, -1, -1, -1, -1, 48, -1, -1, 4, 8, -1, -1, 3, -1, 25, -1, 0, 1, -1, -1, -1, -1, 0, -1, -1, 39, 0, 8, 33, -1, -1, -1, 2, -1, 5, -1, 0, -1, 17, 43, -1, -1, -1, 5, -1, 39, -1, -1, 0, -1, 57, -1, 0, -1, -1, 31, 4, -1, -1, -1, -1, -1, -1, -1, -1, 3, 0, -1, -1, -1, -1, -1, 55, -1, 0, 8, 17, -1, 0, 3, -1, 0, 25, -1, 2, 17, -1, 5, 9, -1, -1, 19, 8, 0, -1, 1, 4, -1, 4, -1, 0, -1, -1, -1, 5, 15, -1, 32, -1, 48, 45, -1, 29, 2, 13, -1, -1, -1, 0, 2, -1, -1, -1, -1, 6, -1, -1, -1, 0, -1, -1, -1, -1, 0, -1, -1, -1, -1, -1, -1, -1, -1, -1, 0, -1, 6, -1, 1, 15, 52, 0, -1, -1, -1, 4, 18, -1, -1, -1, 0, -1, 4, 22, -1, 57, 2, -1, 14, -1, -1, -1, 16, -1, -1, -1, 0, 10, 9, 49, -1, 31, -1, 39, -1, -1, -1, -1, 4, 0, -1, 49, -1, -1, 10, 22, -1, -1, -1, 5, 0, 0, -1, 23, -1, -1, -1, -1, -1, -1, 10, -1, 0, -1, 1, -1, 58, -1, 27, -1, 0, 15, -1, -1, 0, -1, -1, 11, 6, 3, 0, -1, 55, 1, -1, 14, -1, 5, 0, 0, -1, 3, -1, 0, -1, 0, -1, 3, -1, -1, -1, -1, 9, -1, -1, -1, 6, -1, -1, -1, -1, 26, 8, 0, -1, -1, 3, 34, 0, -1, -1, 6, 43, 48, -1, 2, -1, -1, 25, 4, -1, -1, -1, -1, 44, 1, -1, 0, -1, 1, -1, -1, -1, -1, -1, -1, 3, 4, -1, -1, 15, 0, 22, -1, -1, -1, 57, -1, -1, 17, 18, -1, 42, -1, 31, -1, -1, 22, 4, -1, 17, 28, 0, -1, -1, -1, 3, 16, -1, -1, -1, -1, -1, 35, -1, -1, 31, 21, 11, -1, 2, 10, 6, 10, -1, 28, 0, -1, -1, -1, 0, 0, 2, -1, -1, 0, -1, 2, -1, 53, 5, -1, -1, -1, -1, -1, 11, 2, -1, 0, -1, -1, -1, 0, -1, -1, -1, 16, 58, 4, 17, -1, 12, 3, -1, -1, 20, 28, -1, 35, 7, 24, 2, 0, -1, 0, 31, -1, -1, -1, 2, 4, 0, 0, 18, -1, 0, -1, 22, 8, -1, 22, -1, -1, -1, 0, 2, -1, -1, -1, 2, 55, -1, -1, -1, -1, 3, -1, -1, 1, -1, 43, 3, 8, 40, -1, 20, -1, 0, -1, -1, -1, 0, -1, -1, 0, -1, -1, -1, 14, -1, -1, 18, -1, -1, 2, -1, -1, -1, -1, -1, -1, 0, 5, 5, -1, 41, 8, 0, 21, -1, 41, -1, 5, -1, -1, -1, 8, -1, -1, -1, -1, 11, 23, 0, -1, 3, 21, -1, 7, -1, -1, -1, -1, 3, -1, -1, 2, 9, -1, -1, 35, 21, 58, -1, -1, -1, 3, 1, -1, 45, -1, 24, -1, 0, -1, 11, -1, -1, -1, 9, 37, -1, 3, -1, 2, 31, -1, -1, -1, -1, -1, -1, 9, -1, 6, 10, -1, 21, -1, 34, 18, 0, -1, -1, -1, 8, -1, -1, 3, -1, -1, -1, -1, -1, -1, -1, -1, -1, -1, 0, -1, 26, 2, 0, -1, -1, 36, 3, -1, 12, -1, -1, -1, -1, -1, -1, -1, 0, -1, -1, 2, -1, -1, -1, -1, -1, 19, -1, 30, 0, 5, -1, 15, 27, -1, -1, 0, -1, 14, -1, -1, 57, -1, 4, 1, -1, 1, 0, 0, 5, 0, -1, -1, -1, 9, -1, -1, -1, -1, 17, 22, -1, -1, 12, -1, -1, -1, 12, 9, 46, -1, -1, -1, 1, 34, -1, 10, 19, -1, 0, 39, 8, -1, 11, -1, 1, -1, -1, -1, -1, -1, 0, 3, 4, -1, -1, 24, -1, -1, -1, 0, 1, -1, 0, -1, -1, 1, -1, 10, 2, -1, -1, -1, 8, 21, -1, -1, -1, -1, 0, 10, -1, -1, 1, 19, -1, -1, 24, -1, -1, 49, 3, -1, -1, -1, 16, -1, -1, 0, -1, 0, 24, -1, -1, -1, 2, 0, 0, -1, 11, -1, -1, -1, -1, 3, -1, 24, 0, 3, -1, -1, 0, 9, -1, 0, 0, -1, -1, -1, -1, -1, -1, -1, -1, 10, -1, 1, 0, 0, -1, 0, 41, 0, 12, -1, -1, 2, -1, -1, -1, 1, -1, 34, -1, -1, -1, -1, 14, -1, 14, -1, -1, -1, -1, -1, 20, 4, 0, -1, -1, -1, -1, -1, -1, -1, 5, -1, 2, 0, -1, -1, 27, 0, 2, 8, -1, 38, -1, -1, 0, 2, 0, 8, 8, 4, -1, -1, 43, 2, -1, 27, -1, 0, -1, -1, -1, -1, 0, -1, 52, 21, 0, -1, -1, 1, 0, 7, -1, -1, -1, 0, 3, 21, -1, -1, -1, -1, -1, -1, -1, -1, 16, 0, 22, -1, 14, -1, -1, 36, -1, -1, 3, -1, -1, -1, -1, -1, -1, 0, 1, 15, 5, 0, 53, 32, 18, 49, -1, 13, -1, 49, 25, -1, 11, -1, -1, 3, 39, -1, -1, 20, 19, 6, 3, 2, 11, -1, -1, -1, 24, 34, 24, -1, 0, -1, -1, 13, 45, 1, -1, 1, 0, -1, 0, 0, 22, -1, -1, -1, 6, 11, -1, -1, -1, -1, 0, 4, 35, -1, 28, -1, -1, 2, -1, 14, -1, -1, 26, -1, 38, -1, -1, 6, -1, 27, -1, -1, -1, -1, -1, 3, 27, 19, 1, -1, 1, 3, -1, -1, 0, -1, -1, 1, -1, 0, -1, -1, -1, 57, -1, -1, -1, 3, 2, 29, 0, -1, -1, -1, -1, -1, 2, -1, 0, 3, 30, 0, -1, -1, 0, -1, 21, 2, -1, -1, 0, 43, 3, 20, -1, 4, 3, -1, -1, 37, -1, -1, -1, -1, 0, 1, 23, 11, -1, 26, -1, 13, -1, 5, -1, -1, -1, 43, 1, 11, -1, 0, -1, -1, -1, 34, 11, 26, 0, -1, 29, 29, -1, -1, -1, -1, -1, -1, -1, 14, -1, 10, -1, -1, 30, -1, -1, -1, 27, 4, -1, -1, 28, 0, 0, -1, 9, -1, 40, -1, -1, 44, 1, -1, -1, -1, 0, -1, 0, -1, -1, -1, -1, -1, -1, 17, -1, 0, 2, -1, 23, 15, -1, 34, -1, -1, 0, 0, -1, 5, -1, -1, 25, 2, 5, 16, 0, 4, 2, -1, 23, 0, -1, -1, 0, 56, -1, 1, -1, 4, 11, -1, -1, 0, -1, 52, -1, -1, -1, -1, -1, -1, 0, 5, -1, 2, -1, 0, -1, 1, -1, -1, 0, -1, 4, 8, 0, 36, 0, -1, -1, -1, 24, -1, -1, -1, -1, 0, -1, 20, -1, -1, 0, 27, -1, 14, 18, -1, -1, -1, 45, -1, 2, 0, -1, 23, -1, 3, -1, -1, 0, -1, 2, 0, -1, 12, -1, -1, 36, 34, 35, 1, 3, -1, -1, 3, 0, -1, 30, -1, 0, -1, -1, 2, -1, 0, 38, 41, -1, 0, 29, 37, -1, -1, 13, -1, -1, 1, 14, -1, -1, -1, -1, 1, -1, -1, 37, -1, 12, -1, -1, -1, -1, 58, 4, 11, -1, -1, -1, -1, -1, 3, 0, -1, 0, 44, -1, -1, -1, -1, 26, 1, -1, 1, 3, -1, 2, -1, -1, -1, 2, -1, 1, -1, 17, -1, -1, -1, 3, -1, 51, -1, -1, 25, 49, 3, 35, 15, -1, 36, -1, 17, 2, -1, -1, -1, -1, -1, 0, -1, 11, -1, 46, -1, 0, -1, 15, 0, -1, 10, 5, 0, -1, -1, 7, -1, 13, 3, -1, 2, -1, 8, -1, 5, 12, -1, 15, 0, 20, 0, 13, -1, -1, -1, 1, -1, 0, -1, -1, 27, 38, 0, -1, -1, -1, -1, 0, -1, -1, -1, -1, -1, 29, -1, -1, 18, 27, -1, -1, 2, -1, 27, 0, -1, -1, 0, 3, 3, -1, 20, 2, -1, -1, 19, -1, -1, -1, 0, 40, -1, 0, -1, -1, -1, -1, -1, 0, -1, -1, -1, 0, -1, 0, -1, 5, -1, -1, 0, -1, 5, -1, -1, 7, -1, -1, 0, -1, 7, -1, 17, 26, -1, 1, 0, -1, -1, -1, -1, -1, -1, 0, -1, -1, 3, 0, 0, 19, -1, 0, 0, -1, -1, -1, 1, -1, -1, 20, 3, -1, -1, -1, -1, 5, 32, 2, -1, -1, -1, -1, -1, 4, 8, -1, 1, -1, -1, -1, 40, -1, 29, 42, 33, 0, -1, -1, 0, 30, -1, 0, -1, 15, -1, -1, -1, -1, 5, -1, -1, -1, -1, 1, -1, -1, 1, -1, 20, 0, 15, -1, -1, 25, -1, -1, -1, -1, -1, 0, 6, -1, 1, -1, -1, -1, 0, 40, 5, 14, -1, -1, 16, -1, 6, -1, -1, 0, -1, 50, -1, 6, 16, 0, -1, 24, 0, -1, -1, 53, 14, -1, -1, -1, 33, -1, -1, -1, 30, 33, 6, -1, -1, -1, -1, -1, 26, -1, 2, 16, -1, -1, 14, -1, 25, 0, 11, 13, -1, 10, -1, -1, -1, -1, 39, 0, -1, -1, -1, -1, -1, 11, 5, 2, -1, 0, 0, -1, -1, -1, 11, 21, -1, 5, 3, 26, -1, -1, -1, -1, -1, 0, 7, 0, 4, 53, 3, -1, -1, -1, 5, -1, 0, 3, -1, -1, 0, 1, -1, -1, 4, 27, 34, 48, -1, 20, -1, -1, -1, -1, -1, -1, 1, -1, -1, -1, 27, 0, -1, -1, -1, -1, -1, -1, 6, -1, 17, -1, 45, -1, 12, -1, -1, -1, -1, -1, -1, -1, -1, -1, 20, 3, -1, 36, 23, -1, -1, 10, 1, 0, -1, 6, -1, 0, 0, -1, 5, 2, 0, 2, 13, 11, 42, -1, 0, -1, -1, 0, 10, 0, -1, -1, -1, 3, -1, -1, 9, 35, -1, 0, -1, 0, -1, -1, 38, -1, 6, -1, 3, 43, 1, 2, -1, 0, 5, -1, -1, 6, 1, 2, -1, -1, 2, 0, -1, -1, 10, -1, -1, -1, -1, 16, -1, -1, -1, 0, 0, 33, 0, 5, -1, 9, 0, -1, 1, 0, -1, -1, -1, 3, 7, -1, -1, -1, -1, -1, -1, 20, -1, 31, -1, -1, -1, 1, -1, -1, -1, -1, -1, -1, 49, -1, 1, 0, 27, -1, 2, 0, 2, -1, 9, 35, 58, -1, -1, 3, -1, -1, -1, 40, 9, -1, 1, -1, -1, -1, 2, -1, 26, 22, -1, 50, -1, 27, 4, -1, 1, -1, 22, 0, 10, -1, 4, 2, -1, 2, -1, 42, -1, 3, 33, -1, -1, 11, 6, 4, 2, 27, 19, -1, -1, -1, -1, -1, -1, 21, 50, -1, 14, -1, -1, -1, -1, -1, -1, -1, -1, 0, -1, -1, -1, 3, -1, 10, -1, -1, 0, 32, -1, -1, -1, -1, -1, -1, 3, 10, 3, 10, -1, -1, 0, -1, -1, -1, -1, 19, 0, -1, -1, -1, -1, 2, -1, -1, -1, -1, 13, -1, 56, 0, -1, 45, -1, -1, -1, -1, -1, -1, -1, -1, -1, -1, -1, -1, -1, 37, 21, -1, 10, 1, 20, -1, -1, -1, 4, -1, -1, 6, 0, 0, -1, 1, -1, -1, 0, 56, -1, -1, -1, 26, -1, 0, 2, -1, 3, -1, 1, 0, 9, 0, -1, -1, -1, -1, 16, 3, -1, 1, -1, -1, -1, -1, -1, -1, 16, 11, 1, 30, 0, 0, -1, 0, -1, 33, 12, -1, -1, 35, 14, -1, -1, -1, 5, -1, 0, -1, -1, 23, -1, 21, -1, -1, -1, -1, 54, 0, -1, -1, 5, -1, 27, 0, 55, -1, -1, -1, 0, 0, 39, -1, 1, 0, 27, -1, -1, 6, 6, 14, 3, 8, -1, 0, -1, 36, -1, 5, 0, -1, 1, -1, -1, 2, 11, -1, -1, 0, 0, 21, 27, -1, 1, -1, -1, -1, -1, 52, -1, 16, 1, 3, -1, 0, 0, 55, 5, -1, 0, 0, -1, -1, -1, -1, -1, -1, 10, -1, 0, 9, -1, 59, 0, -1, 4, -1, 36, -1, -1, -1, 50, 38, -1, -1, 0, 11, -1, -1, -1, 0, -1, -1, 1, -1, -1, 0, 7, 44, 8, 44, -1, -1, 0, -1, 7, -1, 7, 1, 0, 42, 47, 4, -1, -1, 5, -1, -1, -1, 0, 0, 16, -1, 3, 35, -1, 2, -1, -1, -1, 43, -1, -1, -1, 2, 7, 0, -1, -1, 16, -1, 42, -1, 6, -1, 48, -1, -1, -1, 41, -1, -1, -1, -1, 26, -1, 9, 6, -1, 3, -1, 12, 5, -1, 1, 35, -1, -1, 34, 3, 4, -1, 0, -1, -1, -1, 0, 1, 6, -1, 2, 37, 8, 57, -1, -1, -1, -1, -1, 50, 16, -1, -1, -1, 39, 15, -1, -1, 0, -1, 41, -1, -1, -1, 0, 0, -1, 10, 1, -1, 55, -1, -1, -1, -1, 0, 31, -1, 7, 15, -1, 31, -1, 46, -1, 2, 0, 3, 54, -1, -1, -1, -1, -1, 4, -1, 1, 6, 18, -1, -1, 36, 24, -1, -1, 8, 52, -1, 0, 27, -1, 14, 36, -1, -1, 0, -1, 2, 25, 41, 4, 16, 3, 2, -1, -1, 0, 0, 11, 0, 18, 51, -1, -1, 0, -1, 28, -1, 0, 59, 37, -1, -1, -1, -1, -1, -1, -1, -1, 0, 16, 21, -1, -1, 0, -1, 29, -1, -1, 51, -1, -1, -1, 0, -1, 4, 0, 33, -1, 1, -1, 0, 6, -1, -1, -1, -1, -1, -1, -1, 23, -1, -1, -1, -1, 4, -1, -1, 0, 0, 0, -1, 2, -1, -1, -1, -1, -1, -1, -1, 15, 10, 45, 2, -1, 22, 6, 8, 1, -1, -1, -1, -1, -1, -1, -1, -1, 0, -1, 19, -1, -1, -1, -1, 3, -1, 18, -1, 9, -1, -1, 20, 11, -1, -1, -1, -1, 6, -1, 4, -1, 28, 0, -1, -1, -1, -1, 1, 6, 31, 8, 0, -1, 0, -1, -1, 24, -1, -1, -1, 0, 25, 13, 15, -1, -1, 0, -1, 9, -1, 10, 2, 0, -1, -1, 0, -1, 0, 26, 0, -1, 57, -1, 14, 15, 47, -1, -1, -1, 3, -1, 9, 40, -1, -1, 35, 38, -1, 0, 57, -1, -1, -1, -1, -1, 5, 12, -1, 0, -1, 0, -1, 2, 0, -1, 0, -1, 0, -1, 0, 5, 32, 6, -1, 2, 15, -1, 12, 1, 33, -1, -1, 13, 12, -1, -1, -1, 28, -1, 1, 26, -1, -1, -1, 39, -1, -1, -1, 25, -1, -1, 0, 0, 0, 0, 3, 12, -1, -1, -1, -1, -1, -1, 6, 50, 1, 1, 29, -1, -1, -1, 6, -1, 18, 0, 45, -1, -1, -1, -1, -1, -1, 1, -1, 11, 12, 7, 0, 5, 1, -1, 11, 22, -1, -1, -1, 18, -1, -1, 11, -1, -1, -1, -1, -1, 2, -1, 0, 3, -1, 0, -1, -1, 5, -1, -1, -1, 0, -1, 2, -1, -1, -1, 5, -1, -1, -1, 13, 4, 0, 0, -1, -1, -1, 14, -1, 4, -1, -1, 0, -1, 22, 21, 3, -1, -1, 0, -1, 5, -1, -1, -1, -1, -1, 0, -1, -1, 0, 24, 0, -1, 13, -1, -1, 18, 2, 5, -1, -1, -1, -1, 0, 3, -1, -1, -1, 1, 15, -1, 58, -1, -1, -1, -1, -1, -1, 4, 11, 18, -1, -1, -1, 0, -1, -1, 0, -1, -1, 1, -1, 1, -1, -1, -1, -1, -1, -1, -1, -1, 58, 22, -1, 13, 37, -1, 6, 6, -1, 8, -1, 3, 47, 0, -1, 1, -1, -1, 5, -1, 31, 5, 1, 0, -1, -1, 3, -1, -1, -1, -1, 4, 0, 15, 48, 0, -1, 4, -1, -1, -1, 21, -1, 9, -1, -1, -1, -1, 4, -1, -1, -1, 0, 1, 35, 1, 4, -1, -1, -1, 0, -1, -1, 2, -1, -1, -1, 33, 17, -1, -1, -1, -1, 0, 0, 4, 0, -1, 0, 4, 5, -1, -1, -1, -1, -1, -1, -1, -1, -1, -1, -1, 41, 49, 24, 0, -1, -1, 0, 30, 17, -1, 33, -1, 0, -1, 14, -1, 57, -1, -1, 23, -1, -1, -1, -1, 12, -1, 13, 9, -1, 0, -1, 33, 2, -1, 55, -1, -1, 23, -1, -1, 1, -1, -1, -1, 0, 3, 11, 2, -1, 4, 3, 13, 2, -1, -1, 18, 6, 4, 0, -1, 40, 1, -1, -1, -1, -1, 2, -1, 11, 46, -1, -1, -1, 27, 0, 33, -1, 11, 16, 15, 0, -1, -1, 0, -1, 0, -1, 17, 45, -1, 59, -1, -1, -1, -1, -1, 0, -1, 0, 31, -1, -1, -1, -1, -1, 6, -1, 0, -1, -1, -1, 0, 2, 44, 50, 3, 1, 7, 6, -1, 52, -1, 33, -1, 26, 1, 2, 4, -1, 45, 24, -1, 6, 39, 11, 6, -1, -1, 4, 17, 2, 3, -1, -1, -1, -1, 0, 29, -1, 59, -1, 6, -1, -1, 2, 5, 33, -1, 1, -1, 30, -1, -1, 6, -1, -1, -1, -1, 24, 31, -1, -1, -1, 38, -1, 6, 0, -1, 4, -1, -1, -1, 25, 0, -1, -1, -1, 4, -1, -1, -1, -1, -1, -1, -1, -1, 58, -1, -1, -1, 0, -1, 31, -1, 3, -1, -1, -1, 10, -1, -1, 2, 13, -1, -1, 2, -1, 4, 46, 0, -1, 1, 53, 25, -1, 0, 2, -1, -1, 21, -1, -1, -1, 1, -1, 53, -1, -1, -1, -1, -1, -1, 0, -1, -1, -1, 21, 52, -1, -1, -1, -1, -1, -1, 48, -1, -1, 1, 45, 38, -1, -1, 0, 0, 28, 7, 52, -1, 0, 12, -1, 4, -1, -1, 5, 20, -1, -1, -1, 11, -1, 15, 29, -1, -1, 57, -1, -1, 54, -1, 3, -1, -1, -1, 12, 51, 1, 1, -1, -1, 1, 0, 0, -1, -1, 0, -1, 42, -1, -1, -1, 0, 3, -1, 2, -1, -1, -1, -1, -1, 27, -1, -1, -1, -1, 2, -1, 39, 40, 2, 13, 3, 0, 31, -1, 0, -1, -1, 0, -1, 3, -1, 5, -1, -1, -1, 0, 59, 4, 4, 10, -1, -1, -1, -1, -1, -1, -1, -1, -1, -1, 0, -1, 36, -1, 0, 3, 0, -1, -1, -1, -1, -1, -1, 48, 0, 17, 13, -1, 49, 15, -1, -1, -1, -1, 0, -1, 22, 15, 1, -1, -1, -1, -1, 6, -1, 47, 36, 8, -1, -1, -1, 11, 6, 25, 8, -1, -1, -1, 14, 0, 19, 46, -1, -1, 37, -1, 0, 9, 0, 5, 3, -1, 28, 55, 3, -1, 0, 0, 4, -1, 0, -1, 32, -1, -1, -1, -1, 0, 0, 4, 8, 3, -1, -1, -1, -1, -1, 1, 0, -1, -1, -1, 36, 6, -1, -1, -1, 1, 0, 36, -1, -1, -1, 34, -1, 58, 8, -1, -1, -1, 47, -1, -1, -1, -1, -1, -1, -1, 0, -1, -1, 38, 13, -1, 7, -1, -1, -1, -1, 26, 1, 10, -1, -1, -1, -1, -1, 13, 1, -1, -1, 8, 35, -1, -1, 10, -1, 26, 7, 7, -1, -1, -1, 36, 2, -1, 47, -1, -1, 8, 0, 59, 0, -1, -1, 0, 7, 1, 0, -1, -1, -1, 0, 0, -1, 0, 2, 7, 14, -1, 6, -1, -1, 4, 18, 32, -1, 20, -1, -1, -1, -1, -1, -1, -1, 1, 5, -1, 0, 10, -1, 0, -1, -1, -1, 51, 54, 0, -1, 45, 2, -1, -1, -1, 8, 2, 6, -1, -1, -1, 3, 42, -1, 2, -1, 2, 1, 0, -1, 12, 0, -1, -1, 0, 2, 14, -1, -1, -1, 5, 6, 3, -1, 22, -1, 3, 43, -1, -1, -1, 21, -1, 0, 0, 0, 3, -1, 52, -1, -1, -1, -1, 0, 27, 11, 37, 8, -1, 21, -1, 11, 4, -1, -1, -1, 26, 17, 25, -1, 58, 57, -1, -1, -1, -1, 16, -1, 5, -1, 4, 20, 1, -1, 21, 28, -1, -1, -1, -1, 0, 0, 0, -1, 0, -1, -1, -1, 0, 5, -1, 1, -1, -1, 0, -1, -1, 25, -1, 0, 33, -1, -1, 0, -1, -1, -1, -1, -1, -1, -1, -1, -1, 3, -1, -1, -1, 50, -1, 27, 2, -1, -1, -1, 13, -1, -1, 53, 27, 52, -1, 1, -1, -1, 16, -1, 6, 0, 17, -1, -1, -1, 0, 34, 19, 1, -1, -1, -1, -1, -1, 1, -1, -1, 5, -1, -1, 3, 15, 43, 42, 31, -1, -1, 7, -1, 0, -1, -1, -1, -1, -1, 25, 5, -1, 13, -1, -1, 35, 1, -1, 11, -1, -1, 0, 0, 0, -1, -1, -1, -1, 0, -1, 9, 40, -1, -1, -1, -1, -1, 0, 22, -1, 3, -1, 32, 36, 50, -1, 27, 6, -1, -1, 16, -1, -1, 13, 1, -1, 3, -1, -1, -1, -1, -1, 2, -1, -1, -1, -1, -1, -1, 0, 0, 7, -1, -1, 5, -1, -1, 19, -1, -1, -1, 13, 0, 42, 1, -1, 6, 55, -1, 1, -1, 0, -1, 5, -1, 20, 19, 0, -1, -1, -1, 6, -1, 20, -1, -1, 6, 51, -1, -1, -1, -1, -1, -1, 0, 45, -1, -1, -1, -1, 3, -1, 0, -1, -1, 4, -1, -1, 11, -1, 2, -1, -1, 52, -1, 59, -1, 33, -1, 23, -1, 5, 0, 16, -1, 1, 0, 8, 50, 41, 35, 0, -1, -1, -1, 0, 4, -1, -1, 43, -1, -1, -1, 0, 10, 43, -1, 49, -1, -1, 4, 24, 0, 43, 14, -1, -1, 7, 1, 9, -1, -1, -1, 22, 5, 0, 0, 30, -1, -1, 0, 43, 3, 2, -1, 1, -1, -1, -1, 55, 46, -1, -1, 3, 40, 28, -1, 1, 14, -1, 48, 45, 4, 38, 0, 5, 8, -1, -1, 16, 13, 15, 3, -1, -1, -1, -1, -1, 48, 3, 42, -1, 43, -1, -1, -1, 0, 34, 46, -1, -1, -1, 0, -1, -1, -1, 6, 1, 0, -1, -1, -1, 3, -1, -1, 3, -1, -1, 13, 31, -1, -1, -1, 25, -1, -1, -1, -1, -1, -1, 15, 0, 1, 18, -1, 0, -1, 0, 2, -1, -1, -1, 31, -1, -1, 6, -1, -1, -1, -1, -1, -1, -1, 38, -1, -1, -1, -1, -1, -1, -1, 5, -1, 0, 53, 7, -1, 0, -1, -1, 22, 3, -1, 6, 2, -1, 12, 2, 40, 0, 1, 0, 7, -1, -1, -1, 8, 22, -1, 3, -1, -1, -1, -1, 23, -1, 7, 12, 8, -1, 57, -1, 46, 27, -1, -1, -1, 15, -1, -1, -1, 11, -1, 10, 0, 27, 1, 1, -1, -1, -1, -1, -1, -1, 1, 0, 0, 1, 41, 12, 0, 0, -1, -1, 3, -1, 37, -1, -1, 59, -1, 26, 41, -1, 36, -1, 6, -1, 5, -1, 9, 14, 21, 9, -1, -1, -1, -1, 5, -1, 0, -1, -1, 0, 0, -1, -1, 52, 2, -1, -1, 0, -1, -1, 27, 2, -1, -1, 44, -1, 0, 33, -1, -1, -1, -1, 43, -1, -1, 7, 54, 49, -1, 48, -1, 7, 49, 16, -1, 28, 6, 4, -1, 29, -1, -1, -1, -1, 50, 2, 1, 0, 5, 1, -1, 18, 1, -1, -1, 29, -1, 0, 0, -1, 5, 2, -1, -1, -1, 23, -1, -1, 56, 0, -1, -1, -1, 1, 1, -1, -1, -1, 17, 0, -1, -1, 5, 31, -1, 13, -1, 11, 0, 0, 0, -1, -1, 53, 8, -1, 32, 27, 0, 4, 1, 14, 3, 20, -1, 4, -1, -1, -1, -1, 37, -1, -1, -1, 0, -1, 13, -1, -1, -1, -1, 3, -1, -1, -1, -1, -1, 58, 1, 15, -1, 4, 0, -1, -1, -1, 5, 39, 13, -1, -1, 6, 2, -1, 0, 3, -1, 2, -1, 9, 15, -1, 7, 38, 0, 14, -1, -1, -1, -1, -1, -1, 15, 0, -1, 0, -1, 13, 16, 1, -1, 29, -1, 21, -1, -1, 0, -1, -1, -1, 0, 2, 0, 39, -1, 2, 34, 15, -1, 44, -1, 1, 53, 4, 16, -1, -1, -1, -1, -1, 6, -1, 1, -1, -1, 0, 1, -1, 1, 44, 33, 18, 0, 4, 9, 2, -1, -1, 0, -1, 4, -1, 9, 8, -1, 52, -1, -1, 3, 2, -1, -1, -1, -1, 29, 55, -1, 6, -1, 58, -1, -1, -1, -1, 40, 25, -1, 25, -1, -1, 2, -1, -1, 24, 3, 37, -1, 0, 8, 6, 44, -1, 13, 9, -1, -1, -1, 4, 16, 23, 2, 1, -1, -1, -1, -1, -1, -1, 6, -1, -1, -1, -1, 5, -1, 2, -1, -1, -1, -1, 15, -1, 0, -1, 9, -1, -1, -1, -1, 4, 25, -1, 57, -1, 24, -1, -1, 17, -1, -1, -1, -1, 2, -1, -1, -1, -1, -1, 14, -1, -1, 10, 3, -1, -1, 5, 54, -1, 36, 7, -1, 19, 12, 7, 0, 39, 1, 7, 7, -1, 54, 19, 3, 2, 49, -1, 27, 40, 1, 46, -1, 10, -1, -1, 34, -1, -1, -1, 14, -1, 4, 0, -1, -1, -1, -1, 1, 6, 13, -1, -1, -1, -1, -1, 7, 42, 29, -1, -1, 3, -1, 54, 25, -1, -1, 13, 38, 11, -1, 6, 13, 0, -1, -1, -1, 4, 0, 0, 30, 3, 2, -1, 21, -1, -1, 0, -1, 18, -1, 1, -1, -1, -1, -1, -1, -1, 1, 0, -1, -1, 19, -1, -1, 25, 11, 30, 13, -1, 11, 11, -1, -1, 1, 1, -1, 0, -1, 4, 25, -1, 32, -1, 0, -1, 1, 4, -1, -1, 1, -1, -1, 10, -1, 34, -1, 29, 0, 0, -1, -1, -1, 28, 0, -1, 18, -1, -1, -1, -1, -1, -1, 26, 56, -1, -1, 54, -1, 2, -1, -1, 0, -1, 4, -1, -1, 0, -1, 2, -1, 2, 9, -1, 5, 23, -1, -1, 9, 14, 0, 48, 0, 0, -1, -1, -1, -1, -1, 7, 18, 10, -1, 11, -1, -1, 1, 2, -1, -1, 0, 23, -1, 0, -1, 0, 0, -1, -1, 30, -1, -1, -1, 4, 1, -1, -1, -1, 35, 32, 0, -1, 24, -1, -1, 5, -1, -1, -1, -1, -1, 0, 47, -1, -1, -1, 3, 53, -1, 57, -1, -1, -1, -1, 9, -1, -1, 27, -1, -1, 40, -1, -1, -1, 0, 0, -1, -1, -1, 0, -1, -1, -1, 59, 3, 8, -1, -1, -1, -1, 51, 36, 2, 39, -1, -1, -1, -1, -1, -1, -1, 5, -1, 4, -1, 1, -1, 3, -1, -1, 43, -1, 57, -1, -1, 13, 4, 9, 0, 26, -1, 35, -1, -1, -1, 14, 56, 3, 33, 7, -1, -1, 0, -1, 25, -1, -1, -1, 2, -1, -1, -1, 26, 13, -1, 4, -1, 12, -1, -1, -1, 11, -1, 18, -1, -1, 37, 29, 0, 14, 2, 8, -1, -1, -1, 36, 0, -1, -1, -1, -1, 5, -1, -1, -1, 12, -1, -1, 10, 0, -1, 0, -1, -1, -1, 26, 29, -1, -1, 20, -1, -1, 8, -1, -1, 3, 8, 53, 23, 7, 4, 29, -1, 4, 1, -1, -1, -1, -1, -1, -1, 9, -1, -1, -1, 6, -1, 0, -1, -1, 19, 5, -1, 11, -1, -1, -1, -1, 11, -1, 1, -1, -1, 18, -1, -1, -1, -1, 41, 1, -1, 1, 37, -1, 0, -1, 3, -1, -1, 6, -1, 59, -1, 3, -1, -1, 52, 5, -1, 2, 32, 27, 3, -1, 0, 1, -1, -1, -1, 29, 1, -1, -1, -1, -1, 7, -1, -1, -1, -1, -1, 13, 26, -1, 47, -1, -1, -1, -1, -1, -1, 30, -1, -1, 49, 3, -1, 0, -1, -1, -1, 3, -1, -1, -1, 6, -1, 6, 14, -1, 2, 5, 39, 7, 55, -1, 0, -1, 51, 19, 0, 6, 4, 7, -1, -1, -1, -1, -1, 12, -1, 1, 0, 0, 0, 0, -1, 34, -1, -1, -1, -1, -1, 10, 0, 0, 5, 1, -1, 13, 45, -1, -1, 47, 21, -1, 6, -1, 18, -1, -1, 8, -1, 1, -1, -1, 46, 0, -1, 41, -1, 49, 28, 8, -1, -1, -1, -1, 36, 5, -1, -1, -1, -1, -1, 1, -1, 4, -1, 1, 8, 29, -1, 19, -1, -1, 0, 0, 31, 0, 27, -1, -1, 7, 0, -1, -1, -1, -1, -1, 3, 24, -1, 16, -1, -1, 0, 6, -1, 17, 0, 0, 9, 2, 3, 0, 18, 5, -1, -1, 15, -1, -1, -1, 22, -1, -1, -1, -1, -1, 18, 3, -1, 0, -1, 34, -1, -1, -1, 0, -1, -1, 1, 0, 4, 4, 0, 57, -1, 0, -1, 1, 40, 0, 12, -1, 2, -1, 38, -1, -1, 1, -1, -1, 32, -1, -1, -1, -1, 49, 14, 1, 37, -1, -1, 5, -1, 9, -1, -1, 59, -1, 53, 58, 0, -1, 0, 34, 12, -1, -1, -1, 41, -1, -1, 1, 0, -1, -1, -1, -1, 1, -1, -1, 22, 0, -1, -1, 0, 39, 30, -1, -1, 41, -1, 3, -1, -1, -1, -1, 0, 0, -1, -1, -1, -1, -1, 4, 10, -1, -1, 1, -1, 39, 9, 29, 5, -1, 31, 2, 24, -1, 0, -1, -1, 0, -1, 4, -1, 11, 30, 23, 32, -1, -1, -1, 4, -1, -1, 38, 3, -1, -1, 0, 6, -1, -1, 4, -1, -1, -1, -1, -1, -1, 0, 5, -1, 0, -1, 8, 20, -1, -1, 5, 3, -1, -1, -1, -1, -1, -1, -1, 24, 2, 19, 0, -1, 6, 0, -1, 1, 58, 27, -1, -1, 46, 11, 2, 11, -1, -1, -1, 0, -1, -1, 0, 13, -1, 59, -1, -1, 5, -1, 36, -1, -1, 3, -1, -1, 6, 43, -1, 0, -1, 0, -1, -1, -1, -1, -1, 3, 0, 3, 34, -1, -1, -1, -1, 23, 6]\n"
          ]
        }
      ]
    },
    {
      "cell_type": "markdown",
      "source": [],
      "metadata": {
        "id": "ipzieuf2J4rr"
      }
    },
    {
      "cell_type": "markdown",
      "metadata": {
        "id": "LXYJ745O-03Z"
      },
      "source": [
        "# **Search Topics**\n",
        "After having trained our model, we can use `find_topics` to search for topics that are similar \n",
        "to an input search_term. Here, we are going to be searching for topics that closely relate the \n",
        "search term \"vehicle\". Then, we extract the most similar topic and check the results: "
      ]
    },
    {
      "cell_type": "code",
      "metadata": {
        "colab": {
          "base_uri": "https://localhost:8080/"
        },
        "id": "lAdiVYej-2i-",
        "outputId": "c107bd7d-1025-4d4d-b179-d007c7d16cd2"
      },
      "source": [
        "similar_topics, similarity = topic_model.find_topics(\"vehicle\", top_n=5); similar_topics"
      ],
      "execution_count": null,
      "outputs": [
        {
          "output_type": "execute_result",
          "data": {
            "text/plain": [
              "[71, 45, 77, 9, 56]"
            ]
          },
          "metadata": {
            "tags": []
          },
          "execution_count": 11
        }
      ]
    },
    {
      "cell_type": "code",
      "metadata": {
        "colab": {
          "base_uri": "https://localhost:8080/"
        },
        "id": "Q9paNa09d3Xy",
        "outputId": "545bbd07-8850-46d4-fdb7-28cb3d158b15"
      },
      "source": [
        "topic_model.get_topic(71)"
      ],
      "execution_count": null,
      "outputs": [
        {
          "output_type": "execute_result",
          "data": {
            "text/plain": [
              "[('car', 0.03740731827314482),\n",
              " ('the car', 0.027790363401304377),\n",
              " ('dealer', 0.013837911908704722),\n",
              " ('the dealer', 0.009515109324321468),\n",
              " ('owner', 0.008430722097917726),\n",
              " ('previous owner', 0.008157988442865012),\n",
              " ('cars', 0.005827046491488879),\n",
              " ('the odometer', 0.00514870077683653),\n",
              " ('bought car', 0.004667512506960727),\n",
              " ('car with', 0.004498685875558186)]"
            ]
          },
          "metadata": {
            "tags": []
          },
          "execution_count": 12
        }
      ]
    },
    {
      "cell_type": "markdown",
      "metadata": {
        "id": "wekNoQNuUVoU"
      },
      "source": [
        "# **Model serialization**\n",
        "The model and its internal settings can easily be saved. Note that the documents and embeddings will not be saved. However, UMAP and HDBSCAN will be saved. "
      ]
    },
    {
      "cell_type": "code",
      "metadata": {
        "id": "nWUF1uxiSb_a"
      },
      "source": [
        "# Save model\n",
        "topic_model.save(\"my_model\")\t"
      ],
      "execution_count": null,
      "outputs": []
    },
    {
      "cell_type": "code",
      "metadata": {
        "id": "y_eHBI1jSb6i"
      },
      "source": [
        "# Load model\n",
        "my_model = BERTopic.load(\"my_model\")\t"
      ],
      "execution_count": null,
      "outputs": []
    },
    {
      "cell_type": "markdown",
      "metadata": {
        "id": "2eyImbal7lb8"
      },
      "source": [
        "# **Embedding Models**\n",
        "The parameter `embedding_model` takes in a string pointing to a sentence-transformers model, a SentenceTransformer, or a Flair DocumentEmbedding model."
      ]
    },
    {
      "cell_type": "markdown",
      "metadata": {
        "id": "8ZKyW7NZpnEk"
      },
      "source": [
        "## Sentence-Transformers\n",
        "You can select any model from sentence-transformers here and pass it through BERTopic with embedding_model:\n",
        "\n"
      ]
    },
    {
      "cell_type": "code",
      "metadata": {
        "id": "k7sPgNfzprbP"
      },
      "source": [
        "topic_model = BERTopic(embedding_model=\"xlm-r-bert-base-nli-stsb-mean-tokens\")"
      ],
      "execution_count": null,
      "outputs": []
    },
    {
      "cell_type": "markdown",
      "metadata": {
        "id": "8vv7i1JTp62V"
      },
      "source": [
        "Or select a SentenceTransformer model with your own parameters:\n"
      ]
    },
    {
      "cell_type": "code",
      "metadata": {
        "id": "Eh5qp58Hp7Ua"
      },
      "source": [
        "from sentence_transformers import SentenceTransformer\n",
        "\n",
        "sentence_model = SentenceTransformer(\"distilbert-base-nli-mean-tokens\", device=\"cpu\")\n",
        "topic_model = BERTopic(embedding_model=sentence_model, verbose=True)"
      ],
      "execution_count": null,
      "outputs": []
    },
    {
      "cell_type": "markdown",
      "metadata": {
        "id": "SoMc1W-x7-b5"
      },
      "source": [
        "Click [here](https://www.sbert.net/docs/pretrained_models.html) for a list of supported sentence transformers models.  \n"
      ]
    }
  ]
}